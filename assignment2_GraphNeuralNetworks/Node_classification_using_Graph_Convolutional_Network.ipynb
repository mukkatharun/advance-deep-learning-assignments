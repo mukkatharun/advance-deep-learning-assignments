{
  "nbformat": 4,
  "nbformat_minor": 0,
  "metadata": {
    "colab": {
      "provenance": [],
      "authorship_tag": "ABX9TyPUqzWwgkcZKn4tMa7qqN+3",
      "include_colab_link": true
    },
    "kernelspec": {
      "name": "python3",
      "display_name": "Python 3"
    },
    "language_info": {
      "name": "python"
    }
  },
  "cells": [
    {
      "cell_type": "markdown",
      "metadata": {
        "id": "view-in-github",
        "colab_type": "text"
      },
      "source": [
        "<a href=\"https://colab.research.google.com/github/mukkatharun/advance-deep-learning-assignments/blob/main/assignment2_GraphNeuralNetworks/Node_classification_using_Graph_Convolutional_Network.ipynb\" target=\"_parent\"><img src=\"https://colab.research.google.com/assets/colab-badge.svg\" alt=\"Open In Colab\"/></a>"
      ]
    },
    {
      "cell_type": "markdown",
      "source": [
        "Install required packages"
      ],
      "metadata": {
        "id": "aUmpUXRyk2FC"
      }
    },
    {
      "cell_type": "code",
      "source": [
        "pip install stellargraph"
      ],
      "metadata": {
        "id": "i1XQc-0UjKhP"
      },
      "execution_count": null,
      "outputs": []
    },
    {
      "cell_type": "markdown",
      "source": [
        "Importing the required libraries"
      ],
      "metadata": {
        "id": "SWdPq4H_k6BU"
      }
    },
    {
      "cell_type": "code",
      "execution_count": 27,
      "metadata": {
        "id": "p68l9WgVi9RJ"
      },
      "outputs": [],
      "source": [
        "import pandas as pd\n",
        "import os\n",
        "\n",
        "import stellargraph as sg\n",
        "from stellargraph.mapper import FullBatchNodeGenerator\n",
        "from stellargraph.layer import GCN\n",
        "\n",
        "from tensorflow.keras import layers, optimizers, losses, metrics, Model\n",
        "from sklearn import preprocessing, model_selection\n",
        "from IPython.display import display, HTML\n",
        "from sklearn.decomposition import PCA\n",
        "from sklearn.manifold import TSNE\n",
        "import matplotlib.pyplot as plt\n",
        "%matplotlib inline"
      ]
    },
    {
      "cell_type": "code",
      "source": [
        "dataset = sg.datasets.Cora()\n",
        "display(HTML(dataset.description))\n",
        "G, node_subjects = dataset.load()"
      ],
      "metadata": {
        "colab": {
          "base_uri": "https://localhost:8080/",
          "height": 52
        },
        "id": "Pq0i23-ji_fB",
        "outputId": "92e93e69-58ab-487e-fb20-deaffcf4c3ed"
      },
      "execution_count": 4,
      "outputs": [
        {
          "output_type": "display_data",
          "data": {
            "text/plain": [
              "<IPython.core.display.HTML object>"
            ],
            "text/html": [
              "The Cora dataset consists of 2708 scientific publications classified into one of seven classes. The citation network consists of 5429 links. Each publication in the dataset is described by a 0/1-valued word vector indicating the absence/presence of the corresponding word from the dictionary. The dictionary consists of 1433 unique words."
            ]
          },
          "metadata": {}
        }
      ]
    },
    {
      "cell_type": "code",
      "source": [
        "node_subjects.value_counts().to_frame()"
      ],
      "metadata": {
        "colab": {
          "base_uri": "https://localhost:8080/",
          "height": 269
        },
        "id": "8FF3rGzJjQRn",
        "outputId": "b277dc98-9f94-4af6-b9a6-5a7a0492cbcb"
      },
      "execution_count": 5,
      "outputs": [
        {
          "output_type": "execute_result",
          "data": {
            "text/plain": [
              "                        subject\n",
              "Neural_Networks             818\n",
              "Probabilistic_Methods       426\n",
              "Genetic_Algorithms          418\n",
              "Theory                      351\n",
              "Case_Based                  298\n",
              "Reinforcement_Learning      217\n",
              "Rule_Learning               180"
            ],
            "text/html": [
              "\n",
              "  <div id=\"df-eea4f771-6fe3-4f38-a16c-8ec9b2ebca28\">\n",
              "    <div class=\"colab-df-container\">\n",
              "      <div>\n",
              "<style scoped>\n",
              "    .dataframe tbody tr th:only-of-type {\n",
              "        vertical-align: middle;\n",
              "    }\n",
              "\n",
              "    .dataframe tbody tr th {\n",
              "        vertical-align: top;\n",
              "    }\n",
              "\n",
              "    .dataframe thead th {\n",
              "        text-align: right;\n",
              "    }\n",
              "</style>\n",
              "<table border=\"1\" class=\"dataframe\">\n",
              "  <thead>\n",
              "    <tr style=\"text-align: right;\">\n",
              "      <th></th>\n",
              "      <th>subject</th>\n",
              "    </tr>\n",
              "  </thead>\n",
              "  <tbody>\n",
              "    <tr>\n",
              "      <th>Neural_Networks</th>\n",
              "      <td>818</td>\n",
              "    </tr>\n",
              "    <tr>\n",
              "      <th>Probabilistic_Methods</th>\n",
              "      <td>426</td>\n",
              "    </tr>\n",
              "    <tr>\n",
              "      <th>Genetic_Algorithms</th>\n",
              "      <td>418</td>\n",
              "    </tr>\n",
              "    <tr>\n",
              "      <th>Theory</th>\n",
              "      <td>351</td>\n",
              "    </tr>\n",
              "    <tr>\n",
              "      <th>Case_Based</th>\n",
              "      <td>298</td>\n",
              "    </tr>\n",
              "    <tr>\n",
              "      <th>Reinforcement_Learning</th>\n",
              "      <td>217</td>\n",
              "    </tr>\n",
              "    <tr>\n",
              "      <th>Rule_Learning</th>\n",
              "      <td>180</td>\n",
              "    </tr>\n",
              "  </tbody>\n",
              "</table>\n",
              "</div>\n",
              "      <button class=\"colab-df-convert\" onclick=\"convertToInteractive('df-eea4f771-6fe3-4f38-a16c-8ec9b2ebca28')\"\n",
              "              title=\"Convert this dataframe to an interactive table.\"\n",
              "              style=\"display:none;\">\n",
              "        \n",
              "  <svg xmlns=\"http://www.w3.org/2000/svg\" height=\"24px\"viewBox=\"0 0 24 24\"\n",
              "       width=\"24px\">\n",
              "    <path d=\"M0 0h24v24H0V0z\" fill=\"none\"/>\n",
              "    <path d=\"M18.56 5.44l.94 2.06.94-2.06 2.06-.94-2.06-.94-.94-2.06-.94 2.06-2.06.94zm-11 1L8.5 8.5l.94-2.06 2.06-.94-2.06-.94L8.5 2.5l-.94 2.06-2.06.94zm10 10l.94 2.06.94-2.06 2.06-.94-2.06-.94-.94-2.06-.94 2.06-2.06.94z\"/><path d=\"M17.41 7.96l-1.37-1.37c-.4-.4-.92-.59-1.43-.59-.52 0-1.04.2-1.43.59L10.3 9.45l-7.72 7.72c-.78.78-.78 2.05 0 2.83L4 21.41c.39.39.9.59 1.41.59.51 0 1.02-.2 1.41-.59l7.78-7.78 2.81-2.81c.8-.78.8-2.07 0-2.86zM5.41 20L4 18.59l7.72-7.72 1.47 1.35L5.41 20z\"/>\n",
              "  </svg>\n",
              "      </button>\n",
              "      \n",
              "  <style>\n",
              "    .colab-df-container {\n",
              "      display:flex;\n",
              "      flex-wrap:wrap;\n",
              "      gap: 12px;\n",
              "    }\n",
              "\n",
              "    .colab-df-convert {\n",
              "      background-color: #E8F0FE;\n",
              "      border: none;\n",
              "      border-radius: 50%;\n",
              "      cursor: pointer;\n",
              "      display: none;\n",
              "      fill: #1967D2;\n",
              "      height: 32px;\n",
              "      padding: 0 0 0 0;\n",
              "      width: 32px;\n",
              "    }\n",
              "\n",
              "    .colab-df-convert:hover {\n",
              "      background-color: #E2EBFA;\n",
              "      box-shadow: 0px 1px 2px rgba(60, 64, 67, 0.3), 0px 1px 3px 1px rgba(60, 64, 67, 0.15);\n",
              "      fill: #174EA6;\n",
              "    }\n",
              "\n",
              "    [theme=dark] .colab-df-convert {\n",
              "      background-color: #3B4455;\n",
              "      fill: #D2E3FC;\n",
              "    }\n",
              "\n",
              "    [theme=dark] .colab-df-convert:hover {\n",
              "      background-color: #434B5C;\n",
              "      box-shadow: 0px 1px 3px 1px rgba(0, 0, 0, 0.15);\n",
              "      filter: drop-shadow(0px 1px 2px rgba(0, 0, 0, 0.3));\n",
              "      fill: #FFFFFF;\n",
              "    }\n",
              "  </style>\n",
              "\n",
              "      <script>\n",
              "        const buttonEl =\n",
              "          document.querySelector('#df-eea4f771-6fe3-4f38-a16c-8ec9b2ebca28 button.colab-df-convert');\n",
              "        buttonEl.style.display =\n",
              "          google.colab.kernel.accessAllowed ? 'block' : 'none';\n",
              "\n",
              "        async function convertToInteractive(key) {\n",
              "          const element = document.querySelector('#df-eea4f771-6fe3-4f38-a16c-8ec9b2ebca28');\n",
              "          const dataTable =\n",
              "            await google.colab.kernel.invokeFunction('convertToInteractive',\n",
              "                                                     [key], {});\n",
              "          if (!dataTable) return;\n",
              "\n",
              "          const docLinkHtml = 'Like what you see? Visit the ' +\n",
              "            '<a target=\"_blank\" href=https://colab.research.google.com/notebooks/data_table.ipynb>data table notebook</a>'\n",
              "            + ' to learn more about interactive tables.';\n",
              "          element.innerHTML = '';\n",
              "          dataTable['output_type'] = 'display_data';\n",
              "          await google.colab.output.renderOutput(dataTable, element);\n",
              "          const docLink = document.createElement('div');\n",
              "          docLink.innerHTML = docLinkHtml;\n",
              "          element.appendChild(docLink);\n",
              "        }\n",
              "      </script>\n",
              "    </div>\n",
              "  </div>\n",
              "  "
            ]
          },
          "metadata": {},
          "execution_count": 5
        }
      ]
    },
    {
      "cell_type": "markdown",
      "source": [
        "Data Splitting"
      ],
      "metadata": {
        "id": "OZEtxCtojURx"
      }
    },
    {
      "cell_type": "code",
      "source": [
        "train_subjects, test_subjects = model_selection.train_test_split(\n",
        "    node_subjects, train_size=140, test_size=None, stratify=node_subjects\n",
        ")\n",
        "val_subjects, test_subjects = model_selection.train_test_split(\n",
        "    test_subjects, train_size=500, test_size=None, stratify=test_subjects\n",
        ")"
      ],
      "metadata": {
        "id": "-_TPr-gXjSTo"
      },
      "execution_count": 6,
      "outputs": []
    },
    {
      "cell_type": "code",
      "source": [
        "train_subjects.value_counts().to_frame()"
      ],
      "metadata": {
        "colab": {
          "base_uri": "https://localhost:8080/",
          "height": 269
        },
        "id": "GNUp4uKWjWLD",
        "outputId": "19be8453-8c09-4d49-bc4a-2cafb14980cc"
      },
      "execution_count": 7,
      "outputs": [
        {
          "output_type": "execute_result",
          "data": {
            "text/plain": [
              "                        subject\n",
              "Neural_Networks              42\n",
              "Probabilistic_Methods        22\n",
              "Genetic_Algorithms           22\n",
              "Theory                       18\n",
              "Case_Based                   16\n",
              "Reinforcement_Learning       11\n",
              "Rule_Learning                 9"
            ],
            "text/html": [
              "\n",
              "  <div id=\"df-e9fad729-b606-49a7-a748-fe2a19fec44d\">\n",
              "    <div class=\"colab-df-container\">\n",
              "      <div>\n",
              "<style scoped>\n",
              "    .dataframe tbody tr th:only-of-type {\n",
              "        vertical-align: middle;\n",
              "    }\n",
              "\n",
              "    .dataframe tbody tr th {\n",
              "        vertical-align: top;\n",
              "    }\n",
              "\n",
              "    .dataframe thead th {\n",
              "        text-align: right;\n",
              "    }\n",
              "</style>\n",
              "<table border=\"1\" class=\"dataframe\">\n",
              "  <thead>\n",
              "    <tr style=\"text-align: right;\">\n",
              "      <th></th>\n",
              "      <th>subject</th>\n",
              "    </tr>\n",
              "  </thead>\n",
              "  <tbody>\n",
              "    <tr>\n",
              "      <th>Neural_Networks</th>\n",
              "      <td>42</td>\n",
              "    </tr>\n",
              "    <tr>\n",
              "      <th>Probabilistic_Methods</th>\n",
              "      <td>22</td>\n",
              "    </tr>\n",
              "    <tr>\n",
              "      <th>Genetic_Algorithms</th>\n",
              "      <td>22</td>\n",
              "    </tr>\n",
              "    <tr>\n",
              "      <th>Theory</th>\n",
              "      <td>18</td>\n",
              "    </tr>\n",
              "    <tr>\n",
              "      <th>Case_Based</th>\n",
              "      <td>16</td>\n",
              "    </tr>\n",
              "    <tr>\n",
              "      <th>Reinforcement_Learning</th>\n",
              "      <td>11</td>\n",
              "    </tr>\n",
              "    <tr>\n",
              "      <th>Rule_Learning</th>\n",
              "      <td>9</td>\n",
              "    </tr>\n",
              "  </tbody>\n",
              "</table>\n",
              "</div>\n",
              "      <button class=\"colab-df-convert\" onclick=\"convertToInteractive('df-e9fad729-b606-49a7-a748-fe2a19fec44d')\"\n",
              "              title=\"Convert this dataframe to an interactive table.\"\n",
              "              style=\"display:none;\">\n",
              "        \n",
              "  <svg xmlns=\"http://www.w3.org/2000/svg\" height=\"24px\"viewBox=\"0 0 24 24\"\n",
              "       width=\"24px\">\n",
              "    <path d=\"M0 0h24v24H0V0z\" fill=\"none\"/>\n",
              "    <path d=\"M18.56 5.44l.94 2.06.94-2.06 2.06-.94-2.06-.94-.94-2.06-.94 2.06-2.06.94zm-11 1L8.5 8.5l.94-2.06 2.06-.94-2.06-.94L8.5 2.5l-.94 2.06-2.06.94zm10 10l.94 2.06.94-2.06 2.06-.94-2.06-.94-.94-2.06-.94 2.06-2.06.94z\"/><path d=\"M17.41 7.96l-1.37-1.37c-.4-.4-.92-.59-1.43-.59-.52 0-1.04.2-1.43.59L10.3 9.45l-7.72 7.72c-.78.78-.78 2.05 0 2.83L4 21.41c.39.39.9.59 1.41.59.51 0 1.02-.2 1.41-.59l7.78-7.78 2.81-2.81c.8-.78.8-2.07 0-2.86zM5.41 20L4 18.59l7.72-7.72 1.47 1.35L5.41 20z\"/>\n",
              "  </svg>\n",
              "      </button>\n",
              "      \n",
              "  <style>\n",
              "    .colab-df-container {\n",
              "      display:flex;\n",
              "      flex-wrap:wrap;\n",
              "      gap: 12px;\n",
              "    }\n",
              "\n",
              "    .colab-df-convert {\n",
              "      background-color: #E8F0FE;\n",
              "      border: none;\n",
              "      border-radius: 50%;\n",
              "      cursor: pointer;\n",
              "      display: none;\n",
              "      fill: #1967D2;\n",
              "      height: 32px;\n",
              "      padding: 0 0 0 0;\n",
              "      width: 32px;\n",
              "    }\n",
              "\n",
              "    .colab-df-convert:hover {\n",
              "      background-color: #E2EBFA;\n",
              "      box-shadow: 0px 1px 2px rgba(60, 64, 67, 0.3), 0px 1px 3px 1px rgba(60, 64, 67, 0.15);\n",
              "      fill: #174EA6;\n",
              "    }\n",
              "\n",
              "    [theme=dark] .colab-df-convert {\n",
              "      background-color: #3B4455;\n",
              "      fill: #D2E3FC;\n",
              "    }\n",
              "\n",
              "    [theme=dark] .colab-df-convert:hover {\n",
              "      background-color: #434B5C;\n",
              "      box-shadow: 0px 1px 3px 1px rgba(0, 0, 0, 0.15);\n",
              "      filter: drop-shadow(0px 1px 2px rgba(0, 0, 0, 0.3));\n",
              "      fill: #FFFFFF;\n",
              "    }\n",
              "  </style>\n",
              "\n",
              "      <script>\n",
              "        const buttonEl =\n",
              "          document.querySelector('#df-e9fad729-b606-49a7-a748-fe2a19fec44d button.colab-df-convert');\n",
              "        buttonEl.style.display =\n",
              "          google.colab.kernel.accessAllowed ? 'block' : 'none';\n",
              "\n",
              "        async function convertToInteractive(key) {\n",
              "          const element = document.querySelector('#df-e9fad729-b606-49a7-a748-fe2a19fec44d');\n",
              "          const dataTable =\n",
              "            await google.colab.kernel.invokeFunction('convertToInteractive',\n",
              "                                                     [key], {});\n",
              "          if (!dataTable) return;\n",
              "\n",
              "          const docLinkHtml = 'Like what you see? Visit the ' +\n",
              "            '<a target=\"_blank\" href=https://colab.research.google.com/notebooks/data_table.ipynb>data table notebook</a>'\n",
              "            + ' to learn more about interactive tables.';\n",
              "          element.innerHTML = '';\n",
              "          dataTable['output_type'] = 'display_data';\n",
              "          await google.colab.output.renderOutput(dataTable, element);\n",
              "          const docLink = document.createElement('div');\n",
              "          docLink.innerHTML = docLinkHtml;\n",
              "          element.appendChild(docLink);\n",
              "        }\n",
              "      </script>\n",
              "    </div>\n",
              "  </div>\n",
              "  "
            ]
          },
          "metadata": {},
          "execution_count": 7
        }
      ]
    },
    {
      "cell_type": "markdown",
      "source": [
        "Converting to numeric arrays"
      ],
      "metadata": {
        "id": "KXuktxyKjZY2"
      }
    },
    {
      "cell_type": "code",
      "source": [
        "target_encoding = preprocessing.LabelBinarizer()\n",
        "\n",
        "train_targets = target_encoding.fit_transform(train_subjects)\n",
        "val_targets = target_encoding.transform(val_subjects)\n",
        "test_targets = target_encoding.transform(test_subjects)"
      ],
      "metadata": {
        "id": "3qGlJowLjXs5"
      },
      "execution_count": 8,
      "outputs": []
    },
    {
      "cell_type": "markdown",
      "source": [
        "GCN layers creation"
      ],
      "metadata": {
        "id": "9C-Gi4PKjeLE"
      }
    },
    {
      "cell_type": "code",
      "source": [
        "generator = FullBatchNodeGenerator(G, method=\"gcn\")"
      ],
      "metadata": {
        "colab": {
          "base_uri": "https://localhost:8080/"
        },
        "id": "gueexZoJjbv_",
        "outputId": "47eec84e-08f8-4ed8-ac5a-9f7b40a47b77"
      },
      "execution_count": 9,
      "outputs": [
        {
          "output_type": "stream",
          "name": "stdout",
          "text": [
            "Using GCN (local pooling) filters...\n"
          ]
        }
      ]
    },
    {
      "cell_type": "code",
      "source": [
        "train_gen = generator.flow(train_subjects.index, train_targets)"
      ],
      "metadata": {
        "id": "hxe05MKKjg7s"
      },
      "execution_count": 10,
      "outputs": []
    },
    {
      "cell_type": "code",
      "source": [
        "gcn = GCN(\n",
        "    layer_sizes=[16, 16], activations=[\"relu\", \"relu\"], generator=generator, dropout=0.5\n",
        ")"
      ],
      "metadata": {
        "id": "gRqC7WNrjihZ"
      },
      "execution_count": 11,
      "outputs": []
    },
    {
      "cell_type": "code",
      "source": [
        "x_inp, x_out = gcn.in_out_tensors()\n",
        "\n",
        "x_out"
      ],
      "metadata": {
        "colab": {
          "base_uri": "https://localhost:8080/"
        },
        "id": "qSKnT63Djj3E",
        "outputId": "d2dc325a-44df-4e1f-b733-bba21f8e32da"
      },
      "execution_count": 12,
      "outputs": [
        {
          "output_type": "execute_result",
          "data": {
            "text/plain": [
              "<KerasTensor: shape=(1, None, 16) dtype=float32 (created by layer 'gather_indices')>"
            ]
          },
          "metadata": {},
          "execution_count": 12
        }
      ]
    },
    {
      "cell_type": "code",
      "source": [
        "predictions = layers.Dense(units=train_targets.shape[1], activation=\"softmax\")(x_out)"
      ],
      "metadata": {
        "id": "MliI_2JYjlvQ"
      },
      "execution_count": 13,
      "outputs": []
    },
    {
      "cell_type": "markdown",
      "source": [
        "Modelling"
      ],
      "metadata": {
        "id": "JbGNWx3rjpmF"
      }
    },
    {
      "cell_type": "code",
      "source": [
        "model = Model(inputs=x_inp, outputs=predictions)\n",
        "model.compile(\n",
        "    optimizer=optimizers.Adam(lr=0.01),\n",
        "    loss=losses.categorical_crossentropy,\n",
        "    metrics=[\"acc\"],\n",
        ")"
      ],
      "metadata": {
        "colab": {
          "base_uri": "https://localhost:8080/"
        },
        "id": "CMvpUyPpjnmx",
        "outputId": "5179bda9-bd22-487d-df78-46f6abdea6ba"
      },
      "execution_count": 14,
      "outputs": [
        {
          "output_type": "stream",
          "name": "stderr",
          "text": [
            "/usr/local/lib/python3.7/dist-packages/keras/optimizers/optimizer_v2/adam.py:110: UserWarning: The `lr` argument is deprecated, use `learning_rate` instead.\n",
            "  super(Adam, self).__init__(name, **kwargs)\n"
          ]
        }
      ]
    },
    {
      "cell_type": "code",
      "source": [
        "val_gen = generator.flow(val_subjects.index, val_targets)"
      ],
      "metadata": {
        "id": "qqE-cdJujtI0"
      },
      "execution_count": 15,
      "outputs": []
    },
    {
      "cell_type": "code",
      "source": [
        "from tensorflow.keras.callbacks import EarlyStopping\n",
        "\n",
        "es_callback = EarlyStopping(monitor=\"val_acc\", patience=50, restore_best_weights=True)"
      ],
      "metadata": {
        "id": "rOXBUqzcjuzp"
      },
      "execution_count": 16,
      "outputs": []
    },
    {
      "cell_type": "code",
      "source": [
        "history = model.fit(\n",
        "    train_gen,\n",
        "    epochs=100,\n",
        "    validation_data=val_gen,\n",
        "    verbose=2,\n",
        "    shuffle=False,  # this should be False, since shuffling data means shuffling the whole graph\n",
        "    callbacks=[es_callback],\n",
        ")"
      ],
      "metadata": {
        "colab": {
          "base_uri": "https://localhost:8080/"
        },
        "id": "Fgjkw_kfjwq-",
        "outputId": "7862aba6-6972-4107-fb16-7b7f95395d6c"
      },
      "execution_count": 17,
      "outputs": [
        {
          "output_type": "stream",
          "name": "stdout",
          "text": [
            "Epoch 1/200\n",
            "1/1 - 2s - loss: 1.9310 - acc: 0.2214 - val_loss: 1.8695 - val_acc: 0.3240 - 2s/epoch - 2s/step\n",
            "Epoch 2/200\n",
            "1/1 - 0s - loss: 1.8613 - acc: 0.3000 - val_loss: 1.7927 - val_acc: 0.3020 - 120ms/epoch - 120ms/step\n",
            "Epoch 3/200\n",
            "1/1 - 0s - loss: 1.7624 - acc: 0.3143 - val_loss: 1.7282 - val_acc: 0.3020 - 114ms/epoch - 114ms/step\n",
            "Epoch 4/200\n",
            "1/1 - 0s - loss: 1.6837 - acc: 0.3071 - val_loss: 1.6769 - val_acc: 0.3020 - 120ms/epoch - 120ms/step\n",
            "Epoch 5/200\n",
            "1/1 - 0s - loss: 1.6103 - acc: 0.3071 - val_loss: 1.6236 - val_acc: 0.3060 - 127ms/epoch - 127ms/step\n",
            "Epoch 6/200\n",
            "1/1 - 0s - loss: 1.5198 - acc: 0.3071 - val_loss: 1.5573 - val_acc: 0.3140 - 125ms/epoch - 125ms/step\n",
            "Epoch 7/200\n",
            "1/1 - 0s - loss: 1.4361 - acc: 0.3714 - val_loss: 1.4857 - val_acc: 0.3720 - 122ms/epoch - 122ms/step\n",
            "Epoch 8/200\n",
            "1/1 - 0s - loss: 1.3594 - acc: 0.4500 - val_loss: 1.4154 - val_acc: 0.4400 - 129ms/epoch - 129ms/step\n",
            "Epoch 9/200\n",
            "1/1 - 0s - loss: 1.2621 - acc: 0.5500 - val_loss: 1.3550 - val_acc: 0.4920 - 150ms/epoch - 150ms/step\n",
            "Epoch 10/200\n",
            "1/1 - 0s - loss: 1.2120 - acc: 0.5929 - val_loss: 1.3005 - val_acc: 0.5440 - 120ms/epoch - 120ms/step\n",
            "Epoch 11/200\n",
            "1/1 - 0s - loss: 1.1367 - acc: 0.6143 - val_loss: 1.2504 - val_acc: 0.5920 - 118ms/epoch - 118ms/step\n",
            "Epoch 12/200\n",
            "1/1 - 0s - loss: 1.0995 - acc: 0.6643 - val_loss: 1.2072 - val_acc: 0.6140 - 122ms/epoch - 122ms/step\n",
            "Epoch 13/200\n",
            "1/1 - 0s - loss: 0.9991 - acc: 0.6786 - val_loss: 1.1714 - val_acc: 0.6320 - 117ms/epoch - 117ms/step\n",
            "Epoch 14/200\n",
            "1/1 - 0s - loss: 0.9286 - acc: 0.7071 - val_loss: 1.1439 - val_acc: 0.6520 - 126ms/epoch - 126ms/step\n",
            "Epoch 15/200\n",
            "1/1 - 0s - loss: 0.8441 - acc: 0.7714 - val_loss: 1.1228 - val_acc: 0.6700 - 114ms/epoch - 114ms/step\n",
            "Epoch 16/200\n",
            "1/1 - 0s - loss: 0.7931 - acc: 0.7643 - val_loss: 1.0947 - val_acc: 0.6900 - 119ms/epoch - 119ms/step\n",
            "Epoch 17/200\n",
            "1/1 - 0s - loss: 0.7407 - acc: 0.7786 - val_loss: 1.0721 - val_acc: 0.7040 - 119ms/epoch - 119ms/step\n",
            "Epoch 18/200\n",
            "1/1 - 0s - loss: 0.6916 - acc: 0.8000 - val_loss: 1.0379 - val_acc: 0.7280 - 127ms/epoch - 127ms/step\n",
            "Epoch 19/200\n",
            "1/1 - 0s - loss: 0.6331 - acc: 0.7714 - val_loss: 1.0008 - val_acc: 0.7400 - 151ms/epoch - 151ms/step\n",
            "Epoch 20/200\n",
            "1/1 - 0s - loss: 0.5487 - acc: 0.8500 - val_loss: 0.9674 - val_acc: 0.7380 - 123ms/epoch - 123ms/step\n",
            "Epoch 21/200\n",
            "1/1 - 0s - loss: 0.5758 - acc: 0.8214 - val_loss: 0.9341 - val_acc: 0.7480 - 129ms/epoch - 129ms/step\n",
            "Epoch 22/200\n",
            "1/1 - 0s - loss: 0.4739 - acc: 0.8786 - val_loss: 0.9090 - val_acc: 0.7500 - 118ms/epoch - 118ms/step\n",
            "Epoch 23/200\n",
            "1/1 - 0s - loss: 0.4476 - acc: 0.8929 - val_loss: 0.8932 - val_acc: 0.7600 - 118ms/epoch - 118ms/step\n",
            "Epoch 24/200\n",
            "1/1 - 0s - loss: 0.4878 - acc: 0.8643 - val_loss: 0.8779 - val_acc: 0.7580 - 122ms/epoch - 122ms/step\n",
            "Epoch 25/200\n",
            "1/1 - 0s - loss: 0.4124 - acc: 0.8786 - val_loss: 0.8670 - val_acc: 0.7580 - 117ms/epoch - 117ms/step\n",
            "Epoch 26/200\n",
            "1/1 - 0s - loss: 0.3544 - acc: 0.9071 - val_loss: 0.8625 - val_acc: 0.7580 - 119ms/epoch - 119ms/step\n",
            "Epoch 27/200\n",
            "1/1 - 0s - loss: 0.3349 - acc: 0.9000 - val_loss: 0.8521 - val_acc: 0.7580 - 120ms/epoch - 120ms/step\n",
            "Epoch 28/200\n",
            "1/1 - 0s - loss: 0.4013 - acc: 0.8714 - val_loss: 0.8299 - val_acc: 0.7640 - 121ms/epoch - 121ms/step\n",
            "Epoch 29/200\n",
            "1/1 - 0s - loss: 0.3043 - acc: 0.9000 - val_loss: 0.8113 - val_acc: 0.7700 - 115ms/epoch - 115ms/step\n",
            "Epoch 30/200\n",
            "1/1 - 0s - loss: 0.2972 - acc: 0.9071 - val_loss: 0.7904 - val_acc: 0.7740 - 116ms/epoch - 116ms/step\n",
            "Epoch 31/200\n",
            "1/1 - 0s - loss: 0.2287 - acc: 0.9500 - val_loss: 0.7749 - val_acc: 0.7840 - 125ms/epoch - 125ms/step\n",
            "Epoch 32/200\n",
            "1/1 - 0s - loss: 0.2676 - acc: 0.9571 - val_loss: 0.7639 - val_acc: 0.7960 - 118ms/epoch - 118ms/step\n",
            "Epoch 33/200\n",
            "1/1 - 0s - loss: 0.2535 - acc: 0.9357 - val_loss: 0.7615 - val_acc: 0.8040 - 120ms/epoch - 120ms/step\n",
            "Epoch 34/200\n",
            "1/1 - 0s - loss: 0.2031 - acc: 0.9571 - val_loss: 0.7632 - val_acc: 0.7960 - 118ms/epoch - 118ms/step\n",
            "Epoch 35/200\n",
            "1/1 - 0s - loss: 0.2137 - acc: 0.9500 - val_loss: 0.7711 - val_acc: 0.7960 - 126ms/epoch - 126ms/step\n",
            "Epoch 36/200\n",
            "1/1 - 0s - loss: 0.1646 - acc: 0.9571 - val_loss: 0.7826 - val_acc: 0.8020 - 115ms/epoch - 115ms/step\n",
            "Epoch 37/200\n",
            "1/1 - 0s - loss: 0.1614 - acc: 0.9714 - val_loss: 0.7928 - val_acc: 0.7960 - 134ms/epoch - 134ms/step\n",
            "Epoch 38/200\n",
            "1/1 - 0s - loss: 0.1682 - acc: 0.9429 - val_loss: 0.8054 - val_acc: 0.7940 - 119ms/epoch - 119ms/step\n",
            "Epoch 39/200\n",
            "1/1 - 0s - loss: 0.1778 - acc: 0.9643 - val_loss: 0.8182 - val_acc: 0.7980 - 124ms/epoch - 124ms/step\n",
            "Epoch 40/200\n",
            "1/1 - 0s - loss: 0.1576 - acc: 0.9643 - val_loss: 0.8293 - val_acc: 0.7920 - 121ms/epoch - 121ms/step\n",
            "Epoch 41/200\n",
            "1/1 - 0s - loss: 0.1136 - acc: 0.9857 - val_loss: 0.8422 - val_acc: 0.7940 - 128ms/epoch - 128ms/step\n",
            "Epoch 42/200\n",
            "1/1 - 0s - loss: 0.1001 - acc: 0.9929 - val_loss: 0.8550 - val_acc: 0.7920 - 117ms/epoch - 117ms/step\n",
            "Epoch 43/200\n",
            "1/1 - 0s - loss: 0.1221 - acc: 0.9714 - val_loss: 0.8651 - val_acc: 0.7940 - 120ms/epoch - 120ms/step\n",
            "Epoch 44/200\n",
            "1/1 - 0s - loss: 0.0962 - acc: 0.9857 - val_loss: 0.8692 - val_acc: 0.7900 - 123ms/epoch - 123ms/step\n",
            "Epoch 45/200\n",
            "1/1 - 0s - loss: 0.0869 - acc: 0.9857 - val_loss: 0.8719 - val_acc: 0.7900 - 125ms/epoch - 125ms/step\n",
            "Epoch 46/200\n",
            "1/1 - 0s - loss: 0.0715 - acc: 0.9857 - val_loss: 0.8813 - val_acc: 0.7920 - 118ms/epoch - 118ms/step\n",
            "Epoch 47/200\n",
            "1/1 - 0s - loss: 0.1028 - acc: 0.9714 - val_loss: 0.8856 - val_acc: 0.7980 - 117ms/epoch - 117ms/step\n",
            "Epoch 48/200\n",
            "1/1 - 0s - loss: 0.0768 - acc: 0.9786 - val_loss: 0.8814 - val_acc: 0.7960 - 125ms/epoch - 125ms/step\n",
            "Epoch 49/200\n",
            "1/1 - 0s - loss: 0.0648 - acc: 0.9929 - val_loss: 0.8750 - val_acc: 0.7900 - 118ms/epoch - 118ms/step\n",
            "Epoch 50/200\n",
            "1/1 - 0s - loss: 0.0656 - acc: 0.9857 - val_loss: 0.8732 - val_acc: 0.7900 - 120ms/epoch - 120ms/step\n",
            "Epoch 51/200\n",
            "1/1 - 0s - loss: 0.0834 - acc: 0.9714 - val_loss: 0.8694 - val_acc: 0.7960 - 118ms/epoch - 118ms/step\n",
            "Epoch 52/200\n",
            "1/1 - 0s - loss: 0.0786 - acc: 0.9857 - val_loss: 0.8734 - val_acc: 0.7980 - 204ms/epoch - 204ms/step\n",
            "Epoch 53/200\n",
            "1/1 - 0s - loss: 0.0882 - acc: 0.9786 - val_loss: 0.8786 - val_acc: 0.8000 - 120ms/epoch - 120ms/step\n",
            "Epoch 54/200\n",
            "1/1 - 0s - loss: 0.0740 - acc: 0.9786 - val_loss: 0.8850 - val_acc: 0.8020 - 200ms/epoch - 200ms/step\n",
            "Epoch 55/200\n",
            "1/1 - 0s - loss: 0.0605 - acc: 0.9786 - val_loss: 0.8954 - val_acc: 0.7960 - 221ms/epoch - 221ms/step\n",
            "Epoch 56/200\n",
            "1/1 - 0s - loss: 0.0794 - acc: 0.9643 - val_loss: 0.9032 - val_acc: 0.7960 - 189ms/epoch - 189ms/step\n",
            "Epoch 57/200\n",
            "1/1 - 0s - loss: 0.0546 - acc: 0.9857 - val_loss: 0.9128 - val_acc: 0.7980 - 191ms/epoch - 191ms/step\n",
            "Epoch 58/200\n",
            "1/1 - 0s - loss: 0.0518 - acc: 0.9786 - val_loss: 0.9219 - val_acc: 0.8000 - 240ms/epoch - 240ms/step\n",
            "Epoch 59/200\n",
            "1/1 - 0s - loss: 0.0502 - acc: 0.9929 - val_loss: 0.9219 - val_acc: 0.8020 - 223ms/epoch - 223ms/step\n",
            "Epoch 60/200\n",
            "1/1 - 0s - loss: 0.0415 - acc: 0.9929 - val_loss: 0.9203 - val_acc: 0.8020 - 218ms/epoch - 218ms/step\n",
            "Epoch 61/200\n",
            "1/1 - 0s - loss: 0.0586 - acc: 0.9857 - val_loss: 0.9152 - val_acc: 0.7940 - 236ms/epoch - 236ms/step\n",
            "Epoch 62/200\n",
            "1/1 - 0s - loss: 0.0328 - acc: 0.9929 - val_loss: 0.9133 - val_acc: 0.7900 - 267ms/epoch - 267ms/step\n",
            "Epoch 63/200\n",
            "1/1 - 0s - loss: 0.0277 - acc: 1.0000 - val_loss: 0.9156 - val_acc: 0.7920 - 265ms/epoch - 265ms/step\n",
            "Epoch 64/200\n",
            "1/1 - 0s - loss: 0.1338 - acc: 0.9500 - val_loss: 0.9136 - val_acc: 0.7920 - 146ms/epoch - 146ms/step\n",
            "Epoch 65/200\n",
            "1/1 - 0s - loss: 0.0801 - acc: 0.9571 - val_loss: 0.9130 - val_acc: 0.8000 - 133ms/epoch - 133ms/step\n",
            "Epoch 66/200\n",
            "1/1 - 0s - loss: 0.0799 - acc: 0.9786 - val_loss: 0.9153 - val_acc: 0.8000 - 120ms/epoch - 120ms/step\n",
            "Epoch 67/200\n",
            "1/1 - 0s - loss: 0.0644 - acc: 0.9786 - val_loss: 0.9215 - val_acc: 0.7980 - 125ms/epoch - 125ms/step\n",
            "Epoch 68/200\n",
            "1/1 - 0s - loss: 0.0754 - acc: 0.9643 - val_loss: 0.9286 - val_acc: 0.8020 - 122ms/epoch - 122ms/step\n",
            "Epoch 69/200\n",
            "1/1 - 0s - loss: 0.0299 - acc: 0.9929 - val_loss: 0.9370 - val_acc: 0.8060 - 127ms/epoch - 127ms/step\n",
            "Epoch 70/200\n",
            "1/1 - 0s - loss: 0.0322 - acc: 0.9929 - val_loss: 0.9463 - val_acc: 0.8080 - 122ms/epoch - 122ms/step\n",
            "Epoch 71/200\n",
            "1/1 - 0s - loss: 0.0299 - acc: 1.0000 - val_loss: 0.9583 - val_acc: 0.8120 - 123ms/epoch - 123ms/step\n",
            "Epoch 72/200\n",
            "1/1 - 0s - loss: 0.0443 - acc: 0.9857 - val_loss: 0.9733 - val_acc: 0.8060 - 121ms/epoch - 121ms/step\n",
            "Epoch 73/200\n",
            "1/1 - 0s - loss: 0.0383 - acc: 0.9929 - val_loss: 0.9882 - val_acc: 0.8060 - 157ms/epoch - 157ms/step\n",
            "Epoch 74/200\n",
            "1/1 - 0s - loss: 0.0506 - acc: 0.9857 - val_loss: 1.0058 - val_acc: 0.8020 - 125ms/epoch - 125ms/step\n",
            "Epoch 75/200\n",
            "1/1 - 0s - loss: 0.0350 - acc: 0.9857 - val_loss: 1.0196 - val_acc: 0.8020 - 121ms/epoch - 121ms/step\n",
            "Epoch 76/200\n",
            "1/1 - 0s - loss: 0.0301 - acc: 0.9929 - val_loss: 1.0187 - val_acc: 0.8040 - 121ms/epoch - 121ms/step\n",
            "Epoch 77/200\n",
            "1/1 - 0s - loss: 0.0420 - acc: 0.9929 - val_loss: 1.0150 - val_acc: 0.8040 - 120ms/epoch - 120ms/step\n",
            "Epoch 78/200\n",
            "1/1 - 0s - loss: 0.0406 - acc: 0.9929 - val_loss: 1.0017 - val_acc: 0.8040 - 131ms/epoch - 131ms/step\n",
            "Epoch 79/200\n",
            "1/1 - 0s - loss: 0.0503 - acc: 0.9786 - val_loss: 0.9727 - val_acc: 0.8120 - 120ms/epoch - 120ms/step\n",
            "Epoch 80/200\n",
            "1/1 - 0s - loss: 0.0452 - acc: 0.9786 - val_loss: 0.9462 - val_acc: 0.8100 - 121ms/epoch - 121ms/step\n",
            "Epoch 81/200\n",
            "1/1 - 0s - loss: 0.0382 - acc: 0.9929 - val_loss: 0.9215 - val_acc: 0.8060 - 129ms/epoch - 129ms/step\n",
            "Epoch 82/200\n",
            "1/1 - 0s - loss: 0.0440 - acc: 0.9857 - val_loss: 0.9104 - val_acc: 0.8040 - 120ms/epoch - 120ms/step\n",
            "Epoch 83/200\n",
            "1/1 - 0s - loss: 0.0188 - acc: 1.0000 - val_loss: 0.9124 - val_acc: 0.8100 - 151ms/epoch - 151ms/step\n",
            "Epoch 84/200\n",
            "1/1 - 0s - loss: 0.0658 - acc: 0.9643 - val_loss: 0.9132 - val_acc: 0.8100 - 127ms/epoch - 127ms/step\n",
            "Epoch 85/200\n",
            "1/1 - 0s - loss: 0.0422 - acc: 0.9786 - val_loss: 0.9166 - val_acc: 0.8120 - 119ms/epoch - 119ms/step\n",
            "Epoch 86/200\n",
            "1/1 - 0s - loss: 0.0605 - acc: 0.9714 - val_loss: 0.9265 - val_acc: 0.8100 - 120ms/epoch - 120ms/step\n",
            "Epoch 87/200\n",
            "1/1 - 0s - loss: 0.0292 - acc: 0.9929 - val_loss: 0.9428 - val_acc: 0.8100 - 114ms/epoch - 114ms/step\n",
            "Epoch 88/200\n",
            "1/1 - 0s - loss: 0.0663 - acc: 0.9786 - val_loss: 0.9655 - val_acc: 0.8120 - 118ms/epoch - 118ms/step\n",
            "Epoch 89/200\n",
            "1/1 - 0s - loss: 0.0415 - acc: 0.9857 - val_loss: 0.9934 - val_acc: 0.8120 - 121ms/epoch - 121ms/step\n",
            "Epoch 90/200\n",
            "1/1 - 0s - loss: 0.0228 - acc: 0.9857 - val_loss: 1.0259 - val_acc: 0.8040 - 120ms/epoch - 120ms/step\n",
            "Epoch 91/200\n",
            "1/1 - 0s - loss: 0.0536 - acc: 0.9929 - val_loss: 1.0560 - val_acc: 0.8000 - 131ms/epoch - 131ms/step\n",
            "Epoch 92/200\n",
            "1/1 - 0s - loss: 0.0225 - acc: 0.9929 - val_loss: 1.0846 - val_acc: 0.7980 - 144ms/epoch - 144ms/step\n",
            "Epoch 93/200\n",
            "1/1 - 0s - loss: 0.0288 - acc: 0.9857 - val_loss: 1.1041 - val_acc: 0.7980 - 128ms/epoch - 128ms/step\n",
            "Epoch 94/200\n",
            "1/1 - 0s - loss: 0.0156 - acc: 1.0000 - val_loss: 1.1154 - val_acc: 0.7960 - 120ms/epoch - 120ms/step\n",
            "Epoch 95/200\n",
            "1/1 - 0s - loss: 0.0461 - acc: 0.9857 - val_loss: 1.1150 - val_acc: 0.7980 - 140ms/epoch - 140ms/step\n",
            "Epoch 96/200\n",
            "1/1 - 0s - loss: 0.0508 - acc: 0.9929 - val_loss: 1.1092 - val_acc: 0.8000 - 121ms/epoch - 121ms/step\n",
            "Epoch 97/200\n",
            "1/1 - 0s - loss: 0.0479 - acc: 0.9857 - val_loss: 1.1038 - val_acc: 0.7980 - 240ms/epoch - 240ms/step\n",
            "Epoch 98/200\n",
            "1/1 - 0s - loss: 0.0282 - acc: 0.9857 - val_loss: 1.1052 - val_acc: 0.7960 - 328ms/epoch - 328ms/step\n",
            "Epoch 99/200\n",
            "1/1 - 0s - loss: 0.0196 - acc: 1.0000 - val_loss: 1.1034 - val_acc: 0.7960 - 251ms/epoch - 251ms/step\n",
            "Epoch 100/200\n",
            "1/1 - 0s - loss: 0.0187 - acc: 0.9929 - val_loss: 1.0995 - val_acc: 0.7940 - 314ms/epoch - 314ms/step\n",
            "Epoch 101/200\n",
            "1/1 - 0s - loss: 0.0224 - acc: 0.9929 - val_loss: 1.1005 - val_acc: 0.8000 - 207ms/epoch - 207ms/step\n",
            "Epoch 102/200\n",
            "1/1 - 0s - loss: 0.0187 - acc: 0.9929 - val_loss: 1.1013 - val_acc: 0.8000 - 381ms/epoch - 381ms/step\n",
            "Epoch 103/200\n",
            "1/1 - 0s - loss: 0.0222 - acc: 0.9929 - val_loss: 1.1094 - val_acc: 0.7980 - 283ms/epoch - 283ms/step\n",
            "Epoch 104/200\n",
            "1/1 - 0s - loss: 0.0216 - acc: 1.0000 - val_loss: 1.1149 - val_acc: 0.8000 - 115ms/epoch - 115ms/step\n",
            "Epoch 105/200\n",
            "1/1 - 0s - loss: 0.0331 - acc: 0.9857 - val_loss: 1.1098 - val_acc: 0.8000 - 120ms/epoch - 120ms/step\n",
            "Epoch 106/200\n",
            "1/1 - 0s - loss: 0.0304 - acc: 0.9857 - val_loss: 1.1096 - val_acc: 0.8020 - 130ms/epoch - 130ms/step\n",
            "Epoch 107/200\n",
            "1/1 - 0s - loss: 0.0354 - acc: 0.9929 - val_loss: 1.1040 - val_acc: 0.8020 - 128ms/epoch - 128ms/step\n",
            "Epoch 108/200\n",
            "1/1 - 0s - loss: 0.0288 - acc: 0.9857 - val_loss: 1.0919 - val_acc: 0.8040 - 124ms/epoch - 124ms/step\n",
            "Epoch 109/200\n",
            "1/1 - 0s - loss: 0.0291 - acc: 0.9857 - val_loss: 1.0679 - val_acc: 0.8040 - 158ms/epoch - 158ms/step\n",
            "Epoch 110/200\n",
            "1/1 - 0s - loss: 0.0235 - acc: 1.0000 - val_loss: 1.0508 - val_acc: 0.8000 - 123ms/epoch - 123ms/step\n",
            "Epoch 111/200\n",
            "1/1 - 0s - loss: 0.0229 - acc: 0.9857 - val_loss: 1.0352 - val_acc: 0.8040 - 122ms/epoch - 122ms/step\n",
            "Epoch 112/200\n",
            "1/1 - 0s - loss: 0.0210 - acc: 1.0000 - val_loss: 1.0240 - val_acc: 0.8040 - 113ms/epoch - 113ms/step\n",
            "Epoch 113/200\n",
            "1/1 - 0s - loss: 0.0342 - acc: 0.9857 - val_loss: 1.0162 - val_acc: 0.8060 - 126ms/epoch - 126ms/step\n",
            "Epoch 114/200\n",
            "1/1 - 0s - loss: 0.0114 - acc: 1.0000 - val_loss: 1.0122 - val_acc: 0.8060 - 118ms/epoch - 118ms/step\n",
            "Epoch 115/200\n",
            "1/1 - 0s - loss: 0.0278 - acc: 0.9929 - val_loss: 1.0153 - val_acc: 0.8060 - 114ms/epoch - 114ms/step\n",
            "Epoch 116/200\n",
            "1/1 - 0s - loss: 0.0222 - acc: 1.0000 - val_loss: 1.0221 - val_acc: 0.8080 - 116ms/epoch - 116ms/step\n",
            "Epoch 117/200\n",
            "1/1 - 0s - loss: 0.0271 - acc: 0.9857 - val_loss: 1.0339 - val_acc: 0.8100 - 120ms/epoch - 120ms/step\n",
            "Epoch 118/200\n",
            "1/1 - 0s - loss: 0.0289 - acc: 0.9929 - val_loss: 1.0440 - val_acc: 0.8100 - 114ms/epoch - 114ms/step\n",
            "Epoch 119/200\n",
            "1/1 - 0s - loss: 0.0096 - acc: 1.0000 - val_loss: 1.0524 - val_acc: 0.8040 - 121ms/epoch - 121ms/step\n",
            "Epoch 120/200\n",
            "1/1 - 0s - loss: 0.0206 - acc: 1.0000 - val_loss: 1.0657 - val_acc: 0.8060 - 132ms/epoch - 132ms/step\n",
            "Epoch 121/200\n",
            "1/1 - 0s - loss: 0.0251 - acc: 0.9929 - val_loss: 1.0839 - val_acc: 0.8020 - 115ms/epoch - 115ms/step\n"
          ]
        }
      ]
    },
    {
      "cell_type": "code",
      "source": [
        "sg.utils.plot_history(history)"
      ],
      "metadata": {
        "colab": {
          "base_uri": "https://localhost:8080/",
          "height": 585
        },
        "id": "SwobOVhFjyTR",
        "outputId": "55d88ea9-2195-4b3c-9963-301fcb70cb2b"
      },
      "execution_count": 18,
      "outputs": [
        {
          "output_type": "display_data",
          "data": {
            "text/plain": [
              "<Figure size 504x576 with 2 Axes>"
            ],
            "image/png": "[encoded data removed]"
          },
          "metadata": {
            "needs_background": "light"
          }
        }
      ]
    },
    {
      "cell_type": "markdown",
      "source": [
        "Calculting Test Metrics"
      ],
      "metadata": {
        "id": "g-oOabpslVd4"
      }
    },
    {
      "cell_type": "code",
      "source": [
        "test_gen = generator.flow(test_subjects.index, test_targets)"
      ],
      "metadata": {
        "id": "avzwxMvJj01J"
      },
      "execution_count": 19,
      "outputs": []
    },
    {
      "cell_type": "code",
      "source": [
        "test_metrics = model.evaluate(test_gen)\n",
        "print(\"\\nTest Set Metrics:\")\n",
        "for name, val in zip(model.metrics_names, test_metrics):\n",
        "    print(\"\\t{}: {:0.4f}\".format(name, val))"
      ],
      "metadata": {
        "colab": {
          "base_uri": "https://localhost:8080/"
        },
        "id": "mAnNooALj202",
        "outputId": "46de94ea-3010-456f-d407-a05f0254ee72"
      },
      "execution_count": 20,
      "outputs": [
        {
          "output_type": "stream",
          "name": "stdout",
          "text": [
            "1/1 [==============================] - 0s 74ms/step - loss: 0.9623 - acc: 0.7935\n",
            "\n",
            "Test Set Metrics:\n",
            "\tloss: 0.9623\n",
            "\tacc: 0.7935\n"
          ]
        }
      ]
    },
    {
      "cell_type": "markdown",
      "source": [
        "Predictions"
      ],
      "metadata": {
        "id": "Y-Yml585j6xh"
      }
    },
    {
      "cell_type": "code",
      "source": [
        "all_nodes = node_subjects.index\n",
        "all_gen = generator.flow(all_nodes)\n",
        "all_predictions = model.predict(all_gen)"
      ],
      "metadata": {
        "colab": {
          "base_uri": "https://localhost:8080/"
        },
        "id": "hf1Qd0_Nj4wE",
        "outputId": "95c7f847-d5e2-46f4-d90d-e0d47002e928"
      },
      "execution_count": 21,
      "outputs": [
        {
          "output_type": "stream",
          "name": "stdout",
          "text": [
            "1/1 [==============================] - 0s 187ms/step\n"
          ]
        }
      ]
    },
    {
      "cell_type": "code",
      "source": [
        "node_predictions = target_encoding.inverse_transform(all_predictions.squeeze())"
      ],
      "metadata": {
        "id": "uuu3DK3tj-O8"
      },
      "execution_count": 22,
      "outputs": []
    },
    {
      "cell_type": "code",
      "source": [
        "df = pd.DataFrame({\"Predicted\": node_predictions, \"True\": node_subjects})\n",
        "df.head(20)"
      ],
      "metadata": {
        "colab": {
          "base_uri": "https://localhost:8080/",
          "height": 676
        },
        "id": "-5PXPFVzj_dP",
        "outputId": "9c07e0b4-225b-4f4b-f839-c77b1002f13e"
      },
      "execution_count": 23,
      "outputs": [
        {
          "output_type": "execute_result",
          "data": {
            "text/plain": [
              "                      Predicted                    True\n",
              "31336           Neural_Networks         Neural_Networks\n",
              "1061127           Rule_Learning           Rule_Learning\n",
              "1106406  Reinforcement_Learning  Reinforcement_Learning\n",
              "13195    Reinforcement_Learning  Reinforcement_Learning\n",
              "37879     Probabilistic_Methods   Probabilistic_Methods\n",
              "1126012   Probabilistic_Methods   Probabilistic_Methods\n",
              "1107140  Reinforcement_Learning                  Theory\n",
              "1102850         Neural_Networks         Neural_Networks\n",
              "31349           Neural_Networks         Neural_Networks\n",
              "1106418                  Theory                  Theory\n",
              "1123188         Neural_Networks         Neural_Networks\n",
              "1128990         Neural_Networks      Genetic_Algorithms\n",
              "109323    Probabilistic_Methods   Probabilistic_Methods\n",
              "217139          Neural_Networks              Case_Based\n",
              "31353           Neural_Networks         Neural_Networks\n",
              "32083           Neural_Networks         Neural_Networks\n",
              "1126029  Reinforcement_Learning  Reinforcement_Learning\n",
              "1118017         Neural_Networks         Neural_Networks\n",
              "49482           Neural_Networks         Neural_Networks\n",
              "753265                   Theory         Neural_Networks"
            ],
            "text/html": [
              "\n",
              "  <div id=\"df-a58d7e08-4173-4f99-9e86-187e3734e3bf\">\n",
              "    <div class=\"colab-df-container\">\n",
              "      <div>\n",
              "<style scoped>\n",
              "    .dataframe tbody tr th:only-of-type {\n",
              "        vertical-align: middle;\n",
              "    }\n",
              "\n",
              "    .dataframe tbody tr th {\n",
              "        vertical-align: top;\n",
              "    }\n",
              "\n",
              "    .dataframe thead th {\n",
              "        text-align: right;\n",
              "    }\n",
              "</style>\n",
              "<table border=\"1\" class=\"dataframe\">\n",
              "  <thead>\n",
              "    <tr style=\"text-align: right;\">\n",
              "      <th></th>\n",
              "      <th>Predicted</th>\n",
              "      <th>True</th>\n",
              "    </tr>\n",
              "  </thead>\n",
              "  <tbody>\n",
              "    <tr>\n",
              "      <th>31336</th>\n",
              "      <td>Neural_Networks</td>\n",
              "      <td>Neural_Networks</td>\n",
              "    </tr>\n",
              "    <tr>\n",
              "      <th>1061127</th>\n",
              "      <td>Rule_Learning</td>\n",
              "      <td>Rule_Learning</td>\n",
              "    </tr>\n",
              "    <tr>\n",
              "      <th>1106406</th>\n",
              "      <td>Reinforcement_Learning</td>\n",
              "      <td>Reinforcement_Learning</td>\n",
              "    </tr>\n",
              "    <tr>\n",
              "      <th>13195</th>\n",
              "      <td>Reinforcement_Learning</td>\n",
              "      <td>Reinforcement_Learning</td>\n",
              "    </tr>\n",
              "    <tr>\n",
              "      <th>37879</th>\n",
              "      <td>Probabilistic_Methods</td>\n",
              "      <td>Probabilistic_Methods</td>\n",
              "    </tr>\n",
              "    <tr>\n",
              "      <th>1126012</th>\n",
              "      <td>Probabilistic_Methods</td>\n",
              "      <td>Probabilistic_Methods</td>\n",
              "    </tr>\n",
              "    <tr>\n",
              "      <th>1107140</th>\n",
              "      <td>Reinforcement_Learning</td>\n",
              "      <td>Theory</td>\n",
              "    </tr>\n",
              "    <tr>\n",
              "      <th>1102850</th>\n",
              "      <td>Neural_Networks</td>\n",
              "      <td>Neural_Networks</td>\n",
              "    </tr>\n",
              "    <tr>\n",
              "      <th>31349</th>\n",
              "      <td>Neural_Networks</td>\n",
              "      <td>Neural_Networks</td>\n",
              "    </tr>\n",
              "    <tr>\n",
              "      <th>1106418</th>\n",
              "      <td>Theory</td>\n",
              "      <td>Theory</td>\n",
              "    </tr>\n",
              "    <tr>\n",
              "      <th>1123188</th>\n",
              "      <td>Neural_Networks</td>\n",
              "      <td>Neural_Networks</td>\n",
              "    </tr>\n",
              "    <tr>\n",
              "      <th>1128990</th>\n",
              "      <td>Neural_Networks</td>\n",
              "      <td>Genetic_Algorithms</td>\n",
              "    </tr>\n",
              "    <tr>\n",
              "      <th>109323</th>\n",
              "      <td>Probabilistic_Methods</td>\n",
              "      <td>Probabilistic_Methods</td>\n",
              "    </tr>\n",
              "    <tr>\n",
              "      <th>217139</th>\n",
              "      <td>Neural_Networks</td>\n",
              "      <td>Case_Based</td>\n",
              "    </tr>\n",
              "    <tr>\n",
              "      <th>31353</th>\n",
              "      <td>Neural_Networks</td>\n",
              "      <td>Neural_Networks</td>\n",
              "    </tr>\n",
              "    <tr>\n",
              "      <th>32083</th>\n",
              "      <td>Neural_Networks</td>\n",
              "      <td>Neural_Networks</td>\n",
              "    </tr>\n",
              "    <tr>\n",
              "      <th>1126029</th>\n",
              "      <td>Reinforcement_Learning</td>\n",
              "      <td>Reinforcement_Learning</td>\n",
              "    </tr>\n",
              "    <tr>\n",
              "      <th>1118017</th>\n",
              "      <td>Neural_Networks</td>\n",
              "      <td>Neural_Networks</td>\n",
              "    </tr>\n",
              "    <tr>\n",
              "      <th>49482</th>\n",
              "      <td>Neural_Networks</td>\n",
              "      <td>Neural_Networks</td>\n",
              "    </tr>\n",
              "    <tr>\n",
              "      <th>753265</th>\n",
              "      <td>Theory</td>\n",
              "      <td>Neural_Networks</td>\n",
              "    </tr>\n",
              "  </tbody>\n",
              "</table>\n",
              "</div>\n",
              "      <button class=\"colab-df-convert\" onclick=\"convertToInteractive('df-a58d7e08-4173-4f99-9e86-187e3734e3bf')\"\n",
              "              title=\"Convert this dataframe to an interactive table.\"\n",
              "              style=\"display:none;\">\n",
              "        \n",
              "  <svg xmlns=\"http://www.w3.org/2000/svg\" height=\"24px\"viewBox=\"0 0 24 24\"\n",
              "       width=\"24px\">\n",
              "    <path d=\"M0 0h24v24H0V0z\" fill=\"none\"/>\n",
              "    <path d=\"M18.56 5.44l.94 2.06.94-2.06 2.06-.94-2.06-.94-.94-2.06-.94 2.06-2.06.94zm-11 1L8.5 8.5l.94-2.06 2.06-.94-2.06-.94L8.5 2.5l-.94 2.06-2.06.94zm10 10l.94 2.06.94-2.06 2.06-.94-2.06-.94-.94-2.06-.94 2.06-2.06.94z\"/><path d=\"M17.41 7.96l-1.37-1.37c-.4-.4-.92-.59-1.43-.59-.52 0-1.04.2-1.43.59L10.3 9.45l-7.72 7.72c-.78.78-.78 2.05 0 2.83L4 21.41c.39.39.9.59 1.41.59.51 0 1.02-.2 1.41-.59l7.78-7.78 2.81-2.81c.8-.78.8-2.07 0-2.86zM5.41 20L4 18.59l7.72-7.72 1.47 1.35L5.41 20z\"/>\n",
              "  </svg>\n",
              "      </button>\n",
              "      \n",
              "  <style>\n",
              "    .colab-df-container {\n",
              "      display:flex;\n",
              "      flex-wrap:wrap;\n",
              "      gap: 12px;\n",
              "    }\n",
              "\n",
              "    .colab-df-convert {\n",
              "      background-color: #E8F0FE;\n",
              "      border: none;\n",
              "      border-radius: 50%;\n",
              "      cursor: pointer;\n",
              "      display: none;\n",
              "      fill: #1967D2;\n",
              "      height: 32px;\n",
              "      padding: 0 0 0 0;\n",
              "      width: 32px;\n",
              "    }\n",
              "\n",
              "    .colab-df-convert:hover {\n",
              "      background-color: #E2EBFA;\n",
              "      box-shadow: 0px 1px 2px rgba(60, 64, 67, 0.3), 0px 1px 3px 1px rgba(60, 64, 67, 0.15);\n",
              "      fill: #174EA6;\n",
              "    }\n",
              "\n",
              "    [theme=dark] .colab-df-convert {\n",
              "      background-color: #3B4455;\n",
              "      fill: #D2E3FC;\n",
              "    }\n",
              "\n",
              "    [theme=dark] .colab-df-convert:hover {\n",
              "      background-color: #434B5C;\n",
              "      box-shadow: 0px 1px 3px 1px rgba(0, 0, 0, 0.15);\n",
              "      filter: drop-shadow(0px 1px 2px rgba(0, 0, 0, 0.3));\n",
              "      fill: #FFFFFF;\n",
              "    }\n",
              "  </style>\n",
              "\n",
              "      <script>\n",
              "        const buttonEl =\n",
              "          document.querySelector('#df-a58d7e08-4173-4f99-9e86-187e3734e3bf button.colab-df-convert');\n",
              "        buttonEl.style.display =\n",
              "          google.colab.kernel.accessAllowed ? 'block' : 'none';\n",
              "\n",
              "        async function convertToInteractive(key) {\n",
              "          const element = document.querySelector('#df-a58d7e08-4173-4f99-9e86-187e3734e3bf');\n",
              "          const dataTable =\n",
              "            await google.colab.kernel.invokeFunction('convertToInteractive',\n",
              "                                                     [key], {});\n",
              "          if (!dataTable) return;\n",
              "\n",
              "          const docLinkHtml = 'Like what you see? Visit the ' +\n",
              "            '<a target=\"_blank\" href=https://colab.research.google.com/notebooks/data_table.ipynb>data table notebook</a>'\n",
              "            + ' to learn more about interactive tables.';\n",
              "          element.innerHTML = '';\n",
              "          dataTable['output_type'] = 'display_data';\n",
              "          await google.colab.output.renderOutput(dataTable, element);\n",
              "          const docLink = document.createElement('div');\n",
              "          docLink.innerHTML = docLinkHtml;\n",
              "          element.appendChild(docLink);\n",
              "        }\n",
              "      </script>\n",
              "    </div>\n",
              "  </div>\n",
              "  "
            ]
          },
          "metadata": {},
          "execution_count": 23
        }
      ]
    },
    {
      "cell_type": "markdown",
      "source": [
        "Node embeddings"
      ],
      "metadata": {
        "id": "9I7t7SfBkFZu"
      }
    },
    {
      "cell_type": "code",
      "source": [
        "embedding_model = Model(inputs=x_inp, outputs=x_out)"
      ],
      "metadata": {
        "id": "mJaYFhookBIl"
      },
      "execution_count": 24,
      "outputs": []
    },
    {
      "cell_type": "code",
      "source": [
        "emb = embedding_model.predict(all_gen)\n",
        "emb.shape"
      ],
      "metadata": {
        "colab": {
          "base_uri": "https://localhost:8080/"
        },
        "id": "UmNQz31DkH7L",
        "outputId": "05d9eb71-abd7-433d-f276-d36e7e1e51ab"
      },
      "execution_count": 25,
      "outputs": [
        {
          "output_type": "stream",
          "name": "stdout",
          "text": [
            "1/1 [==============================] - 0s 117ms/step\n"
          ]
        },
        {
          "output_type": "execute_result",
          "data": {
            "text/plain": [
              "(1, 2708, 16)"
            ]
          },
          "metadata": {},
          "execution_count": 25
        }
      ]
    },
    {
      "cell_type": "markdown",
      "source": [
        "Dimensional Reduction"
      ],
      "metadata": {
        "id": "Nx_Ka3ZzkRrH"
      }
    },
    {
      "cell_type": "code",
      "source": [
        "transform = TSNE  # or PCA"
      ],
      "metadata": {
        "id": "BZRcMLZUkJS0"
      },
      "execution_count": 28,
      "outputs": []
    },
    {
      "cell_type": "code",
      "source": [
        "X = emb.squeeze(0)\n",
        "X.shape"
      ],
      "metadata": {
        "colab": {
          "base_uri": "https://localhost:8080/"
        },
        "id": "EwoABIwokOrm",
        "outputId": "170fa85d-f347-4f39-f7c8-f0fd3d5e76a6"
      },
      "execution_count": 29,
      "outputs": [
        {
          "output_type": "execute_result",
          "data": {
            "text/plain": [
              "(2708, 16)"
            ]
          },
          "metadata": {},
          "execution_count": 29
        }
      ]
    },
    {
      "cell_type": "code",
      "source": [
        "trans = transform(n_components=2)\n",
        "X_reduced = trans.fit_transform(X)\n",
        "X_reduced.shape"
      ],
      "metadata": {
        "colab": {
          "base_uri": "https://localhost:8080/"
        },
        "id": "2Ec00o0ikaLl",
        "outputId": "109a5834-1db3-4427-b796-174e3537ac5f"
      },
      "execution_count": 30,
      "outputs": [
        {
          "output_type": "stream",
          "name": "stderr",
          "text": [
            "/usr/local/lib/python3.7/dist-packages/sklearn/manifold/_t_sne.py:783: FutureWarning: The default initialization in TSNE will change from 'random' to 'pca' in 1.2.\n",
            "  FutureWarning,\n",
            "/usr/local/lib/python3.7/dist-packages/sklearn/manifold/_t_sne.py:793: FutureWarning: The default learning rate in TSNE will change from 200.0 to 'auto' in 1.2.\n",
            "  FutureWarning,\n"
          ]
        },
        {
          "output_type": "execute_result",
          "data": {
            "text/plain": [
              "(2708, 2)"
            ]
          },
          "metadata": {},
          "execution_count": 30
        }
      ]
    },
    {
      "cell_type": "code",
      "source": [
        "fig, ax = plt.subplots(figsize=(7, 7))\n",
        "ax.scatter(\n",
        "    X_reduced[:, 0],\n",
        "    X_reduced[:, 1],\n",
        "    c=node_subjects.astype(\"category\").cat.codes,\n",
        "    cmap=\"jet\",\n",
        "    alpha=0.7,\n",
        ")\n",
        "ax.set(\n",
        "    aspect=\"equal\",\n",
        "    xlabel=\"$X_1$\",\n",
        "    ylabel=\"$X_2$\",\n",
        "    title=f\"{transform.__name__} visualization of GCN embeddings for cora dataset\",\n",
        ")"
      ],
      "metadata": {
        "colab": {
          "base_uri": "https://localhost:8080/",
          "height": 531
        },
        "id": "hmtzkwmzkb8B",
        "outputId": "7b12d133-0432-4a8b-9222-e4d96fd062a5"
      },
      "execution_count": 31,
      "outputs": [
        {
          "output_type": "execute_result",
          "data": {
            "text/plain": [
              "[Text(0, 0.5, '$X_2$'),\n",
              " Text(0.5, 0, '$X_1$'),\n",
              " Text(0.5, 1.0, 'TSNE visualization of GCN embeddings for cora dataset'),\n",
              " None]"
            ]
          },
          "metadata": {},
          "execution_count": 31
        },
        {
          "output_type": "display_data",
          "data": {
            "text/plain": [
              "<Figure size 504x504 with 1 Axes>"
            ],
            "image/png": "[encoded data removed]"
          },
          "metadata": {
            "needs_background": "light"
          }
        }
      ]
    },
    {
      "cell_type": "code",
      "source": [],
      "metadata": {
        "id": "OladdkOdkgNj"
      },
      "execution_count": null,
      "outputs": []
    }
  ]
}