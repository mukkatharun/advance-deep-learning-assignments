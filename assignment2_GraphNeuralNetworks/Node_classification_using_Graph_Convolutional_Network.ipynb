{
  "nbformat": 4,
  "nbformat_minor": 0,
  "metadata": {
    "colab": {
      "provenance": [],
      "include_colab_link": true
    },
    "kernelspec": {
      "name": "python3",
      "display_name": "Python 3"
    },
    "language_info": {
      "name": "python"
    }
  },
  "cells": [
    {
      "cell_type": "markdown",
      "metadata": {
        "id": "view-in-github",
        "colab_type": "text"
      },
      "source": [
        "<a href=\"https://colab.research.google.com/github/mukkatharun/advance-deep-learning-assignments/blob/main/assignment2_GraphNeuralNetworks/Node_classification_using_Graph_Convolutional_Network.ipynb\" target=\"_parent\"><img src=\"https://colab.research.google.com/assets/colab-badge.svg\" alt=\"Open In Colab\"/></a>"
      ]
    },
    {
      "cell_type": "markdown",
      "source": [
        "Install required packages"
      ],
      "metadata": {
        "id": "aUmpUXRyk2FC"
      }
    },
    {
      "cell_type": "code",
      "source": [
        "pip install stellargraph"
      ],
      "metadata": {
        "id": "i1XQc-0UjKhP",
        "outputId": "81081b4c-d0bf-430e-e201-c7d07b034401",
        "colab": {
          "base_uri": "https://localhost:8080/"
        }
      },
      "execution_count": 150,
      "outputs": [
        {
          "output_type": "stream",
          "name": "stdout",
          "text": [
            "Looking in indexes: https://pypi.org/simple, https://us-python.pkg.dev/colab-wheels/public/simple/\n",
            "Requirement already satisfied: stellargraph in /usr/local/lib/python3.7/dist-packages (1.2.1)\n",
            "Requirement already satisfied: gensim>=3.4.0 in /usr/local/lib/python3.7/dist-packages (from stellargraph) (3.6.0)\n",
            "Requirement already satisfied: pandas>=0.24 in /usr/local/lib/python3.7/dist-packages (from stellargraph) (1.3.5)\n",
            "Requirement already satisfied: matplotlib>=2.2 in /usr/local/lib/python3.7/dist-packages (from stellargraph) (3.2.2)\n",
            "Requirement already satisfied: scipy>=1.1.0 in /usr/local/lib/python3.7/dist-packages (from stellargraph) (1.7.3)\n",
            "Requirement already satisfied: numpy>=1.14 in /usr/local/lib/python3.7/dist-packages (from stellargraph) (1.21.6)\n",
            "Requirement already satisfied: scikit-learn>=0.20 in /usr/local/lib/python3.7/dist-packages (from stellargraph) (1.0.2)\n",
            "Requirement already satisfied: tensorflow>=2.1.0 in /usr/local/lib/python3.7/dist-packages (from stellargraph) (2.9.2)\n",
            "Requirement already satisfied: networkx>=2.2 in /usr/local/lib/python3.7/dist-packages (from stellargraph) (2.6.3)\n",
            "Requirement already satisfied: smart-open>=1.2.1 in /usr/local/lib/python3.7/dist-packages (from gensim>=3.4.0->stellargraph) (5.2.1)\n",
            "Requirement already satisfied: six>=1.5.0 in /usr/local/lib/python3.7/dist-packages (from gensim>=3.4.0->stellargraph) (1.15.0)\n",
            "Requirement already satisfied: python-dateutil>=2.1 in /usr/local/lib/python3.7/dist-packages (from matplotlib>=2.2->stellargraph) (2.8.2)\n",
            "Requirement already satisfied: pyparsing!=2.0.4,!=2.1.2,!=2.1.6,>=2.0.1 in /usr/local/lib/python3.7/dist-packages (from matplotlib>=2.2->stellargraph) (3.0.9)\n",
            "Requirement already satisfied: kiwisolver>=1.0.1 in /usr/local/lib/python3.7/dist-packages (from matplotlib>=2.2->stellargraph) (1.4.4)\n",
            "Requirement already satisfied: cycler>=0.10 in /usr/local/lib/python3.7/dist-packages (from matplotlib>=2.2->stellargraph) (0.11.0)\n",
            "Requirement already satisfied: typing-extensions in /usr/local/lib/python3.7/dist-packages (from kiwisolver>=1.0.1->matplotlib>=2.2->stellargraph) (4.1.1)\n",
            "Requirement already satisfied: pytz>=2017.3 in /usr/local/lib/python3.7/dist-packages (from pandas>=0.24->stellargraph) (2022.4)\n",
            "Requirement already satisfied: threadpoolctl>=2.0.0 in /usr/local/lib/python3.7/dist-packages (from scikit-learn>=0.20->stellargraph) (3.1.0)\n",
            "Requirement already satisfied: joblib>=0.11 in /usr/local/lib/python3.7/dist-packages (from scikit-learn>=0.20->stellargraph) (1.2.0)\n",
            "Requirement already satisfied: absl-py>=1.0.0 in /usr/local/lib/python3.7/dist-packages (from tensorflow>=2.1.0->stellargraph) (1.2.0)\n",
            "Requirement already satisfied: flatbuffers<2,>=1.12 in /usr/local/lib/python3.7/dist-packages (from tensorflow>=2.1.0->stellargraph) (1.12)\n",
            "Requirement already satisfied: h5py>=2.9.0 in /usr/local/lib/python3.7/dist-packages (from tensorflow>=2.1.0->stellargraph) (3.1.0)\n",
            "Requirement already satisfied: wrapt>=1.11.0 in /usr/local/lib/python3.7/dist-packages (from tensorflow>=2.1.0->stellargraph) (1.14.1)\n",
            "Requirement already satisfied: opt-einsum>=2.3.2 in /usr/local/lib/python3.7/dist-packages (from tensorflow>=2.1.0->stellargraph) (3.3.0)\n",
            "Requirement already satisfied: tensorflow-estimator<2.10.0,>=2.9.0rc0 in /usr/local/lib/python3.7/dist-packages (from tensorflow>=2.1.0->stellargraph) (2.9.0)\n",
            "Requirement already satisfied: termcolor>=1.1.0 in /usr/local/lib/python3.7/dist-packages (from tensorflow>=2.1.0->stellargraph) (2.0.1)\n",
            "Requirement already satisfied: keras-preprocessing>=1.1.1 in /usr/local/lib/python3.7/dist-packages (from tensorflow>=2.1.0->stellargraph) (1.1.2)\n",
            "Requirement already satisfied: libclang>=13.0.0 in /usr/local/lib/python3.7/dist-packages (from tensorflow>=2.1.0->stellargraph) (14.0.6)\n",
            "Requirement already satisfied: grpcio<2.0,>=1.24.3 in /usr/local/lib/python3.7/dist-packages (from tensorflow>=2.1.0->stellargraph) (1.49.1)\n",
            "Requirement already satisfied: tensorboard<2.10,>=2.9 in /usr/local/lib/python3.7/dist-packages (from tensorflow>=2.1.0->stellargraph) (2.9.1)\n",
            "Requirement already satisfied: google-pasta>=0.1.1 in /usr/local/lib/python3.7/dist-packages (from tensorflow>=2.1.0->stellargraph) (0.2.0)\n",
            "Requirement already satisfied: gast<=0.4.0,>=0.2.1 in /usr/local/lib/python3.7/dist-packages (from tensorflow>=2.1.0->stellargraph) (0.4.0)\n",
            "Requirement already satisfied: packaging in /usr/local/lib/python3.7/dist-packages (from tensorflow>=2.1.0->stellargraph) (21.3)\n",
            "Requirement already satisfied: tensorflow-io-gcs-filesystem>=0.23.1 in /usr/local/lib/python3.7/dist-packages (from tensorflow>=2.1.0->stellargraph) (0.27.0)\n",
            "Requirement already satisfied: setuptools in /usr/local/lib/python3.7/dist-packages (from tensorflow>=2.1.0->stellargraph) (57.4.0)\n",
            "Requirement already satisfied: keras<2.10.0,>=2.9.0rc0 in /usr/local/lib/python3.7/dist-packages (from tensorflow>=2.1.0->stellargraph) (2.9.0)\n",
            "Requirement already satisfied: astunparse>=1.6.0 in /usr/local/lib/python3.7/dist-packages (from tensorflow>=2.1.0->stellargraph) (1.6.3)\n",
            "Requirement already satisfied: protobuf<3.20,>=3.9.2 in /usr/local/lib/python3.7/dist-packages (from tensorflow>=2.1.0->stellargraph) (3.17.3)\n",
            "Requirement already satisfied: wheel<1.0,>=0.23.0 in /usr/local/lib/python3.7/dist-packages (from astunparse>=1.6.0->tensorflow>=2.1.0->stellargraph) (0.37.1)\n",
            "Requirement already satisfied: cached-property in /usr/local/lib/python3.7/dist-packages (from h5py>=2.9.0->tensorflow>=2.1.0->stellargraph) (1.5.2)\n",
            "Requirement already satisfied: tensorboard-data-server<0.7.0,>=0.6.0 in /usr/local/lib/python3.7/dist-packages (from tensorboard<2.10,>=2.9->tensorflow>=2.1.0->stellargraph) (0.6.1)\n",
            "Requirement already satisfied: markdown>=2.6.8 in /usr/local/lib/python3.7/dist-packages (from tensorboard<2.10,>=2.9->tensorflow>=2.1.0->stellargraph) (3.4.1)\n",
            "Requirement already satisfied: requests<3,>=2.21.0 in /usr/local/lib/python3.7/dist-packages (from tensorboard<2.10,>=2.9->tensorflow>=2.1.0->stellargraph) (2.23.0)\n",
            "Requirement already satisfied: google-auth<3,>=1.6.3 in /usr/local/lib/python3.7/dist-packages (from tensorboard<2.10,>=2.9->tensorflow>=2.1.0->stellargraph) (1.35.0)\n",
            "Requirement already satisfied: tensorboard-plugin-wit>=1.6.0 in /usr/local/lib/python3.7/dist-packages (from tensorboard<2.10,>=2.9->tensorflow>=2.1.0->stellargraph) (1.8.1)\n",
            "Requirement already satisfied: werkzeug>=1.0.1 in /usr/local/lib/python3.7/dist-packages (from tensorboard<2.10,>=2.9->tensorflow>=2.1.0->stellargraph) (1.0.1)\n",
            "Requirement already satisfied: google-auth-oauthlib<0.5,>=0.4.1 in /usr/local/lib/python3.7/dist-packages (from tensorboard<2.10,>=2.9->tensorflow>=2.1.0->stellargraph) (0.4.6)\n",
            "Requirement already satisfied: rsa<5,>=3.1.4 in /usr/local/lib/python3.7/dist-packages (from google-auth<3,>=1.6.3->tensorboard<2.10,>=2.9->tensorflow>=2.1.0->stellargraph) (4.9)\n",
            "Requirement already satisfied: cachetools<5.0,>=2.0.0 in /usr/local/lib/python3.7/dist-packages (from google-auth<3,>=1.6.3->tensorboard<2.10,>=2.9->tensorflow>=2.1.0->stellargraph) (4.2.4)\n",
            "Requirement already satisfied: pyasn1-modules>=0.2.1 in /usr/local/lib/python3.7/dist-packages (from google-auth<3,>=1.6.3->tensorboard<2.10,>=2.9->tensorflow>=2.1.0->stellargraph) (0.2.8)\n",
            "Requirement already satisfied: requests-oauthlib>=0.7.0 in /usr/local/lib/python3.7/dist-packages (from google-auth-oauthlib<0.5,>=0.4.1->tensorboard<2.10,>=2.9->tensorflow>=2.1.0->stellargraph) (1.3.1)\n",
            "Requirement already satisfied: importlib-metadata>=4.4 in /usr/local/lib/python3.7/dist-packages (from markdown>=2.6.8->tensorboard<2.10,>=2.9->tensorflow>=2.1.0->stellargraph) (5.0.0)\n",
            "Requirement already satisfied: zipp>=0.5 in /usr/local/lib/python3.7/dist-packages (from importlib-metadata>=4.4->markdown>=2.6.8->tensorboard<2.10,>=2.9->tensorflow>=2.1.0->stellargraph) (3.9.0)\n",
            "Requirement already satisfied: pyasn1<0.5.0,>=0.4.6 in /usr/local/lib/python3.7/dist-packages (from pyasn1-modules>=0.2.1->google-auth<3,>=1.6.3->tensorboard<2.10,>=2.9->tensorflow>=2.1.0->stellargraph) (0.4.8)\n",
            "Requirement already satisfied: urllib3!=1.25.0,!=1.25.1,<1.26,>=1.21.1 in /usr/local/lib/python3.7/dist-packages (from requests<3,>=2.21.0->tensorboard<2.10,>=2.9->tensorflow>=2.1.0->stellargraph) (1.24.3)\n",
            "Requirement already satisfied: chardet<4,>=3.0.2 in /usr/local/lib/python3.7/dist-packages (from requests<3,>=2.21.0->tensorboard<2.10,>=2.9->tensorflow>=2.1.0->stellargraph) (3.0.4)\n",
            "Requirement already satisfied: idna<3,>=2.5 in /usr/local/lib/python3.7/dist-packages (from requests<3,>=2.21.0->tensorboard<2.10,>=2.9->tensorflow>=2.1.0->stellargraph) (2.10)\n",
            "Requirement already satisfied: certifi>=2017.4.17 in /usr/local/lib/python3.7/dist-packages (from requests<3,>=2.21.0->tensorboard<2.10,>=2.9->tensorflow>=2.1.0->stellargraph) (2022.9.24)\n",
            "Requirement already satisfied: oauthlib>=3.0.0 in /usr/local/lib/python3.7/dist-packages (from requests-oauthlib>=0.7.0->google-auth-oauthlib<0.5,>=0.4.1->tensorboard<2.10,>=2.9->tensorflow>=2.1.0->stellargraph) (3.2.1)\n"
          ]
        }
      ]
    },
    {
      "cell_type": "markdown",
      "source": [
        "Importing the required libraries"
      ],
      "metadata": {
        "id": "SWdPq4H_k6BU"
      }
    },
    {
      "cell_type": "code",
      "execution_count": 151,
      "metadata": {
        "id": "p68l9WgVi9RJ"
      },
      "outputs": [],
      "source": [
        "import pandas as pd\n",
        "import os\n",
        "\n",
        "import stellargraph as sg\n",
        "from stellargraph.mapper import FullBatchNodeGenerator\n",
        "from stellargraph.layer import GCN\n",
        "from tensorflow.keras.callbacks import EarlyStopping\n",
        "\n",
        "from tensorflow.keras import layers, optimizers, losses, metrics, Model\n",
        "from sklearn import preprocessing, model_selection\n",
        "from IPython.display import display, HTML\n",
        "from sklearn.decomposition import PCA\n",
        "from sklearn.manifold import TSNE\n",
        "import matplotlib.pyplot as plt\n",
        "%matplotlib inline"
      ]
    },
    {
      "cell_type": "markdown",
      "source": [
        "Loading the Cora dataset"
      ],
      "metadata": {
        "id": "-FjhV82thvo3"
      }
    },
    {
      "cell_type": "code",
      "source": [
        "dataset = sg.datasets.Cora()\n",
        "G, node_subjects = dataset.load()"
      ],
      "metadata": {
        "id": "Pq0i23-ji_fB"
      },
      "execution_count": 152,
      "outputs": []
    },
    {
      "cell_type": "code",
      "source": [
        "node_subjects.head()"
      ],
      "metadata": {
        "colab": {
          "base_uri": "https://localhost:8080/"
        },
        "id": "8FF3rGzJjQRn",
        "outputId": "6965fe5c-bee5-4124-ef51-2c9ecd991b15"
      },
      "execution_count": 153,
      "outputs": [
        {
          "output_type": "execute_result",
          "data": {
            "text/plain": [
              "31336             Neural_Networks\n",
              "1061127             Rule_Learning\n",
              "1106406    Reinforcement_Learning\n",
              "13195      Reinforcement_Learning\n",
              "37879       Probabilistic_Methods\n",
              "Name: subject, dtype: object"
            ]
          },
          "metadata": {},
          "execution_count": 153
        }
      ]
    },
    {
      "cell_type": "code",
      "source": [
        "print(G.info())"
      ],
      "metadata": {
        "id": "g0NZZSeipip7",
        "outputId": "fddba333-c59d-46e5-9cce-d268d73943c3",
        "colab": {
          "base_uri": "https://localhost:8080/"
        }
      },
      "execution_count": 154,
      "outputs": [
        {
          "output_type": "stream",
          "name": "stdout",
          "text": [
            "StellarGraph: Undirected multigraph\n",
            " Nodes: 2708, Edges: 5429\n",
            "\n",
            " Node types:\n",
            "  paper: [2708]\n",
            "    Features: float32 vector, length 1433\n",
            "    Edge types: paper-cites->paper\n",
            "\n",
            " Edge types:\n",
            "    paper-cites->paper: [5429]\n",
            "        Weights: all 1 (default)\n",
            "        Features: none\n"
          ]
        }
      ]
    },
    {
      "cell_type": "markdown",
      "source": [
        "Data Splitting"
      ],
      "metadata": {
        "id": "OZEtxCtojURx"
      }
    },
    {
      "cell_type": "code",
      "source": [
        "train, test = model_selection.train_test_split(\n",
        "    node_subjects, train_size=140, test_size=None, stratify=node_subjects\n",
        ")\n",
        "val_subjects, test = model_selection.train_test_split(\n",
        "    test, train_size=500, test_size=None, stratify=test\n",
        ")"
      ],
      "metadata": {
        "id": "-_TPr-gXjSTo"
      },
      "execution_count": 155,
      "outputs": []
    },
    {
      "cell_type": "code",
      "source": [
        "train.value_counts().to_frame()"
      ],
      "metadata": {
        "colab": {
          "base_uri": "https://localhost:8080/",
          "height": 269
        },
        "id": "GNUp4uKWjWLD",
        "outputId": "7d0580ac-80e4-439f-a7db-1a426bdc31eb"
      },
      "execution_count": 156,
      "outputs": [
        {
          "output_type": "execute_result",
          "data": {
            "text/plain": [
              "                        subject\n",
              "Neural_Networks              42\n",
              "Probabilistic_Methods        22\n",
              "Genetic_Algorithms           22\n",
              "Theory                       18\n",
              "Case_Based                   16\n",
              "Reinforcement_Learning       11\n",
              "Rule_Learning                 9"
            ],
            "text/html": [
              "\n",
              "  <div id=\"df-99dea2f6-9074-4747-a4a4-d47340f58678\">\n",
              "    <div class=\"colab-df-container\">\n",
              "      <div>\n",
              "<style scoped>\n",
              "    .dataframe tbody tr th:only-of-type {\n",
              "        vertical-align: middle;\n",
              "    }\n",
              "\n",
              "    .dataframe tbody tr th {\n",
              "        vertical-align: top;\n",
              "    }\n",
              "\n",
              "    .dataframe thead th {\n",
              "        text-align: right;\n",
              "    }\n",
              "</style>\n",
              "<table border=\"1\" class=\"dataframe\">\n",
              "  <thead>\n",
              "    <tr style=\"text-align: right;\">\n",
              "      <th></th>\n",
              "      <th>subject</th>\n",
              "    </tr>\n",
              "  </thead>\n",
              "  <tbody>\n",
              "    <tr>\n",
              "      <th>Neural_Networks</th>\n",
              "      <td>42</td>\n",
              "    </tr>\n",
              "    <tr>\n",
              "      <th>Probabilistic_Methods</th>\n",
              "      <td>22</td>\n",
              "    </tr>\n",
              "    <tr>\n",
              "      <th>Genetic_Algorithms</th>\n",
              "      <td>22</td>\n",
              "    </tr>\n",
              "    <tr>\n",
              "      <th>Theory</th>\n",
              "      <td>18</td>\n",
              "    </tr>\n",
              "    <tr>\n",
              "      <th>Case_Based</th>\n",
              "      <td>16</td>\n",
              "    </tr>\n",
              "    <tr>\n",
              "      <th>Reinforcement_Learning</th>\n",
              "      <td>11</td>\n",
              "    </tr>\n",
              "    <tr>\n",
              "      <th>Rule_Learning</th>\n",
              "      <td>9</td>\n",
              "    </tr>\n",
              "  </tbody>\n",
              "</table>\n",
              "</div>\n",
              "      <button class=\"colab-df-convert\" onclick=\"convertToInteractive('df-99dea2f6-9074-4747-a4a4-d47340f58678')\"\n",
              "              title=\"Convert this dataframe to an interactive table.\"\n",
              "              style=\"display:none;\">\n",
              "        \n",
              "  <svg xmlns=\"http://www.w3.org/2000/svg\" height=\"24px\"viewBox=\"0 0 24 24\"\n",
              "       width=\"24px\">\n",
              "    <path d=\"M0 0h24v24H0V0z\" fill=\"none\"/>\n",
              "    <path d=\"M18.56 5.44l.94 2.06.94-2.06 2.06-.94-2.06-.94-.94-2.06-.94 2.06-2.06.94zm-11 1L8.5 8.5l.94-2.06 2.06-.94-2.06-.94L8.5 2.5l-.94 2.06-2.06.94zm10 10l.94 2.06.94-2.06 2.06-.94-2.06-.94-.94-2.06-.94 2.06-2.06.94z\"/><path d=\"M17.41 7.96l-1.37-1.37c-.4-.4-.92-.59-1.43-.59-.52 0-1.04.2-1.43.59L10.3 9.45l-7.72 7.72c-.78.78-.78 2.05 0 2.83L4 21.41c.39.39.9.59 1.41.59.51 0 1.02-.2 1.41-.59l7.78-7.78 2.81-2.81c.8-.78.8-2.07 0-2.86zM5.41 20L4 18.59l7.72-7.72 1.47 1.35L5.41 20z\"/>\n",
              "  </svg>\n",
              "      </button>\n",
              "      \n",
              "  <style>\n",
              "    .colab-df-container {\n",
              "      display:flex;\n",
              "      flex-wrap:wrap;\n",
              "      gap: 12px;\n",
              "    }\n",
              "\n",
              "    .colab-df-convert {\n",
              "      background-color: #E8F0FE;\n",
              "      border: none;\n",
              "      border-radius: 50%;\n",
              "      cursor: pointer;\n",
              "      display: none;\n",
              "      fill: #1967D2;\n",
              "      height: 32px;\n",
              "      padding: 0 0 0 0;\n",
              "      width: 32px;\n",
              "    }\n",
              "\n",
              "    .colab-df-convert:hover {\n",
              "      background-color: #E2EBFA;\n",
              "      box-shadow: 0px 1px 2px rgba(60, 64, 67, 0.3), 0px 1px 3px 1px rgba(60, 64, 67, 0.15);\n",
              "      fill: #174EA6;\n",
              "    }\n",
              "\n",
              "    [theme=dark] .colab-df-convert {\n",
              "      background-color: #3B4455;\n",
              "      fill: #D2E3FC;\n",
              "    }\n",
              "\n",
              "    [theme=dark] .colab-df-convert:hover {\n",
              "      background-color: #434B5C;\n",
              "      box-shadow: 0px 1px 3px 1px rgba(0, 0, 0, 0.15);\n",
              "      filter: drop-shadow(0px 1px 2px rgba(0, 0, 0, 0.3));\n",
              "      fill: #FFFFFF;\n",
              "    }\n",
              "  </style>\n",
              "\n",
              "      <script>\n",
              "        const buttonEl =\n",
              "          document.querySelector('#df-99dea2f6-9074-4747-a4a4-d47340f58678 button.colab-df-convert');\n",
              "        buttonEl.style.display =\n",
              "          google.colab.kernel.accessAllowed ? 'block' : 'none';\n",
              "\n",
              "        async function convertToInteractive(key) {\n",
              "          const element = document.querySelector('#df-99dea2f6-9074-4747-a4a4-d47340f58678');\n",
              "          const dataTable =\n",
              "            await google.colab.kernel.invokeFunction('convertToInteractive',\n",
              "                                                     [key], {});\n",
              "          if (!dataTable) return;\n",
              "\n",
              "          const docLinkHtml = 'Like what you see? Visit the ' +\n",
              "            '<a target=\"_blank\" href=https://colab.research.google.com/notebooks/data_table.ipynb>data table notebook</a>'\n",
              "            + ' to learn more about interactive tables.';\n",
              "          element.innerHTML = '';\n",
              "          dataTable['output_type'] = 'display_data';\n",
              "          await google.colab.output.renderOutput(dataTable, element);\n",
              "          const docLink = document.createElement('div');\n",
              "          docLink.innerHTML = docLinkHtml;\n",
              "          element.appendChild(docLink);\n",
              "        }\n",
              "      </script>\n",
              "    </div>\n",
              "  </div>\n",
              "  "
            ]
          },
          "metadata": {},
          "execution_count": 156
        }
      ]
    },
    {
      "cell_type": "markdown",
      "source": [
        "Converting to numeric arrays"
      ],
      "metadata": {
        "id": "KXuktxyKjZY2"
      }
    },
    {
      "cell_type": "code",
      "source": [
        "target_encoding = preprocessing.LabelBinarizer()\n",
        "\n",
        "train_targets = target_encoding.fit_transform(train)\n",
        "val_targets = target_encoding.transform(val_subjects)\n",
        "test_targets = target_encoding.transform(test)"
      ],
      "metadata": {
        "id": "3qGlJowLjXs5"
      },
      "execution_count": 157,
      "outputs": []
    },
    {
      "cell_type": "markdown",
      "source": [
        "GCN layers creation"
      ],
      "metadata": {
        "id": "9C-Gi4PKjeLE"
      }
    },
    {
      "cell_type": "code",
      "source": [
        "generator = FullBatchNodeGenerator(G, method=\"gcn\")"
      ],
      "metadata": {
        "colab": {
          "base_uri": "https://localhost:8080/"
        },
        "id": "gueexZoJjbv_",
        "outputId": "3eb50335-e948-47ab-ef55-023dddcc6f4b"
      },
      "execution_count": 158,
      "outputs": [
        {
          "output_type": "stream",
          "name": "stdout",
          "text": [
            "Using GCN (local pooling) filters...\n"
          ]
        }
      ]
    },
    {
      "cell_type": "code",
      "source": [
        "train_gen = generator.flow(train.index, train_targets)"
      ],
      "metadata": {
        "id": "hxe05MKKjg7s"
      },
      "execution_count": 159,
      "outputs": []
    },
    {
      "cell_type": "code",
      "source": [
        "gcn = GCN(\n",
        "    layer_sizes=[16, 16], activations=[\"relu\", \"relu\"], generator=generator, dropout=0.5\n",
        ")"
      ],
      "metadata": {
        "id": "gRqC7WNrjihZ"
      },
      "execution_count": 160,
      "outputs": []
    },
    {
      "cell_type": "code",
      "source": [
        "x_inp, x_out = gcn.in_out_tensors()\n",
        "\n",
        "x_out"
      ],
      "metadata": {
        "colab": {
          "base_uri": "https://localhost:8080/"
        },
        "id": "qSKnT63Djj3E",
        "outputId": "7e1b6014-e2f5-494c-a18a-f26da1fdc678"
      },
      "execution_count": 161,
      "outputs": [
        {
          "output_type": "execute_result",
          "data": {
            "text/plain": [
              "<KerasTensor: shape=(1, None, 16) dtype=float32 (created by layer 'gather_indices_5')>"
            ]
          },
          "metadata": {},
          "execution_count": 161
        }
      ]
    },
    {
      "cell_type": "code",
      "source": [
        "predictions = layers.Dense(units=train_targets.shape[1], activation=\"softmax\")(x_out)"
      ],
      "metadata": {
        "id": "MliI_2JYjlvQ"
      },
      "execution_count": 162,
      "outputs": []
    },
    {
      "cell_type": "markdown",
      "source": [
        "Modelling"
      ],
      "metadata": {
        "id": "JbGNWx3rjpmF"
      }
    },
    {
      "cell_type": "code",
      "source": [
        "model = Model(inputs=x_inp, outputs=predictions)\n",
        "model.compile(\n",
        "    optimizer=optimizers.Adam(lr=0.01),\n",
        "    loss=losses.categorical_crossentropy,\n",
        "    metrics=[\"acc\"],\n",
        ")"
      ],
      "metadata": {
        "colab": {
          "base_uri": "https://localhost:8080/"
        },
        "id": "CMvpUyPpjnmx",
        "outputId": "37192941-3f0d-4302-b759-70d0697aa085"
      },
      "execution_count": 163,
      "outputs": [
        {
          "output_type": "stream",
          "name": "stderr",
          "text": [
            "/usr/local/lib/python3.7/dist-packages/keras/optimizers/optimizer_v2/adam.py:110: UserWarning: The `lr` argument is deprecated, use `learning_rate` instead.\n",
            "  super(Adam, self).__init__(name, **kwargs)\n"
          ]
        }
      ]
    },
    {
      "cell_type": "code",
      "source": [
        "val_gen = generator.flow(val_subjects.index, val_targets)"
      ],
      "metadata": {
        "id": "qqE-cdJujtI0"
      },
      "execution_count": 164,
      "outputs": []
    },
    {
      "cell_type": "code",
      "source": [
        "es_callback = EarlyStopping(monitor=\"val_acc\", patience=50, restore_best_weights=True)"
      ],
      "metadata": {
        "id": "rOXBUqzcjuzp"
      },
      "execution_count": 165,
      "outputs": []
    },
    {
      "cell_type": "code",
      "source": [
        "history = model.fit(\n",
        "    train_gen,\n",
        "    epochs=100,\n",
        "    validation_data=val_gen,\n",
        "    verbose=2,\n",
        "    shuffle=False,  # this should be False, since shuffling data means shuffling the whole graph\n",
        "    callbacks=[es_callback],\n",
        ")"
      ],
      "metadata": {
        "colab": {
          "base_uri": "https://localhost:8080/"
        },
        "id": "Fgjkw_kfjwq-",
        "outputId": "4aa27e29-d0e5-434d-c1c7-a0f02f6a8ac1"
      },
      "execution_count": 166,
      "outputs": [
        {
          "output_type": "stream",
          "name": "stdout",
          "text": [
            "Epoch 1/100\n",
            "1/1 - 2s - loss: 1.9491 - acc: 0.1643 - val_loss: 1.9178 - val_acc: 0.2900 - 2s/epoch - 2s/step\n",
            "Epoch 2/100\n",
            "1/1 - 0s - loss: 1.8983 - acc: 0.3214 - val_loss: 1.8800 - val_acc: 0.3800 - 140ms/epoch - 140ms/step\n",
            "Epoch 3/100\n",
            "1/1 - 0s - loss: 1.8552 - acc: 0.4214 - val_loss: 1.8297 - val_acc: 0.4400 - 195ms/epoch - 195ms/step\n",
            "Epoch 4/100\n",
            "1/1 - 0s - loss: 1.7861 - acc: 0.4857 - val_loss: 1.7716 - val_acc: 0.4820 - 201ms/epoch - 201ms/step\n",
            "Epoch 5/100\n",
            "1/1 - 0s - loss: 1.7169 - acc: 0.5357 - val_loss: 1.7060 - val_acc: 0.5280 - 206ms/epoch - 206ms/step\n",
            "Epoch 6/100\n",
            "1/1 - 0s - loss: 1.6111 - acc: 0.5429 - val_loss: 1.6354 - val_acc: 0.5540 - 220ms/epoch - 220ms/step\n",
            "Epoch 7/100\n",
            "1/1 - 0s - loss: 1.5388 - acc: 0.5500 - val_loss: 1.5589 - val_acc: 0.5700 - 241ms/epoch - 241ms/step\n",
            "Epoch 8/100\n",
            "1/1 - 0s - loss: 1.4203 - acc: 0.5929 - val_loss: 1.4746 - val_acc: 0.6180 - 276ms/epoch - 276ms/step\n",
            "Epoch 9/100\n",
            "1/1 - 0s - loss: 1.3455 - acc: 0.5929 - val_loss: 1.3871 - val_acc: 0.6500 - 291ms/epoch - 291ms/step\n",
            "Epoch 10/100\n",
            "1/1 - 0s - loss: 1.2310 - acc: 0.6714 - val_loss: 1.3000 - val_acc: 0.6700 - 196ms/epoch - 196ms/step\n",
            "Epoch 11/100\n",
            "1/1 - 0s - loss: 1.1460 - acc: 0.6429 - val_loss: 1.2178 - val_acc: 0.6780 - 199ms/epoch - 199ms/step\n",
            "Epoch 12/100\n",
            "1/1 - 0s - loss: 1.0182 - acc: 0.7357 - val_loss: 1.1433 - val_acc: 0.6720 - 305ms/epoch - 305ms/step\n",
            "Epoch 13/100\n",
            "1/1 - 0s - loss: 0.9648 - acc: 0.7071 - val_loss: 1.0774 - val_acc: 0.6800 - 386ms/epoch - 386ms/step\n",
            "Epoch 14/100\n",
            "1/1 - 0s - loss: 0.8821 - acc: 0.7571 - val_loss: 1.0182 - val_acc: 0.7000 - 319ms/epoch - 319ms/step\n",
            "Epoch 15/100\n",
            "1/1 - 0s - loss: 0.7989 - acc: 0.7571 - val_loss: 0.9653 - val_acc: 0.7080 - 368ms/epoch - 368ms/step\n",
            "Epoch 16/100\n",
            "1/1 - 0s - loss: 0.6849 - acc: 0.7929 - val_loss: 0.9197 - val_acc: 0.7200 - 288ms/epoch - 288ms/step\n",
            "Epoch 17/100\n",
            "1/1 - 0s - loss: 0.6618 - acc: 0.8000 - val_loss: 0.8810 - val_acc: 0.7240 - 274ms/epoch - 274ms/step\n",
            "Epoch 18/100\n",
            "1/1 - 0s - loss: 0.6515 - acc: 0.7857 - val_loss: 0.8436 - val_acc: 0.7320 - 243ms/epoch - 243ms/step\n",
            "Epoch 19/100\n",
            "1/1 - 0s - loss: 0.5173 - acc: 0.8286 - val_loss: 0.8087 - val_acc: 0.7340 - 250ms/epoch - 250ms/step\n",
            "Epoch 20/100\n",
            "1/1 - 0s - loss: 0.5475 - acc: 0.8071 - val_loss: 0.7766 - val_acc: 0.7380 - 294ms/epoch - 294ms/step\n",
            "Epoch 21/100\n",
            "1/1 - 0s - loss: 0.4439 - acc: 0.8286 - val_loss: 0.7487 - val_acc: 0.7500 - 255ms/epoch - 255ms/step\n",
            "Epoch 22/100\n",
            "1/1 - 0s - loss: 0.4424 - acc: 0.8500 - val_loss: 0.7233 - val_acc: 0.7700 - 227ms/epoch - 227ms/step\n",
            "Epoch 23/100\n",
            "1/1 - 0s - loss: 0.4222 - acc: 0.8786 - val_loss: 0.7013 - val_acc: 0.7840 - 244ms/epoch - 244ms/step\n",
            "Epoch 24/100\n",
            "1/1 - 0s - loss: 0.4086 - acc: 0.8571 - val_loss: 0.6826 - val_acc: 0.7900 - 219ms/epoch - 219ms/step\n",
            "Epoch 25/100\n",
            "1/1 - 0s - loss: 0.3854 - acc: 0.8500 - val_loss: 0.6685 - val_acc: 0.7980 - 224ms/epoch - 224ms/step\n",
            "Epoch 26/100\n",
            "1/1 - 0s - loss: 0.3155 - acc: 0.9071 - val_loss: 0.6617 - val_acc: 0.7940 - 218ms/epoch - 218ms/step\n",
            "Epoch 27/100\n",
            "1/1 - 0s - loss: 0.3111 - acc: 0.9071 - val_loss: 0.6583 - val_acc: 0.8020 - 301ms/epoch - 301ms/step\n",
            "Epoch 28/100\n",
            "1/1 - 0s - loss: 0.2536 - acc: 0.9429 - val_loss: 0.6518 - val_acc: 0.8180 - 337ms/epoch - 337ms/step\n",
            "Epoch 29/100\n",
            "1/1 - 0s - loss: 0.2225 - acc: 0.9500 - val_loss: 0.6421 - val_acc: 0.8220 - 332ms/epoch - 332ms/step\n",
            "Epoch 30/100\n",
            "1/1 - 0s - loss: 0.2021 - acc: 0.9714 - val_loss: 0.6303 - val_acc: 0.8220 - 216ms/epoch - 216ms/step\n",
            "Epoch 31/100\n",
            "1/1 - 0s - loss: 0.1875 - acc: 0.9571 - val_loss: 0.6220 - val_acc: 0.8140 - 301ms/epoch - 301ms/step\n",
            "Epoch 32/100\n",
            "1/1 - 0s - loss: 0.1358 - acc: 0.9786 - val_loss: 0.6186 - val_acc: 0.8140 - 238ms/epoch - 238ms/step\n",
            "Epoch 33/100\n",
            "1/1 - 0s - loss: 0.1727 - acc: 0.9643 - val_loss: 0.6184 - val_acc: 0.8080 - 200ms/epoch - 200ms/step\n",
            "Epoch 34/100\n",
            "1/1 - 0s - loss: 0.1403 - acc: 0.9786 - val_loss: 0.6210 - val_acc: 0.8120 - 265ms/epoch - 265ms/step\n",
            "Epoch 35/100\n",
            "1/1 - 0s - loss: 0.1209 - acc: 0.9786 - val_loss: 0.6250 - val_acc: 0.8100 - 345ms/epoch - 345ms/step\n",
            "Epoch 36/100\n",
            "1/1 - 0s - loss: 0.1411 - acc: 0.9714 - val_loss: 0.6282 - val_acc: 0.8100 - 221ms/epoch - 221ms/step\n",
            "Epoch 37/100\n",
            "1/1 - 0s - loss: 0.1354 - acc: 0.9643 - val_loss: 0.6349 - val_acc: 0.8060 - 347ms/epoch - 347ms/step\n",
            "Epoch 38/100\n",
            "1/1 - 0s - loss: 0.1721 - acc: 0.9500 - val_loss: 0.6406 - val_acc: 0.8100 - 184ms/epoch - 184ms/step\n",
            "Epoch 39/100\n",
            "1/1 - 0s - loss: 0.1134 - acc: 0.9714 - val_loss: 0.6471 - val_acc: 0.8020 - 250ms/epoch - 250ms/step\n",
            "Epoch 40/100\n",
            "1/1 - 0s - loss: 0.0795 - acc: 0.9786 - val_loss: 0.6515 - val_acc: 0.8060 - 227ms/epoch - 227ms/step\n",
            "Epoch 41/100\n",
            "1/1 - 0s - loss: 0.0754 - acc: 0.9929 - val_loss: 0.6569 - val_acc: 0.8100 - 206ms/epoch - 206ms/step\n",
            "Epoch 42/100\n",
            "1/1 - 0s - loss: 0.0669 - acc: 0.9929 - val_loss: 0.6641 - val_acc: 0.8120 - 273ms/epoch - 273ms/step\n",
            "Epoch 43/100\n",
            "1/1 - 0s - loss: 0.0727 - acc: 0.9643 - val_loss: 0.6702 - val_acc: 0.8200 - 275ms/epoch - 275ms/step\n",
            "Epoch 44/100\n",
            "1/1 - 0s - loss: 0.0731 - acc: 0.9929 - val_loss: 0.6760 - val_acc: 0.8240 - 214ms/epoch - 214ms/step\n",
            "Epoch 45/100\n",
            "1/1 - 0s - loss: 0.0577 - acc: 0.9857 - val_loss: 0.6829 - val_acc: 0.8260 - 223ms/epoch - 223ms/step\n",
            "Epoch 46/100\n",
            "1/1 - 0s - loss: 0.0687 - acc: 0.9929 - val_loss: 0.6903 - val_acc: 0.8240 - 224ms/epoch - 224ms/step\n",
            "Epoch 47/100\n",
            "1/1 - 0s - loss: 0.0718 - acc: 0.9929 - val_loss: 0.6983 - val_acc: 0.8240 - 205ms/epoch - 205ms/step\n",
            "Epoch 48/100\n",
            "1/1 - 0s - loss: 0.0456 - acc: 0.9929 - val_loss: 0.7076 - val_acc: 0.8220 - 194ms/epoch - 194ms/step\n",
            "Epoch 49/100\n",
            "1/1 - 0s - loss: 0.0365 - acc: 1.0000 - val_loss: 0.7163 - val_acc: 0.8220 - 206ms/epoch - 206ms/step\n",
            "Epoch 50/100\n",
            "1/1 - 0s - loss: 0.0496 - acc: 0.9929 - val_loss: 0.7248 - val_acc: 0.8200 - 226ms/epoch - 226ms/step\n",
            "Epoch 51/100\n",
            "1/1 - 0s - loss: 0.0558 - acc: 0.9929 - val_loss: 0.7325 - val_acc: 0.8180 - 230ms/epoch - 230ms/step\n",
            "Epoch 52/100\n",
            "1/1 - 0s - loss: 0.0549 - acc: 0.9857 - val_loss: 0.7423 - val_acc: 0.8140 - 241ms/epoch - 241ms/step\n",
            "Epoch 53/100\n",
            "1/1 - 0s - loss: 0.0476 - acc: 0.9857 - val_loss: 0.7527 - val_acc: 0.8100 - 327ms/epoch - 327ms/step\n",
            "Epoch 54/100\n",
            "1/1 - 0s - loss: 0.0378 - acc: 0.9929 - val_loss: 0.7602 - val_acc: 0.8120 - 323ms/epoch - 323ms/step\n",
            "Epoch 55/100\n",
            "1/1 - 0s - loss: 0.0540 - acc: 0.9857 - val_loss: 0.7662 - val_acc: 0.8140 - 233ms/epoch - 233ms/step\n",
            "Epoch 56/100\n",
            "1/1 - 0s - loss: 0.0530 - acc: 0.9786 - val_loss: 0.7692 - val_acc: 0.8160 - 311ms/epoch - 311ms/step\n",
            "Epoch 57/100\n",
            "1/1 - 0s - loss: 0.0363 - acc: 0.9857 - val_loss: 0.7722 - val_acc: 0.8120 - 200ms/epoch - 200ms/step\n",
            "Epoch 58/100\n",
            "1/1 - 0s - loss: 0.0281 - acc: 1.0000 - val_loss: 0.7759 - val_acc: 0.8140 - 277ms/epoch - 277ms/step\n",
            "Epoch 59/100\n",
            "1/1 - 1s - loss: 0.0358 - acc: 0.9857 - val_loss: 0.7784 - val_acc: 0.8140 - 513ms/epoch - 513ms/step\n",
            "Epoch 60/100\n",
            "1/1 - 0s - loss: 0.0350 - acc: 1.0000 - val_loss: 0.7773 - val_acc: 0.8140 - 271ms/epoch - 271ms/step\n",
            "Epoch 61/100\n",
            "1/1 - 0s - loss: 0.0378 - acc: 0.9857 - val_loss: 0.7760 - val_acc: 0.8100 - 200ms/epoch - 200ms/step\n",
            "Epoch 62/100\n",
            "1/1 - 0s - loss: 0.0253 - acc: 1.0000 - val_loss: 0.7760 - val_acc: 0.8120 - 232ms/epoch - 232ms/step\n",
            "Epoch 63/100\n",
            "1/1 - 0s - loss: 0.0455 - acc: 0.9857 - val_loss: 0.7755 - val_acc: 0.8120 - 307ms/epoch - 307ms/step\n",
            "Epoch 64/100\n",
            "1/1 - 0s - loss: 0.0298 - acc: 1.0000 - val_loss: 0.7775 - val_acc: 0.8120 - 270ms/epoch - 270ms/step\n",
            "Epoch 65/100\n",
            "1/1 - 0s - loss: 0.0254 - acc: 0.9929 - val_loss: 0.7794 - val_acc: 0.8140 - 251ms/epoch - 251ms/step\n",
            "Epoch 66/100\n",
            "1/1 - 0s - loss: 0.0380 - acc: 0.9857 - val_loss: 0.7818 - val_acc: 0.8200 - 260ms/epoch - 260ms/step\n",
            "Epoch 67/100\n",
            "1/1 - 0s - loss: 0.0261 - acc: 1.0000 - val_loss: 0.7864 - val_acc: 0.8240 - 256ms/epoch - 256ms/step\n",
            "Epoch 68/100\n",
            "1/1 - 0s - loss: 0.0441 - acc: 0.9786 - val_loss: 0.7904 - val_acc: 0.8220 - 328ms/epoch - 328ms/step\n",
            "Epoch 69/100\n",
            "1/1 - 0s - loss: 0.0242 - acc: 1.0000 - val_loss: 0.7949 - val_acc: 0.8220 - 378ms/epoch - 378ms/step\n",
            "Epoch 70/100\n",
            "1/1 - 0s - loss: 0.0356 - acc: 0.9929 - val_loss: 0.7990 - val_acc: 0.8220 - 136ms/epoch - 136ms/step\n",
            "Epoch 71/100\n",
            "1/1 - 0s - loss: 0.0108 - acc: 1.0000 - val_loss: 0.8036 - val_acc: 0.8220 - 128ms/epoch - 128ms/step\n",
            "Epoch 72/100\n",
            "1/1 - 0s - loss: 0.0322 - acc: 0.9857 - val_loss: 0.8078 - val_acc: 0.8200 - 128ms/epoch - 128ms/step\n",
            "Epoch 73/100\n",
            "1/1 - 0s - loss: 0.0287 - acc: 0.9929 - val_loss: 0.8089 - val_acc: 0.8200 - 173ms/epoch - 173ms/step\n",
            "Epoch 74/100\n",
            "1/1 - 0s - loss: 0.0229 - acc: 1.0000 - val_loss: 0.8096 - val_acc: 0.8220 - 126ms/epoch - 126ms/step\n",
            "Epoch 75/100\n",
            "1/1 - 0s - loss: 0.0259 - acc: 1.0000 - val_loss: 0.8109 - val_acc: 0.8200 - 125ms/epoch - 125ms/step\n",
            "Epoch 76/100\n",
            "1/1 - 0s - loss: 0.0310 - acc: 0.9929 - val_loss: 0.8133 - val_acc: 0.8220 - 138ms/epoch - 138ms/step\n",
            "Epoch 77/100\n",
            "1/1 - 0s - loss: 0.0305 - acc: 1.0000 - val_loss: 0.8158 - val_acc: 0.8200 - 149ms/epoch - 149ms/step\n",
            "Epoch 78/100\n",
            "1/1 - 0s - loss: 0.0148 - acc: 1.0000 - val_loss: 0.8196 - val_acc: 0.8220 - 125ms/epoch - 125ms/step\n",
            "Epoch 79/100\n",
            "1/1 - 0s - loss: 0.0249 - acc: 0.9929 - val_loss: 0.8221 - val_acc: 0.8180 - 133ms/epoch - 133ms/step\n",
            "Epoch 80/100\n",
            "1/1 - 0s - loss: 0.0213 - acc: 1.0000 - val_loss: 0.8245 - val_acc: 0.8200 - 131ms/epoch - 131ms/step\n",
            "Epoch 81/100\n",
            "1/1 - 0s - loss: 0.0073 - acc: 1.0000 - val_loss: 0.8261 - val_acc: 0.8180 - 134ms/epoch - 134ms/step\n",
            "Epoch 82/100\n",
            "1/1 - 0s - loss: 0.0197 - acc: 1.0000 - val_loss: 0.8281 - val_acc: 0.8200 - 130ms/epoch - 130ms/step\n",
            "Epoch 83/100\n",
            "1/1 - 0s - loss: 0.0201 - acc: 0.9929 - val_loss: 0.8300 - val_acc: 0.8180 - 132ms/epoch - 132ms/step\n",
            "Epoch 84/100\n",
            "1/1 - 0s - loss: 0.0281 - acc: 1.0000 - val_loss: 0.8311 - val_acc: 0.8160 - 123ms/epoch - 123ms/step\n",
            "Epoch 85/100\n",
            "1/1 - 0s - loss: 0.0395 - acc: 0.9786 - val_loss: 0.8320 - val_acc: 0.8160 - 137ms/epoch - 137ms/step\n",
            "Epoch 86/100\n",
            "1/1 - 0s - loss: 0.0206 - acc: 0.9929 - val_loss: 0.8321 - val_acc: 0.8140 - 133ms/epoch - 133ms/step\n",
            "Epoch 87/100\n",
            "1/1 - 0s - loss: 0.0198 - acc: 1.0000 - val_loss: 0.8333 - val_acc: 0.8120 - 128ms/epoch - 128ms/step\n",
            "Epoch 88/100\n",
            "1/1 - 0s - loss: 0.0084 - acc: 1.0000 - val_loss: 0.8343 - val_acc: 0.8140 - 127ms/epoch - 127ms/step\n",
            "Epoch 89/100\n",
            "1/1 - 0s - loss: 0.0435 - acc: 0.9786 - val_loss: 0.8394 - val_acc: 0.8160 - 137ms/epoch - 137ms/step\n",
            "Epoch 90/100\n",
            "1/1 - 0s - loss: 0.0217 - acc: 0.9929 - val_loss: 0.8461 - val_acc: 0.8180 - 134ms/epoch - 134ms/step\n",
            "Epoch 91/100\n",
            "1/1 - 0s - loss: 0.0263 - acc: 0.9857 - val_loss: 0.8474 - val_acc: 0.8180 - 132ms/epoch - 132ms/step\n",
            "Epoch 92/100\n",
            "1/1 - 0s - loss: 0.0310 - acc: 0.9929 - val_loss: 0.8477 - val_acc: 0.8180 - 129ms/epoch - 129ms/step\n",
            "Epoch 93/100\n",
            "1/1 - 0s - loss: 0.0237 - acc: 1.0000 - val_loss: 0.8478 - val_acc: 0.8200 - 130ms/epoch - 130ms/step\n",
            "Epoch 94/100\n",
            "1/1 - 0s - loss: 0.0200 - acc: 1.0000 - val_loss: 0.8464 - val_acc: 0.8160 - 128ms/epoch - 128ms/step\n",
            "Epoch 95/100\n",
            "1/1 - 0s - loss: 0.0277 - acc: 0.9857 - val_loss: 0.8480 - val_acc: 0.8180 - 128ms/epoch - 128ms/step\n"
          ]
        }
      ]
    },
    {
      "cell_type": "code",
      "source": [
        "sg.utils.plot_history(history)"
      ],
      "metadata": {
        "colab": {
          "base_uri": "https://localhost:8080/",
          "height": 585
        },
        "id": "SwobOVhFjyTR",
        "outputId": "48c2ec94-9fb9-435e-a74b-320a615ec318"
      },
      "execution_count": 167,
      "outputs": [
        {
          "output_type": "display_data",
          "data": {
            "text/plain": [
              "<Figure size 504x576 with 2 Axes>"
            ],
            "image/png": "[encoded data removed]"
          },
          "metadata": {
            "needs_background": "light"
          }
        }
      ]
    },
    {
      "cell_type": "markdown",
      "source": [
        "Calculting Test Metrics"
      ],
      "metadata": {
        "id": "g-oOabpslVd4"
      }
    },
    {
      "cell_type": "code",
      "source": [
        "test_gen = generator.flow(test.index, test_targets)"
      ],
      "metadata": {
        "id": "avzwxMvJj01J"
      },
      "execution_count": 168,
      "outputs": []
    },
    {
      "cell_type": "code",
      "source": [
        "test_metrics = model.evaluate(test_gen)\n",
        "print(\"\\nTest Set Metrics:\")\n",
        "for name, val in zip(model.metrics_names, test_metrics):\n",
        "    print(\"\\t{}: {:0.4f}\".format(name, val))"
      ],
      "metadata": {
        "colab": {
          "base_uri": "https://localhost:8080/"
        },
        "id": "mAnNooALj202",
        "outputId": "4131e27e-3cc7-4811-c61e-154316966154"
      },
      "execution_count": 169,
      "outputs": [
        {
          "output_type": "stream",
          "name": "stdout",
          "text": [
            "1/1 [==============================] - 0s 54ms/step - loss: 0.9836 - acc: 0.7790\n",
            "\n",
            "Test Set Metrics:\n",
            "\tloss: 0.9836\n",
            "\tacc: 0.7790\n"
          ]
        }
      ]
    },
    {
      "cell_type": "markdown",
      "source": [
        "Predictions"
      ],
      "metadata": {
        "id": "Y-Yml585j6xh"
      }
    },
    {
      "cell_type": "code",
      "source": [
        "all_nodes = node_subjects.index\n",
        "all_gen = generator.flow(all_nodes)\n",
        "all_predictions = model.predict(all_gen)"
      ],
      "metadata": {
        "colab": {
          "base_uri": "https://localhost:8080/"
        },
        "id": "hf1Qd0_Nj4wE",
        "outputId": "0953227e-3fb0-4fe9-b26c-09ce5a04bf13"
      },
      "execution_count": 170,
      "outputs": [
        {
          "output_type": "stream",
          "name": "stdout",
          "text": [
            "1/1 [==============================] - 0s 159ms/step\n"
          ]
        }
      ]
    },
    {
      "cell_type": "code",
      "source": [
        "node_predictions = target_encoding.inverse_transform(all_predictions.squeeze())"
      ],
      "metadata": {
        "id": "uuu3DK3tj-O8"
      },
      "execution_count": 171,
      "outputs": []
    },
    {
      "cell_type": "code",
      "source": [
        "df = pd.DataFrame({\"Predicted\": node_predictions, \"True\": node_subjects})\n",
        "df.head(5)"
      ],
      "metadata": {
        "colab": {
          "base_uri": "https://localhost:8080/",
          "height": 206
        },
        "id": "-5PXPFVzj_dP",
        "outputId": "9abc5570-c259-4a5e-f71d-a9f2f7c77673"
      },
      "execution_count": 172,
      "outputs": [
        {
          "output_type": "execute_result",
          "data": {
            "text/plain": [
              "                      Predicted                    True\n",
              "31336           Neural_Networks         Neural_Networks\n",
              "1061127                  Theory           Rule_Learning\n",
              "1106406  Reinforcement_Learning  Reinforcement_Learning\n",
              "13195    Reinforcement_Learning  Reinforcement_Learning\n",
              "37879     Probabilistic_Methods   Probabilistic_Methods"
            ],
            "text/html": [
              "\n",
              "  <div id=\"df-e1bfce51-45c4-4a7e-a1c3-4f2050dcaf66\">\n",
              "    <div class=\"colab-df-container\">\n",
              "      <div>\n",
              "<style scoped>\n",
              "    .dataframe tbody tr th:only-of-type {\n",
              "        vertical-align: middle;\n",
              "    }\n",
              "\n",
              "    .dataframe tbody tr th {\n",
              "        vertical-align: top;\n",
              "    }\n",
              "\n",
              "    .dataframe thead th {\n",
              "        text-align: right;\n",
              "    }\n",
              "</style>\n",
              "<table border=\"1\" class=\"dataframe\">\n",
              "  <thead>\n",
              "    <tr style=\"text-align: right;\">\n",
              "      <th></th>\n",
              "      <th>Predicted</th>\n",
              "      <th>True</th>\n",
              "    </tr>\n",
              "  </thead>\n",
              "  <tbody>\n",
              "    <tr>\n",
              "      <th>31336</th>\n",
              "      <td>Neural_Networks</td>\n",
              "      <td>Neural_Networks</td>\n",
              "    </tr>\n",
              "    <tr>\n",
              "      <th>1061127</th>\n",
              "      <td>Theory</td>\n",
              "      <td>Rule_Learning</td>\n",
              "    </tr>\n",
              "    <tr>\n",
              "      <th>1106406</th>\n",
              "      <td>Reinforcement_Learning</td>\n",
              "      <td>Reinforcement_Learning</td>\n",
              "    </tr>\n",
              "    <tr>\n",
              "      <th>13195</th>\n",
              "      <td>Reinforcement_Learning</td>\n",
              "      <td>Reinforcement_Learning</td>\n",
              "    </tr>\n",
              "    <tr>\n",
              "      <th>37879</th>\n",
              "      <td>Probabilistic_Methods</td>\n",
              "      <td>Probabilistic_Methods</td>\n",
              "    </tr>\n",
              "  </tbody>\n",
              "</table>\n",
              "</div>\n",
              "      <button class=\"colab-df-convert\" onclick=\"convertToInteractive('df-e1bfce51-45c4-4a7e-a1c3-4f2050dcaf66')\"\n",
              "              title=\"Convert this dataframe to an interactive table.\"\n",
              "              style=\"display:none;\">\n",
              "        \n",
              "  <svg xmlns=\"http://www.w3.org/2000/svg\" height=\"24px\"viewBox=\"0 0 24 24\"\n",
              "       width=\"24px\">\n",
              "    <path d=\"M0 0h24v24H0V0z\" fill=\"none\"/>\n",
              "    <path d=\"M18.56 5.44l.94 2.06.94-2.06 2.06-.94-2.06-.94-.94-2.06-.94 2.06-2.06.94zm-11 1L8.5 8.5l.94-2.06 2.06-.94-2.06-.94L8.5 2.5l-.94 2.06-2.06.94zm10 10l.94 2.06.94-2.06 2.06-.94-2.06-.94-.94-2.06-.94 2.06-2.06.94z\"/><path d=\"M17.41 7.96l-1.37-1.37c-.4-.4-.92-.59-1.43-.59-.52 0-1.04.2-1.43.59L10.3 9.45l-7.72 7.72c-.78.78-.78 2.05 0 2.83L4 21.41c.39.39.9.59 1.41.59.51 0 1.02-.2 1.41-.59l7.78-7.78 2.81-2.81c.8-.78.8-2.07 0-2.86zM5.41 20L4 18.59l7.72-7.72 1.47 1.35L5.41 20z\"/>\n",
              "  </svg>\n",
              "      </button>\n",
              "      \n",
              "  <style>\n",
              "    .colab-df-container {\n",
              "      display:flex;\n",
              "      flex-wrap:wrap;\n",
              "      gap: 12px;\n",
              "    }\n",
              "\n",
              "    .colab-df-convert {\n",
              "      background-color: #E8F0FE;\n",
              "      border: none;\n",
              "      border-radius: 50%;\n",
              "      cursor: pointer;\n",
              "      display: none;\n",
              "      fill: #1967D2;\n",
              "      height: 32px;\n",
              "      padding: 0 0 0 0;\n",
              "      width: 32px;\n",
              "    }\n",
              "\n",
              "    .colab-df-convert:hover {\n",
              "      background-color: #E2EBFA;\n",
              "      box-shadow: 0px 1px 2px rgba(60, 64, 67, 0.3), 0px 1px 3px 1px rgba(60, 64, 67, 0.15);\n",
              "      fill: #174EA6;\n",
              "    }\n",
              "\n",
              "    [theme=dark] .colab-df-convert {\n",
              "      background-color: #3B4455;\n",
              "      fill: #D2E3FC;\n",
              "    }\n",
              "\n",
              "    [theme=dark] .colab-df-convert:hover {\n",
              "      background-color: #434B5C;\n",
              "      box-shadow: 0px 1px 3px 1px rgba(0, 0, 0, 0.15);\n",
              "      filter: drop-shadow(0px 1px 2px rgba(0, 0, 0, 0.3));\n",
              "      fill: #FFFFFF;\n",
              "    }\n",
              "  </style>\n",
              "\n",
              "      <script>\n",
              "        const buttonEl =\n",
              "          document.querySelector('#df-e1bfce51-45c4-4a7e-a1c3-4f2050dcaf66 button.colab-df-convert');\n",
              "        buttonEl.style.display =\n",
              "          google.colab.kernel.accessAllowed ? 'block' : 'none';\n",
              "\n",
              "        async function convertToInteractive(key) {\n",
              "          const element = document.querySelector('#df-e1bfce51-45c4-4a7e-a1c3-4f2050dcaf66');\n",
              "          const dataTable =\n",
              "            await google.colab.kernel.invokeFunction('convertToInteractive',\n",
              "                                                     [key], {});\n",
              "          if (!dataTable) return;\n",
              "\n",
              "          const docLinkHtml = 'Like what you see? Visit the ' +\n",
              "            '<a target=\"_blank\" href=https://colab.research.google.com/notebooks/data_table.ipynb>data table notebook</a>'\n",
              "            + ' to learn more about interactive tables.';\n",
              "          element.innerHTML = '';\n",
              "          dataTable['output_type'] = 'display_data';\n",
              "          await google.colab.output.renderOutput(dataTable, element);\n",
              "          const docLink = document.createElement('div');\n",
              "          docLink.innerHTML = docLinkHtml;\n",
              "          element.appendChild(docLink);\n",
              "        }\n",
              "      </script>\n",
              "    </div>\n",
              "  </div>\n",
              "  "
            ]
          },
          "metadata": {},
          "execution_count": 172
        }
      ]
    },
    {
      "cell_type": "markdown",
      "source": [
        "Node embeddings"
      ],
      "metadata": {
        "id": "9I7t7SfBkFZu"
      }
    },
    {
      "cell_type": "code",
      "source": [
        "embedding_model = Model(inputs=x_inp, outputs=x_out)"
      ],
      "metadata": {
        "id": "mJaYFhookBIl"
      },
      "execution_count": 173,
      "outputs": []
    },
    {
      "cell_type": "code",
      "source": [
        "emb = embedding_model.predict(all_gen)\n",
        "emb.shape"
      ],
      "metadata": {
        "colab": {
          "base_uri": "https://localhost:8080/"
        },
        "id": "UmNQz31DkH7L",
        "outputId": "e411af33-aa67-42a5-a37a-36b3007aa199"
      },
      "execution_count": 174,
      "outputs": [
        {
          "output_type": "stream",
          "name": "stdout",
          "text": [
            "1/1 [==============================] - 0s 125ms/step\n"
          ]
        },
        {
          "output_type": "execute_result",
          "data": {
            "text/plain": [
              "(1, 2708, 16)"
            ]
          },
          "metadata": {},
          "execution_count": 174
        }
      ]
    },
    {
      "cell_type": "markdown",
      "source": [
        "Dimensional Reduction\n",
        "\n",
        "As the GCN layer gave 16 dimension output, i am reducing the dimensions so it will be easy for plotting "
      ],
      "metadata": {
        "id": "Nx_Ka3ZzkRrH"
      }
    },
    {
      "cell_type": "code",
      "source": [
        "transform = TSNE"
      ],
      "metadata": {
        "id": "BZRcMLZUkJS0"
      },
      "execution_count": 175,
      "outputs": []
    },
    {
      "cell_type": "code",
      "source": [
        "X = emb.squeeze(0)\n",
        "X.shape"
      ],
      "metadata": {
        "colab": {
          "base_uri": "https://localhost:8080/"
        },
        "id": "EwoABIwokOrm",
        "outputId": "12a54d77-cb36-494e-961f-0398ed12e98d"
      },
      "execution_count": 176,
      "outputs": [
        {
          "output_type": "execute_result",
          "data": {
            "text/plain": [
              "(2708, 16)"
            ]
          },
          "metadata": {},
          "execution_count": 176
        }
      ]
    },
    {
      "cell_type": "code",
      "source": [
        "trans = transform(n_components=2)\n",
        "X_reduced = trans.fit_transform(X)\n",
        "X_reduced.shape"
      ],
      "metadata": {
        "colab": {
          "base_uri": "https://localhost:8080/"
        },
        "id": "2Ec00o0ikaLl",
        "outputId": "1707fed6-0349-416b-f1ea-8441b1f6d502"
      },
      "execution_count": 177,
      "outputs": [
        {
          "output_type": "stream",
          "name": "stderr",
          "text": [
            "/usr/local/lib/python3.7/dist-packages/sklearn/manifold/_t_sne.py:783: FutureWarning: The default initialization in TSNE will change from 'random' to 'pca' in 1.2.\n",
            "  FutureWarning,\n",
            "/usr/local/lib/python3.7/dist-packages/sklearn/manifold/_t_sne.py:793: FutureWarning: The default learning rate in TSNE will change from 200.0 to 'auto' in 1.2.\n",
            "  FutureWarning,\n"
          ]
        },
        {
          "output_type": "execute_result",
          "data": {
            "text/plain": [
              "(2708, 2)"
            ]
          },
          "metadata": {},
          "execution_count": 177
        }
      ]
    },
    {
      "cell_type": "code",
      "source": [
        "fig, ax = plt.subplots(figsize=(7, 7))\n",
        "ax.scatter(\n",
        "    X_reduced[:, 0],\n",
        "    X_reduced[:, 1],\n",
        "    c=node_subjects.astype(\"category\").cat.codes,\n",
        "    cmap=\"jet\",\n",
        "    alpha=0.7,\n",
        ")\n",
        "ax.set(\n",
        "    aspect=\"equal\",\n",
        "    xlabel=\"$X_1$\",\n",
        "    ylabel=\"$X_2$\",\n",
        "    title=f\"{transform.__name__} visualization of GCN embeddings for cora dataset\",\n",
        ")"
      ],
      "metadata": {
        "colab": {
          "base_uri": "https://localhost:8080/",
          "height": 531
        },
        "id": "hmtzkwmzkb8B",
        "outputId": "6fb60431-deae-4049-b257-6b63537de8a5"
      },
      "execution_count": 178,
      "outputs": [
        {
          "output_type": "execute_result",
          "data": {
            "text/plain": [
              "[Text(0, 0.5, '$X_2$'),\n",
              " Text(0.5, 0, '$X_1$'),\n",
              " Text(0.5, 1.0, 'TSNE visualization of GCN embeddings for cora dataset'),\n",
              " None]"
            ]
          },
          "metadata": {},
          "execution_count": 178
        },
        {
          "output_type": "display_data",
          "data": {
            "text/plain": [
              "<Figure size 504x504 with 1 Axes>"
            ],
            "image/png": "[encoded data removed]"
          },
          "metadata": {
            "needs_background": "light"
          }
        }
      ]
    },
    {
      "cell_type": "code",
      "source": [],
      "metadata": {
        "id": "OladdkOdkgNj"
      },
      "execution_count": 178,
      "outputs": []
    }
  ]
}