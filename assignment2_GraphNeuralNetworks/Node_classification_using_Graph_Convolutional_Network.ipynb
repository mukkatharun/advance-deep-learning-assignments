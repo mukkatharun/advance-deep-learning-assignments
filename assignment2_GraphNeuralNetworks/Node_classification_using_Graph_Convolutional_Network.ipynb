{
  "nbformat": 4,
  "nbformat_minor": 0,
  "metadata": {
    "colab": {
      "provenance": [],
      "include_colab_link": true
    },
    "kernelspec": {
      "name": "python3",
      "display_name": "Python 3"
    },
    "language_info": {
      "name": "python"
    }
  },
  "cells": [
    {
      "cell_type": "markdown",
      "metadata": {
        "id": "view-in-github",
        "colab_type": "text"
      },
      "source": [
        "<a href=\"https://colab.research.google.com/github/mukkatharun/advance-deep-learning-assignments/blob/main/assignment2_GraphNeuralNetworks/Node_classification_using_Graph_Convolutional_Network.ipynb\" target=\"_parent\"><img src=\"https://colab.research.google.com/assets/colab-badge.svg\" alt=\"Open In Colab\"/></a>"
      ]
    },
    {
      "cell_type": "markdown",
      "source": [
        "Install required packages"
      ],
      "metadata": {
        "id": "aUmpUXRyk2FC"
      }
    },
    {
      "cell_type": "code",
      "source": [
        "pip install stellargraph"
      ],
      "metadata": {
        "id": "i1XQc-0UjKhP",
        "outputId": "71e04065-d8ed-43f2-eb3c-be7645ec8d18",
        "colab": {
          "base_uri": "https://localhost:8080/"
        }
      },
      "execution_count": 83,
      "outputs": [
        {
          "output_type": "stream",
          "name": "stdout",
          "text": [
            "Looking in indexes: https://pypi.org/simple, https://us-python.pkg.dev/colab-wheels/public/simple/\n",
            "Requirement already satisfied: stellargraph in /usr/local/lib/python3.7/dist-packages (1.2.1)\n",
            "Requirement already satisfied: gensim>=3.4.0 in /usr/local/lib/python3.7/dist-packages (from stellargraph) (3.6.0)\n",
            "Requirement already satisfied: pandas>=0.24 in /usr/local/lib/python3.7/dist-packages (from stellargraph) (1.3.5)\n",
            "Requirement already satisfied: scikit-learn>=0.20 in /usr/local/lib/python3.7/dist-packages (from stellargraph) (1.0.2)\n",
            "Requirement already satisfied: scipy>=1.1.0 in /usr/local/lib/python3.7/dist-packages (from stellargraph) (1.7.3)\n",
            "Requirement already satisfied: networkx>=2.2 in /usr/local/lib/python3.7/dist-packages (from stellargraph) (2.6.3)\n",
            "Requirement already satisfied: tensorflow>=2.1.0 in /usr/local/lib/python3.7/dist-packages (from stellargraph) (2.9.2)\n",
            "Requirement already satisfied: matplotlib>=2.2 in /usr/local/lib/python3.7/dist-packages (from stellargraph) (3.2.2)\n",
            "Requirement already satisfied: numpy>=1.14 in /usr/local/lib/python3.7/dist-packages (from stellargraph) (1.21.6)\n",
            "Requirement already satisfied: smart-open>=1.2.1 in /usr/local/lib/python3.7/dist-packages (from gensim>=3.4.0->stellargraph) (5.2.1)\n",
            "Requirement already satisfied: six>=1.5.0 in /usr/local/lib/python3.7/dist-packages (from gensim>=3.4.0->stellargraph) (1.15.0)\n",
            "Requirement already satisfied: python-dateutil>=2.1 in /usr/local/lib/python3.7/dist-packages (from matplotlib>=2.2->stellargraph) (2.8.2)\n",
            "Requirement already satisfied: pyparsing!=2.0.4,!=2.1.2,!=2.1.6,>=2.0.1 in /usr/local/lib/python3.7/dist-packages (from matplotlib>=2.2->stellargraph) (3.0.9)\n",
            "Requirement already satisfied: kiwisolver>=1.0.1 in /usr/local/lib/python3.7/dist-packages (from matplotlib>=2.2->stellargraph) (1.4.4)\n",
            "Requirement already satisfied: cycler>=0.10 in /usr/local/lib/python3.7/dist-packages (from matplotlib>=2.2->stellargraph) (0.11.0)\n",
            "Requirement already satisfied: typing-extensions in /usr/local/lib/python3.7/dist-packages (from kiwisolver>=1.0.1->matplotlib>=2.2->stellargraph) (4.1.1)\n",
            "Requirement already satisfied: pytz>=2017.3 in /usr/local/lib/python3.7/dist-packages (from pandas>=0.24->stellargraph) (2022.4)\n",
            "Requirement already satisfied: joblib>=0.11 in /usr/local/lib/python3.7/dist-packages (from scikit-learn>=0.20->stellargraph) (1.2.0)\n",
            "Requirement already satisfied: threadpoolctl>=2.0.0 in /usr/local/lib/python3.7/dist-packages (from scikit-learn>=0.20->stellargraph) (3.1.0)\n",
            "Requirement already satisfied: keras-preprocessing>=1.1.1 in /usr/local/lib/python3.7/dist-packages (from tensorflow>=2.1.0->stellargraph) (1.1.2)\n",
            "Requirement already satisfied: tensorflow-io-gcs-filesystem>=0.23.1 in /usr/local/lib/python3.7/dist-packages (from tensorflow>=2.1.0->stellargraph) (0.27.0)\n",
            "Requirement already satisfied: setuptools in /usr/local/lib/python3.7/dist-packages (from tensorflow>=2.1.0->stellargraph) (57.4.0)\n",
            "Requirement already satisfied: google-pasta>=0.1.1 in /usr/local/lib/python3.7/dist-packages (from tensorflow>=2.1.0->stellargraph) (0.2.0)\n",
            "Requirement already satisfied: flatbuffers<2,>=1.12 in /usr/local/lib/python3.7/dist-packages (from tensorflow>=2.1.0->stellargraph) (1.12)\n",
            "Requirement already satisfied: gast<=0.4.0,>=0.2.1 in /usr/local/lib/python3.7/dist-packages (from tensorflow>=2.1.0->stellargraph) (0.4.0)\n",
            "Requirement already satisfied: astunparse>=1.6.0 in /usr/local/lib/python3.7/dist-packages (from tensorflow>=2.1.0->stellargraph) (1.6.3)\n",
            "Requirement already satisfied: keras<2.10.0,>=2.9.0rc0 in /usr/local/lib/python3.7/dist-packages (from tensorflow>=2.1.0->stellargraph) (2.9.0)\n",
            "Requirement already satisfied: tensorflow-estimator<2.10.0,>=2.9.0rc0 in /usr/local/lib/python3.7/dist-packages (from tensorflow>=2.1.0->stellargraph) (2.9.0)\n",
            "Requirement already satisfied: protobuf<3.20,>=3.9.2 in /usr/local/lib/python3.7/dist-packages (from tensorflow>=2.1.0->stellargraph) (3.17.3)\n",
            "Requirement already satisfied: wrapt>=1.11.0 in /usr/local/lib/python3.7/dist-packages (from tensorflow>=2.1.0->stellargraph) (1.14.1)\n",
            "Requirement already satisfied: libclang>=13.0.0 in /usr/local/lib/python3.7/dist-packages (from tensorflow>=2.1.0->stellargraph) (14.0.6)\n",
            "Requirement already satisfied: grpcio<2.0,>=1.24.3 in /usr/local/lib/python3.7/dist-packages (from tensorflow>=2.1.0->stellargraph) (1.49.1)\n",
            "Requirement already satisfied: packaging in /usr/local/lib/python3.7/dist-packages (from tensorflow>=2.1.0->stellargraph) (21.3)\n",
            "Requirement already satisfied: absl-py>=1.0.0 in /usr/local/lib/python3.7/dist-packages (from tensorflow>=2.1.0->stellargraph) (1.2.0)\n",
            "Requirement already satisfied: termcolor>=1.1.0 in /usr/local/lib/python3.7/dist-packages (from tensorflow>=2.1.0->stellargraph) (2.0.1)\n",
            "Requirement already satisfied: h5py>=2.9.0 in /usr/local/lib/python3.7/dist-packages (from tensorflow>=2.1.0->stellargraph) (3.1.0)\n",
            "Requirement already satisfied: tensorboard<2.10,>=2.9 in /usr/local/lib/python3.7/dist-packages (from tensorflow>=2.1.0->stellargraph) (2.9.1)\n",
            "Requirement already satisfied: opt-einsum>=2.3.2 in /usr/local/lib/python3.7/dist-packages (from tensorflow>=2.1.0->stellargraph) (3.3.0)\n",
            "Requirement already satisfied: wheel<1.0,>=0.23.0 in /usr/local/lib/python3.7/dist-packages (from astunparse>=1.6.0->tensorflow>=2.1.0->stellargraph) (0.37.1)\n",
            "Requirement already satisfied: cached-property in /usr/local/lib/python3.7/dist-packages (from h5py>=2.9.0->tensorflow>=2.1.0->stellargraph) (1.5.2)\n",
            "Requirement already satisfied: google-auth-oauthlib<0.5,>=0.4.1 in /usr/local/lib/python3.7/dist-packages (from tensorboard<2.10,>=2.9->tensorflow>=2.1.0->stellargraph) (0.4.6)\n",
            "Requirement already satisfied: google-auth<3,>=1.6.3 in /usr/local/lib/python3.7/dist-packages (from tensorboard<2.10,>=2.9->tensorflow>=2.1.0->stellargraph) (1.35.0)\n",
            "Requirement already satisfied: tensorboard-plugin-wit>=1.6.0 in /usr/local/lib/python3.7/dist-packages (from tensorboard<2.10,>=2.9->tensorflow>=2.1.0->stellargraph) (1.8.1)\n",
            "Requirement already satisfied: werkzeug>=1.0.1 in /usr/local/lib/python3.7/dist-packages (from tensorboard<2.10,>=2.9->tensorflow>=2.1.0->stellargraph) (1.0.1)\n",
            "Requirement already satisfied: requests<3,>=2.21.0 in /usr/local/lib/python3.7/dist-packages (from tensorboard<2.10,>=2.9->tensorflow>=2.1.0->stellargraph) (2.23.0)\n",
            "Requirement already satisfied: tensorboard-data-server<0.7.0,>=0.6.0 in /usr/local/lib/python3.7/dist-packages (from tensorboard<2.10,>=2.9->tensorflow>=2.1.0->stellargraph) (0.6.1)\n",
            "Requirement already satisfied: markdown>=2.6.8 in /usr/local/lib/python3.7/dist-packages (from tensorboard<2.10,>=2.9->tensorflow>=2.1.0->stellargraph) (3.4.1)\n",
            "Requirement already satisfied: rsa<5,>=3.1.4 in /usr/local/lib/python3.7/dist-packages (from google-auth<3,>=1.6.3->tensorboard<2.10,>=2.9->tensorflow>=2.1.0->stellargraph) (4.9)\n",
            "Requirement already satisfied: cachetools<5.0,>=2.0.0 in /usr/local/lib/python3.7/dist-packages (from google-auth<3,>=1.6.3->tensorboard<2.10,>=2.9->tensorflow>=2.1.0->stellargraph) (4.2.4)\n",
            "Requirement already satisfied: pyasn1-modules>=0.2.1 in /usr/local/lib/python3.7/dist-packages (from google-auth<3,>=1.6.3->tensorboard<2.10,>=2.9->tensorflow>=2.1.0->stellargraph) (0.2.8)\n",
            "Requirement already satisfied: requests-oauthlib>=0.7.0 in /usr/local/lib/python3.7/dist-packages (from google-auth-oauthlib<0.5,>=0.4.1->tensorboard<2.10,>=2.9->tensorflow>=2.1.0->stellargraph) (1.3.1)\n",
            "Requirement already satisfied: importlib-metadata>=4.4 in /usr/local/lib/python3.7/dist-packages (from markdown>=2.6.8->tensorboard<2.10,>=2.9->tensorflow>=2.1.0->stellargraph) (5.0.0)\n",
            "Requirement already satisfied: zipp>=0.5 in /usr/local/lib/python3.7/dist-packages (from importlib-metadata>=4.4->markdown>=2.6.8->tensorboard<2.10,>=2.9->tensorflow>=2.1.0->stellargraph) (3.9.0)\n",
            "Requirement already satisfied: pyasn1<0.5.0,>=0.4.6 in /usr/local/lib/python3.7/dist-packages (from pyasn1-modules>=0.2.1->google-auth<3,>=1.6.3->tensorboard<2.10,>=2.9->tensorflow>=2.1.0->stellargraph) (0.4.8)\n",
            "Requirement already satisfied: urllib3!=1.25.0,!=1.25.1,<1.26,>=1.21.1 in /usr/local/lib/python3.7/dist-packages (from requests<3,>=2.21.0->tensorboard<2.10,>=2.9->tensorflow>=2.1.0->stellargraph) (1.24.3)\n",
            "Requirement already satisfied: certifi>=2017.4.17 in /usr/local/lib/python3.7/dist-packages (from requests<3,>=2.21.0->tensorboard<2.10,>=2.9->tensorflow>=2.1.0->stellargraph) (2022.9.24)\n",
            "Requirement already satisfied: chardet<4,>=3.0.2 in /usr/local/lib/python3.7/dist-packages (from requests<3,>=2.21.0->tensorboard<2.10,>=2.9->tensorflow>=2.1.0->stellargraph) (3.0.4)\n",
            "Requirement already satisfied: idna<3,>=2.5 in /usr/local/lib/python3.7/dist-packages (from requests<3,>=2.21.0->tensorboard<2.10,>=2.9->tensorflow>=2.1.0->stellargraph) (2.10)\n",
            "Requirement already satisfied: oauthlib>=3.0.0 in /usr/local/lib/python3.7/dist-packages (from requests-oauthlib>=0.7.0->google-auth-oauthlib<0.5,>=0.4.1->tensorboard<2.10,>=2.9->tensorflow>=2.1.0->stellargraph) (3.2.1)\n"
          ]
        }
      ]
    },
    {
      "cell_type": "markdown",
      "source": [
        "Importing the required libraries"
      ],
      "metadata": {
        "id": "SWdPq4H_k6BU"
      }
    },
    {
      "cell_type": "code",
      "execution_count": 84,
      "metadata": {
        "id": "p68l9WgVi9RJ"
      },
      "outputs": [],
      "source": [
        "import pandas as pd\n",
        "import os\n",
        "\n",
        "import stellargraph as sg\n",
        "from stellargraph.mapper import FullBatchNodeGenerator\n",
        "from stellargraph.layer import GCN\n",
        "from tensorflow.keras.callbacks import EarlyStopping\n",
        "\n",
        "from tensorflow.keras import layers, optimizers, losses, metrics, Model\n",
        "from sklearn import preprocessing, model_selection\n",
        "from IPython.display import display, HTML\n",
        "from sklearn.decomposition import PCA\n",
        "from sklearn.manifold import TSNE\n",
        "import matplotlib.pyplot as plt\n",
        "%matplotlib inline"
      ]
    },
    {
      "cell_type": "markdown",
      "source": [
        "Loading the Cora dataset"
      ],
      "metadata": {
        "id": "-FjhV82thvo3"
      }
    },
    {
      "cell_type": "code",
      "source": [
        "dataset = sg.datasets.Cora()\n",
        "G, node_subjects = dataset.load()"
      ],
      "metadata": {
        "id": "Pq0i23-ji_fB"
      },
      "execution_count": 85,
      "outputs": []
    },
    {
      "cell_type": "code",
      "source": [
        "node_subjects.value_counts().to_frame()"
      ],
      "metadata": {
        "colab": {
          "base_uri": "https://localhost:8080/",
          "height": 269
        },
        "id": "8FF3rGzJjQRn",
        "outputId": "a0c361c3-f4a1-46a1-9e59-1343220bfc94"
      },
      "execution_count": 86,
      "outputs": [
        {
          "output_type": "execute_result",
          "data": {
            "text/plain": [
              "                        subject\n",
              "Neural_Networks             818\n",
              "Probabilistic_Methods       426\n",
              "Genetic_Algorithms          418\n",
              "Theory                      351\n",
              "Case_Based                  298\n",
              "Reinforcement_Learning      217\n",
              "Rule_Learning               180"
            ],
            "text/html": [
              "\n",
              "  <div id=\"df-bf4ab51e-1e2f-4962-8df5-c03732ed1d3f\">\n",
              "    <div class=\"colab-df-container\">\n",
              "      <div>\n",
              "<style scoped>\n",
              "    .dataframe tbody tr th:only-of-type {\n",
              "        vertical-align: middle;\n",
              "    }\n",
              "\n",
              "    .dataframe tbody tr th {\n",
              "        vertical-align: top;\n",
              "    }\n",
              "\n",
              "    .dataframe thead th {\n",
              "        text-align: right;\n",
              "    }\n",
              "</style>\n",
              "<table border=\"1\" class=\"dataframe\">\n",
              "  <thead>\n",
              "    <tr style=\"text-align: right;\">\n",
              "      <th></th>\n",
              "      <th>subject</th>\n",
              "    </tr>\n",
              "  </thead>\n",
              "  <tbody>\n",
              "    <tr>\n",
              "      <th>Neural_Networks</th>\n",
              "      <td>818</td>\n",
              "    </tr>\n",
              "    <tr>\n",
              "      <th>Probabilistic_Methods</th>\n",
              "      <td>426</td>\n",
              "    </tr>\n",
              "    <tr>\n",
              "      <th>Genetic_Algorithms</th>\n",
              "      <td>418</td>\n",
              "    </tr>\n",
              "    <tr>\n",
              "      <th>Theory</th>\n",
              "      <td>351</td>\n",
              "    </tr>\n",
              "    <tr>\n",
              "      <th>Case_Based</th>\n",
              "      <td>298</td>\n",
              "    </tr>\n",
              "    <tr>\n",
              "      <th>Reinforcement_Learning</th>\n",
              "      <td>217</td>\n",
              "    </tr>\n",
              "    <tr>\n",
              "      <th>Rule_Learning</th>\n",
              "      <td>180</td>\n",
              "    </tr>\n",
              "  </tbody>\n",
              "</table>\n",
              "</div>\n",
              "      <button class=\"colab-df-convert\" onclick=\"convertToInteractive('df-bf4ab51e-1e2f-4962-8df5-c03732ed1d3f')\"\n",
              "              title=\"Convert this dataframe to an interactive table.\"\n",
              "              style=\"display:none;\">\n",
              "        \n",
              "  <svg xmlns=\"http://www.w3.org/2000/svg\" height=\"24px\"viewBox=\"0 0 24 24\"\n",
              "       width=\"24px\">\n",
              "    <path d=\"M0 0h24v24H0V0z\" fill=\"none\"/>\n",
              "    <path d=\"M18.56 5.44l.94 2.06.94-2.06 2.06-.94-2.06-.94-.94-2.06-.94 2.06-2.06.94zm-11 1L8.5 8.5l.94-2.06 2.06-.94-2.06-.94L8.5 2.5l-.94 2.06-2.06.94zm10 10l.94 2.06.94-2.06 2.06-.94-2.06-.94-.94-2.06-.94 2.06-2.06.94z\"/><path d=\"M17.41 7.96l-1.37-1.37c-.4-.4-.92-.59-1.43-.59-.52 0-1.04.2-1.43.59L10.3 9.45l-7.72 7.72c-.78.78-.78 2.05 0 2.83L4 21.41c.39.39.9.59 1.41.59.51 0 1.02-.2 1.41-.59l7.78-7.78 2.81-2.81c.8-.78.8-2.07 0-2.86zM5.41 20L4 18.59l7.72-7.72 1.47 1.35L5.41 20z\"/>\n",
              "  </svg>\n",
              "      </button>\n",
              "      \n",
              "  <style>\n",
              "    .colab-df-container {\n",
              "      display:flex;\n",
              "      flex-wrap:wrap;\n",
              "      gap: 12px;\n",
              "    }\n",
              "\n",
              "    .colab-df-convert {\n",
              "      background-color: #E8F0FE;\n",
              "      border: none;\n",
              "      border-radius: 50%;\n",
              "      cursor: pointer;\n",
              "      display: none;\n",
              "      fill: #1967D2;\n",
              "      height: 32px;\n",
              "      padding: 0 0 0 0;\n",
              "      width: 32px;\n",
              "    }\n",
              "\n",
              "    .colab-df-convert:hover {\n",
              "      background-color: #E2EBFA;\n",
              "      box-shadow: 0px 1px 2px rgba(60, 64, 67, 0.3), 0px 1px 3px 1px rgba(60, 64, 67, 0.15);\n",
              "      fill: #174EA6;\n",
              "    }\n",
              "\n",
              "    [theme=dark] .colab-df-convert {\n",
              "      background-color: #3B4455;\n",
              "      fill: #D2E3FC;\n",
              "    }\n",
              "\n",
              "    [theme=dark] .colab-df-convert:hover {\n",
              "      background-color: #434B5C;\n",
              "      box-shadow: 0px 1px 3px 1px rgba(0, 0, 0, 0.15);\n",
              "      filter: drop-shadow(0px 1px 2px rgba(0, 0, 0, 0.3));\n",
              "      fill: #FFFFFF;\n",
              "    }\n",
              "  </style>\n",
              "\n",
              "      <script>\n",
              "        const buttonEl =\n",
              "          document.querySelector('#df-bf4ab51e-1e2f-4962-8df5-c03732ed1d3f button.colab-df-convert');\n",
              "        buttonEl.style.display =\n",
              "          google.colab.kernel.accessAllowed ? 'block' : 'none';\n",
              "\n",
              "        async function convertToInteractive(key) {\n",
              "          const element = document.querySelector('#df-bf4ab51e-1e2f-4962-8df5-c03732ed1d3f');\n",
              "          const dataTable =\n",
              "            await google.colab.kernel.invokeFunction('convertToInteractive',\n",
              "                                                     [key], {});\n",
              "          if (!dataTable) return;\n",
              "\n",
              "          const docLinkHtml = 'Like what you see? Visit the ' +\n",
              "            '<a target=\"_blank\" href=https://colab.research.google.com/notebooks/data_table.ipynb>data table notebook</a>'\n",
              "            + ' to learn more about interactive tables.';\n",
              "          element.innerHTML = '';\n",
              "          dataTable['output_type'] = 'display_data';\n",
              "          await google.colab.output.renderOutput(dataTable, element);\n",
              "          const docLink = document.createElement('div');\n",
              "          docLink.innerHTML = docLinkHtml;\n",
              "          element.appendChild(docLink);\n",
              "        }\n",
              "      </script>\n",
              "    </div>\n",
              "  </div>\n",
              "  "
            ]
          },
          "metadata": {},
          "execution_count": 86
        }
      ]
    },
    {
      "cell_type": "markdown",
      "source": [
        "Data Splitting"
      ],
      "metadata": {
        "id": "OZEtxCtojURx"
      }
    },
    {
      "cell_type": "code",
      "source": [
        "train, test = model_selection.train_test_split(\n",
        "    node_subjects, train_size=140, test_size=None, stratify=node_subjects\n",
        ")\n",
        "val_subjects, test = model_selection.train_test_split(\n",
        "    test, train_size=500, test_size=None, stratify=test\n",
        ")"
      ],
      "metadata": {
        "id": "-_TPr-gXjSTo"
      },
      "execution_count": 87,
      "outputs": []
    },
    {
      "cell_type": "code",
      "source": [
        "train.value_counts().to_frame()"
      ],
      "metadata": {
        "colab": {
          "base_uri": "https://localhost:8080/",
          "height": 269
        },
        "id": "GNUp4uKWjWLD",
        "outputId": "277a090c-7294-46bd-bf07-35c6f0f42438"
      },
      "execution_count": 88,
      "outputs": [
        {
          "output_type": "execute_result",
          "data": {
            "text/plain": [
              "                        subject\n",
              "Neural_Networks              42\n",
              "Genetic_Algorithms           22\n",
              "Probabilistic_Methods        22\n",
              "Theory                       18\n",
              "Case_Based                   16\n",
              "Reinforcement_Learning       11\n",
              "Rule_Learning                 9"
            ],
            "text/html": [
              "\n",
              "  <div id=\"df-3c3d209d-416b-42de-bb08-9651534280bf\">\n",
              "    <div class=\"colab-df-container\">\n",
              "      <div>\n",
              "<style scoped>\n",
              "    .dataframe tbody tr th:only-of-type {\n",
              "        vertical-align: middle;\n",
              "    }\n",
              "\n",
              "    .dataframe tbody tr th {\n",
              "        vertical-align: top;\n",
              "    }\n",
              "\n",
              "    .dataframe thead th {\n",
              "        text-align: right;\n",
              "    }\n",
              "</style>\n",
              "<table border=\"1\" class=\"dataframe\">\n",
              "  <thead>\n",
              "    <tr style=\"text-align: right;\">\n",
              "      <th></th>\n",
              "      <th>subject</th>\n",
              "    </tr>\n",
              "  </thead>\n",
              "  <tbody>\n",
              "    <tr>\n",
              "      <th>Neural_Networks</th>\n",
              "      <td>42</td>\n",
              "    </tr>\n",
              "    <tr>\n",
              "      <th>Genetic_Algorithms</th>\n",
              "      <td>22</td>\n",
              "    </tr>\n",
              "    <tr>\n",
              "      <th>Probabilistic_Methods</th>\n",
              "      <td>22</td>\n",
              "    </tr>\n",
              "    <tr>\n",
              "      <th>Theory</th>\n",
              "      <td>18</td>\n",
              "    </tr>\n",
              "    <tr>\n",
              "      <th>Case_Based</th>\n",
              "      <td>16</td>\n",
              "    </tr>\n",
              "    <tr>\n",
              "      <th>Reinforcement_Learning</th>\n",
              "      <td>11</td>\n",
              "    </tr>\n",
              "    <tr>\n",
              "      <th>Rule_Learning</th>\n",
              "      <td>9</td>\n",
              "    </tr>\n",
              "  </tbody>\n",
              "</table>\n",
              "</div>\n",
              "      <button class=\"colab-df-convert\" onclick=\"convertToInteractive('df-3c3d209d-416b-42de-bb08-9651534280bf')\"\n",
              "              title=\"Convert this dataframe to an interactive table.\"\n",
              "              style=\"display:none;\">\n",
              "        \n",
              "  <svg xmlns=\"http://www.w3.org/2000/svg\" height=\"24px\"viewBox=\"0 0 24 24\"\n",
              "       width=\"24px\">\n",
              "    <path d=\"M0 0h24v24H0V0z\" fill=\"none\"/>\n",
              "    <path d=\"M18.56 5.44l.94 2.06.94-2.06 2.06-.94-2.06-.94-.94-2.06-.94 2.06-2.06.94zm-11 1L8.5 8.5l.94-2.06 2.06-.94-2.06-.94L8.5 2.5l-.94 2.06-2.06.94zm10 10l.94 2.06.94-2.06 2.06-.94-2.06-.94-.94-2.06-.94 2.06-2.06.94z\"/><path d=\"M17.41 7.96l-1.37-1.37c-.4-.4-.92-.59-1.43-.59-.52 0-1.04.2-1.43.59L10.3 9.45l-7.72 7.72c-.78.78-.78 2.05 0 2.83L4 21.41c.39.39.9.59 1.41.59.51 0 1.02-.2 1.41-.59l7.78-7.78 2.81-2.81c.8-.78.8-2.07 0-2.86zM5.41 20L4 18.59l7.72-7.72 1.47 1.35L5.41 20z\"/>\n",
              "  </svg>\n",
              "      </button>\n",
              "      \n",
              "  <style>\n",
              "    .colab-df-container {\n",
              "      display:flex;\n",
              "      flex-wrap:wrap;\n",
              "      gap: 12px;\n",
              "    }\n",
              "\n",
              "    .colab-df-convert {\n",
              "      background-color: #E8F0FE;\n",
              "      border: none;\n",
              "      border-radius: 50%;\n",
              "      cursor: pointer;\n",
              "      display: none;\n",
              "      fill: #1967D2;\n",
              "      height: 32px;\n",
              "      padding: 0 0 0 0;\n",
              "      width: 32px;\n",
              "    }\n",
              "\n",
              "    .colab-df-convert:hover {\n",
              "      background-color: #E2EBFA;\n",
              "      box-shadow: 0px 1px 2px rgba(60, 64, 67, 0.3), 0px 1px 3px 1px rgba(60, 64, 67, 0.15);\n",
              "      fill: #174EA6;\n",
              "    }\n",
              "\n",
              "    [theme=dark] .colab-df-convert {\n",
              "      background-color: #3B4455;\n",
              "      fill: #D2E3FC;\n",
              "    }\n",
              "\n",
              "    [theme=dark] .colab-df-convert:hover {\n",
              "      background-color: #434B5C;\n",
              "      box-shadow: 0px 1px 3px 1px rgba(0, 0, 0, 0.15);\n",
              "      filter: drop-shadow(0px 1px 2px rgba(0, 0, 0, 0.3));\n",
              "      fill: #FFFFFF;\n",
              "    }\n",
              "  </style>\n",
              "\n",
              "      <script>\n",
              "        const buttonEl =\n",
              "          document.querySelector('#df-3c3d209d-416b-42de-bb08-9651534280bf button.colab-df-convert');\n",
              "        buttonEl.style.display =\n",
              "          google.colab.kernel.accessAllowed ? 'block' : 'none';\n",
              "\n",
              "        async function convertToInteractive(key) {\n",
              "          const element = document.querySelector('#df-3c3d209d-416b-42de-bb08-9651534280bf');\n",
              "          const dataTable =\n",
              "            await google.colab.kernel.invokeFunction('convertToInteractive',\n",
              "                                                     [key], {});\n",
              "          if (!dataTable) return;\n",
              "\n",
              "          const docLinkHtml = 'Like what you see? Visit the ' +\n",
              "            '<a target=\"_blank\" href=https://colab.research.google.com/notebooks/data_table.ipynb>data table notebook</a>'\n",
              "            + ' to learn more about interactive tables.';\n",
              "          element.innerHTML = '';\n",
              "          dataTable['output_type'] = 'display_data';\n",
              "          await google.colab.output.renderOutput(dataTable, element);\n",
              "          const docLink = document.createElement('div');\n",
              "          docLink.innerHTML = docLinkHtml;\n",
              "          element.appendChild(docLink);\n",
              "        }\n",
              "      </script>\n",
              "    </div>\n",
              "  </div>\n",
              "  "
            ]
          },
          "metadata": {},
          "execution_count": 88
        }
      ]
    },
    {
      "cell_type": "markdown",
      "source": [
        "Converting to numeric arrays"
      ],
      "metadata": {
        "id": "KXuktxyKjZY2"
      }
    },
    {
      "cell_type": "code",
      "source": [
        "target_encoding = preprocessing.LabelBinarizer()\n",
        "\n",
        "train_targets = target_encoding.fit_transform(train)\n",
        "val_targets = target_encoding.transform(val_subjects)\n",
        "test_targets = target_encoding.transform(test)"
      ],
      "metadata": {
        "id": "3qGlJowLjXs5"
      },
      "execution_count": 89,
      "outputs": []
    },
    {
      "cell_type": "markdown",
      "source": [
        "GCN layers creation"
      ],
      "metadata": {
        "id": "9C-Gi4PKjeLE"
      }
    },
    {
      "cell_type": "code",
      "source": [
        "generator = FullBatchNodeGenerator(G, method=\"gcn\")"
      ],
      "metadata": {
        "colab": {
          "base_uri": "https://localhost:8080/"
        },
        "id": "gueexZoJjbv_",
        "outputId": "c4685ee8-5a4e-4b77-86a6-a95a51d1d089"
      },
      "execution_count": 90,
      "outputs": [
        {
          "output_type": "stream",
          "name": "stdout",
          "text": [
            "Using GCN (local pooling) filters...\n"
          ]
        }
      ]
    },
    {
      "cell_type": "code",
      "source": [
        "train_gen = generator.flow(train.index, train_targets)"
      ],
      "metadata": {
        "id": "hxe05MKKjg7s"
      },
      "execution_count": 91,
      "outputs": []
    },
    {
      "cell_type": "code",
      "source": [
        "gcn = GCN(\n",
        "    layer_sizes=[16, 16], activations=[\"relu\", \"relu\"], generator=generator, dropout=0.5\n",
        ")"
      ],
      "metadata": {
        "id": "gRqC7WNrjihZ"
      },
      "execution_count": 92,
      "outputs": []
    },
    {
      "cell_type": "code",
      "source": [
        "x_inp, x_out = gcn.in_out_tensors()\n",
        "\n",
        "x_out"
      ],
      "metadata": {
        "colab": {
          "base_uri": "https://localhost:8080/"
        },
        "id": "qSKnT63Djj3E",
        "outputId": "d672bfaf-3547-4d14-bd79-3131258415a3"
      },
      "execution_count": 93,
      "outputs": [
        {
          "output_type": "execute_result",
          "data": {
            "text/plain": [
              "<KerasTensor: shape=(1, None, 16) dtype=float32 (created by layer 'gather_indices_3')>"
            ]
          },
          "metadata": {},
          "execution_count": 93
        }
      ]
    },
    {
      "cell_type": "code",
      "source": [
        "predictions = layers.Dense(units=train_targets.shape[1], activation=\"softmax\")(x_out)"
      ],
      "metadata": {
        "id": "MliI_2JYjlvQ"
      },
      "execution_count": 94,
      "outputs": []
    },
    {
      "cell_type": "markdown",
      "source": [
        "Modelling"
      ],
      "metadata": {
        "id": "JbGNWx3rjpmF"
      }
    },
    {
      "cell_type": "code",
      "source": [
        "model = Model(inputs=x_inp, outputs=predictions)\n",
        "model.compile(\n",
        "    optimizer=optimizers.Adam(lr=0.01),\n",
        "    loss=losses.categorical_crossentropy,\n",
        "    metrics=[\"acc\"],\n",
        ")"
      ],
      "metadata": {
        "colab": {
          "base_uri": "https://localhost:8080/"
        },
        "id": "CMvpUyPpjnmx",
        "outputId": "cb3a8ee2-ef73-40b5-eddd-07e85dc5d30e"
      },
      "execution_count": 95,
      "outputs": [
        {
          "output_type": "stream",
          "name": "stderr",
          "text": [
            "/usr/local/lib/python3.7/dist-packages/keras/optimizers/optimizer_v2/adam.py:110: UserWarning: The `lr` argument is deprecated, use `learning_rate` instead.\n",
            "  super(Adam, self).__init__(name, **kwargs)\n"
          ]
        }
      ]
    },
    {
      "cell_type": "code",
      "source": [
        "val_gen = generator.flow(val_subjects.index, val_targets)"
      ],
      "metadata": {
        "id": "qqE-cdJujtI0"
      },
      "execution_count": 96,
      "outputs": []
    },
    {
      "cell_type": "code",
      "source": [
        "es_callback = EarlyStopping(monitor=\"val_acc\", patience=50, restore_best_weights=True)"
      ],
      "metadata": {
        "id": "rOXBUqzcjuzp"
      },
      "execution_count": 97,
      "outputs": []
    },
    {
      "cell_type": "code",
      "source": [
        "history = model.fit(\n",
        "    train_gen,\n",
        "    epochs=100,\n",
        "    validation_data=val_gen,\n",
        "    verbose=2,\n",
        "    shuffle=False,  # this should be False, since shuffling data means shuffling the whole graph\n",
        "    callbacks=[es_callback],\n",
        ")"
      ],
      "metadata": {
        "colab": {
          "base_uri": "https://localhost:8080/"
        },
        "id": "Fgjkw_kfjwq-",
        "outputId": "f272a481-3b19-499c-e5a2-4c9db2736c31"
      },
      "execution_count": 98,
      "outputs": [
        {
          "output_type": "stream",
          "name": "stdout",
          "text": [
            "Epoch 1/100\n",
            "1/1 - 2s - loss: 1.9443 - acc: 0.1214 - val_loss: 1.9022 - val_acc: 0.4000 - 2s/epoch - 2s/step\n",
            "Epoch 2/100\n",
            "1/1 - 0s - loss: 1.8877 - acc: 0.3857 - val_loss: 1.8477 - val_acc: 0.4020 - 164ms/epoch - 164ms/step\n",
            "Epoch 3/100\n",
            "1/1 - 0s - loss: 1.8183 - acc: 0.4357 - val_loss: 1.7768 - val_acc: 0.4120 - 148ms/epoch - 148ms/step\n",
            "Epoch 4/100\n",
            "1/1 - 0s - loss: 1.7245 - acc: 0.4714 - val_loss: 1.6997 - val_acc: 0.4420 - 300ms/epoch - 300ms/step\n",
            "Epoch 5/100\n",
            "1/1 - 0s - loss: 1.6314 - acc: 0.4929 - val_loss: 1.6239 - val_acc: 0.4600 - 166ms/epoch - 166ms/step\n",
            "Epoch 6/100\n",
            "1/1 - 0s - loss: 1.5532 - acc: 0.4714 - val_loss: 1.5517 - val_acc: 0.4640 - 157ms/epoch - 157ms/step\n",
            "Epoch 7/100\n",
            "1/1 - 0s - loss: 1.4207 - acc: 0.5429 - val_loss: 1.4800 - val_acc: 0.4880 - 157ms/epoch - 157ms/step\n",
            "Epoch 8/100\n",
            "1/1 - 0s - loss: 1.3128 - acc: 0.5571 - val_loss: 1.4070 - val_acc: 0.5120 - 176ms/epoch - 176ms/step\n",
            "Epoch 9/100\n",
            "1/1 - 0s - loss: 1.2751 - acc: 0.6000 - val_loss: 1.3301 - val_acc: 0.5540 - 154ms/epoch - 154ms/step\n",
            "Epoch 10/100\n",
            "1/1 - 0s - loss: 1.1654 - acc: 0.5857 - val_loss: 1.2574 - val_acc: 0.6260 - 149ms/epoch - 149ms/step\n",
            "Epoch 11/100\n",
            "1/1 - 0s - loss: 1.0614 - acc: 0.6571 - val_loss: 1.1901 - val_acc: 0.6660 - 225ms/epoch - 225ms/step\n",
            "Epoch 12/100\n",
            "1/1 - 0s - loss: 0.9849 - acc: 0.7214 - val_loss: 1.1312 - val_acc: 0.6900 - 276ms/epoch - 276ms/step\n",
            "Epoch 13/100\n",
            "1/1 - 0s - loss: 0.9109 - acc: 0.7357 - val_loss: 1.0792 - val_acc: 0.6960 - 267ms/epoch - 267ms/step\n",
            "Epoch 14/100\n",
            "1/1 - 0s - loss: 0.8807 - acc: 0.7000 - val_loss: 1.0299 - val_acc: 0.7060 - 246ms/epoch - 246ms/step\n",
            "Epoch 15/100\n",
            "1/1 - 0s - loss: 0.8352 - acc: 0.7214 - val_loss: 0.9868 - val_acc: 0.7100 - 260ms/epoch - 260ms/step\n",
            "Epoch 16/100\n",
            "1/1 - 0s - loss: 0.7011 - acc: 0.7786 - val_loss: 0.9469 - val_acc: 0.7160 - 211ms/epoch - 211ms/step\n",
            "Epoch 17/100\n",
            "1/1 - 0s - loss: 0.6330 - acc: 0.7929 - val_loss: 0.9096 - val_acc: 0.7280 - 227ms/epoch - 227ms/step\n",
            "Epoch 18/100\n",
            "1/1 - 0s - loss: 0.6084 - acc: 0.8214 - val_loss: 0.8765 - val_acc: 0.7320 - 341ms/epoch - 341ms/step\n",
            "Epoch 19/100\n",
            "1/1 - 0s - loss: 0.5388 - acc: 0.8143 - val_loss: 0.8523 - val_acc: 0.7340 - 293ms/epoch - 293ms/step\n",
            "Epoch 20/100\n",
            "1/1 - 0s - loss: 0.5113 - acc: 0.8286 - val_loss: 0.8331 - val_acc: 0.7380 - 199ms/epoch - 199ms/step\n",
            "Epoch 21/100\n",
            "1/1 - 0s - loss: 0.4216 - acc: 0.8571 - val_loss: 0.8178 - val_acc: 0.7400 - 278ms/epoch - 278ms/step\n",
            "Epoch 22/100\n",
            "1/1 - 0s - loss: 0.4088 - acc: 0.8714 - val_loss: 0.8085 - val_acc: 0.7460 - 261ms/epoch - 261ms/step\n",
            "Epoch 23/100\n",
            "1/1 - 0s - loss: 0.3788 - acc: 0.8714 - val_loss: 0.8098 - val_acc: 0.7440 - 261ms/epoch - 261ms/step\n",
            "Epoch 24/100\n",
            "1/1 - 0s - loss: 0.3636 - acc: 0.8571 - val_loss: 0.8200 - val_acc: 0.7400 - 242ms/epoch - 242ms/step\n",
            "Epoch 25/100\n",
            "1/1 - 0s - loss: 0.3021 - acc: 0.8857 - val_loss: 0.8292 - val_acc: 0.7440 - 228ms/epoch - 228ms/step\n",
            "Epoch 26/100\n",
            "1/1 - 0s - loss: 0.2549 - acc: 0.9286 - val_loss: 0.8411 - val_acc: 0.7700 - 208ms/epoch - 208ms/step\n",
            "Epoch 27/100\n",
            "1/1 - 0s - loss: 0.2666 - acc: 0.9429 - val_loss: 0.8384 - val_acc: 0.7760 - 251ms/epoch - 251ms/step\n",
            "Epoch 28/100\n",
            "1/1 - 0s - loss: 0.2142 - acc: 0.9786 - val_loss: 0.8257 - val_acc: 0.7720 - 219ms/epoch - 219ms/step\n",
            "Epoch 29/100\n",
            "1/1 - 0s - loss: 0.1963 - acc: 0.9857 - val_loss: 0.8133 - val_acc: 0.7880 - 285ms/epoch - 285ms/step\n",
            "Epoch 30/100\n",
            "1/1 - 0s - loss: 0.1979 - acc: 0.9500 - val_loss: 0.8047 - val_acc: 0.7900 - 350ms/epoch - 350ms/step\n",
            "Epoch 31/100\n",
            "1/1 - 0s - loss: 0.2011 - acc: 0.9714 - val_loss: 0.7990 - val_acc: 0.7900 - 315ms/epoch - 315ms/step\n",
            "Epoch 32/100\n",
            "1/1 - 0s - loss: 0.1958 - acc: 0.9500 - val_loss: 0.7956 - val_acc: 0.7940 - 196ms/epoch - 196ms/step\n",
            "Epoch 33/100\n",
            "1/1 - 0s - loss: 0.1350 - acc: 0.9857 - val_loss: 0.7995 - val_acc: 0.7960 - 229ms/epoch - 229ms/step\n",
            "Epoch 34/100\n",
            "1/1 - 0s - loss: 0.1284 - acc: 0.9929 - val_loss: 0.8103 - val_acc: 0.7980 - 336ms/epoch - 336ms/step\n",
            "Epoch 35/100\n",
            "1/1 - 0s - loss: 0.1563 - acc: 0.9786 - val_loss: 0.8202 - val_acc: 0.7940 - 302ms/epoch - 302ms/step\n",
            "Epoch 36/100\n",
            "1/1 - 0s - loss: 0.1272 - acc: 0.9857 - val_loss: 0.8359 - val_acc: 0.7940 - 366ms/epoch - 366ms/step\n",
            "Epoch 37/100\n",
            "1/1 - 0s - loss: 0.1240 - acc: 0.9714 - val_loss: 0.8541 - val_acc: 0.8000 - 273ms/epoch - 273ms/step\n",
            "Epoch 38/100\n",
            "1/1 - 0s - loss: 0.0760 - acc: 0.9929 - val_loss: 0.8660 - val_acc: 0.8020 - 278ms/epoch - 278ms/step\n",
            "Epoch 39/100\n",
            "1/1 - 0s - loss: 0.0685 - acc: 0.9857 - val_loss: 0.8757 - val_acc: 0.8000 - 264ms/epoch - 264ms/step\n",
            "Epoch 40/100\n",
            "1/1 - 0s - loss: 0.0670 - acc: 1.0000 - val_loss: 0.8872 - val_acc: 0.8020 - 284ms/epoch - 284ms/step\n",
            "Epoch 41/100\n",
            "1/1 - 0s - loss: 0.0903 - acc: 0.9786 - val_loss: 0.9049 - val_acc: 0.8020 - 239ms/epoch - 239ms/step\n",
            "Epoch 42/100\n",
            "1/1 - 0s - loss: 0.0817 - acc: 0.9786 - val_loss: 0.9313 - val_acc: 0.7920 - 315ms/epoch - 315ms/step\n",
            "Epoch 43/100\n",
            "1/1 - 0s - loss: 0.0750 - acc: 0.9786 - val_loss: 0.9532 - val_acc: 0.7920 - 219ms/epoch - 219ms/step\n",
            "Epoch 44/100\n",
            "1/1 - 0s - loss: 0.0940 - acc: 0.9571 - val_loss: 0.9511 - val_acc: 0.7920 - 201ms/epoch - 201ms/step\n",
            "Epoch 45/100\n",
            "1/1 - 0s - loss: 0.0433 - acc: 1.0000 - val_loss: 0.9440 - val_acc: 0.7920 - 239ms/epoch - 239ms/step\n",
            "Epoch 46/100\n",
            "1/1 - 0s - loss: 0.1058 - acc: 0.9643 - val_loss: 0.9317 - val_acc: 0.7980 - 261ms/epoch - 261ms/step\n",
            "Epoch 47/100\n",
            "1/1 - 0s - loss: 0.0587 - acc: 0.9929 - val_loss: 0.9242 - val_acc: 0.8000 - 256ms/epoch - 256ms/step\n",
            "Epoch 48/100\n",
            "1/1 - 0s - loss: 0.0492 - acc: 0.9929 - val_loss: 0.9166 - val_acc: 0.8020 - 217ms/epoch - 217ms/step\n",
            "Epoch 49/100\n",
            "1/1 - 0s - loss: 0.0666 - acc: 0.9786 - val_loss: 0.9108 - val_acc: 0.7920 - 181ms/epoch - 181ms/step\n",
            "Epoch 50/100\n",
            "1/1 - 0s - loss: 0.0424 - acc: 0.9857 - val_loss: 0.9126 - val_acc: 0.7920 - 216ms/epoch - 216ms/step\n",
            "Epoch 51/100\n",
            "1/1 - 0s - loss: 0.0458 - acc: 0.9929 - val_loss: 0.9203 - val_acc: 0.7920 - 224ms/epoch - 224ms/step\n",
            "Epoch 52/100\n",
            "1/1 - 0s - loss: 0.0811 - acc: 0.9786 - val_loss: 0.9377 - val_acc: 0.7860 - 241ms/epoch - 241ms/step\n",
            "Epoch 53/100\n",
            "1/1 - 0s - loss: 0.0504 - acc: 1.0000 - val_loss: 0.9576 - val_acc: 0.7780 - 215ms/epoch - 215ms/step\n",
            "Epoch 54/100\n",
            "1/1 - 0s - loss: 0.0657 - acc: 0.9786 - val_loss: 0.9802 - val_acc: 0.7780 - 208ms/epoch - 208ms/step\n",
            "Epoch 55/100\n",
            "1/1 - 0s - loss: 0.0647 - acc: 0.9714 - val_loss: 0.9946 - val_acc: 0.7740 - 316ms/epoch - 316ms/step\n",
            "Epoch 56/100\n",
            "1/1 - 0s - loss: 0.0782 - acc: 0.9714 - val_loss: 0.9898 - val_acc: 0.7860 - 352ms/epoch - 352ms/step\n",
            "Epoch 57/100\n",
            "1/1 - 0s - loss: 0.0539 - acc: 0.9929 - val_loss: 0.9789 - val_acc: 0.7840 - 471ms/epoch - 471ms/step\n",
            "Epoch 58/100\n",
            "1/1 - 0s - loss: 0.0777 - acc: 0.9857 - val_loss: 0.9847 - val_acc: 0.7780 - 234ms/epoch - 234ms/step\n",
            "Epoch 59/100\n",
            "1/1 - 0s - loss: 0.0290 - acc: 0.9929 - val_loss: 1.0069 - val_acc: 0.7700 - 267ms/epoch - 267ms/step\n",
            "Epoch 60/100\n",
            "1/1 - 0s - loss: 0.0815 - acc: 0.9714 - val_loss: 1.0346 - val_acc: 0.7640 - 263ms/epoch - 263ms/step\n",
            "Epoch 61/100\n",
            "1/1 - 0s - loss: 0.0464 - acc: 0.9857 - val_loss: 1.0453 - val_acc: 0.7660 - 278ms/epoch - 278ms/step\n",
            "Epoch 62/100\n",
            "1/1 - 0s - loss: 0.0532 - acc: 0.9857 - val_loss: 1.0376 - val_acc: 0.7720 - 304ms/epoch - 304ms/step\n",
            "Epoch 63/100\n",
            "1/1 - 0s - loss: 0.0276 - acc: 1.0000 - val_loss: 1.0293 - val_acc: 0.7820 - 241ms/epoch - 241ms/step\n",
            "Epoch 64/100\n",
            "1/1 - 0s - loss: 0.0260 - acc: 0.9929 - val_loss: 1.0254 - val_acc: 0.7880 - 212ms/epoch - 212ms/step\n",
            "Epoch 65/100\n",
            "1/1 - 0s - loss: 0.0513 - acc: 0.9786 - val_loss: 1.0231 - val_acc: 0.7860 - 331ms/epoch - 331ms/step\n",
            "Epoch 66/100\n",
            "1/1 - 0s - loss: 0.0452 - acc: 0.9857 - val_loss: 1.0206 - val_acc: 0.8000 - 249ms/epoch - 249ms/step\n",
            "Epoch 67/100\n",
            "1/1 - 0s - loss: 0.0233 - acc: 1.0000 - val_loss: 1.0199 - val_acc: 0.8000 - 230ms/epoch - 230ms/step\n",
            "Epoch 68/100\n",
            "1/1 - 0s - loss: 0.0492 - acc: 0.9857 - val_loss: 1.0199 - val_acc: 0.8020 - 329ms/epoch - 329ms/step\n",
            "Epoch 69/100\n",
            "1/1 - 0s - loss: 0.0803 - acc: 0.9857 - val_loss: 1.0211 - val_acc: 0.8020 - 369ms/epoch - 369ms/step\n",
            "Epoch 70/100\n",
            "1/1 - 0s - loss: 0.0370 - acc: 0.9929 - val_loss: 1.0218 - val_acc: 0.7980 - 127ms/epoch - 127ms/step\n",
            "Epoch 71/100\n",
            "1/1 - 0s - loss: 0.0228 - acc: 1.0000 - val_loss: 1.0214 - val_acc: 0.7960 - 131ms/epoch - 131ms/step\n",
            "Epoch 72/100\n",
            "1/1 - 0s - loss: 0.0491 - acc: 0.9929 - val_loss: 1.0213 - val_acc: 0.7980 - 167ms/epoch - 167ms/step\n",
            "Epoch 73/100\n",
            "1/1 - 0s - loss: 0.0573 - acc: 0.9786 - val_loss: 1.0241 - val_acc: 0.7920 - 141ms/epoch - 141ms/step\n",
            "Epoch 74/100\n",
            "1/1 - 0s - loss: 0.0182 - acc: 1.0000 - val_loss: 1.0311 - val_acc: 0.7880 - 172ms/epoch - 172ms/step\n",
            "Epoch 75/100\n",
            "1/1 - 0s - loss: 0.0260 - acc: 0.9929 - val_loss: 1.0379 - val_acc: 0.7860 - 150ms/epoch - 150ms/step\n",
            "Epoch 76/100\n",
            "1/1 - 0s - loss: 0.0351 - acc: 0.9929 - val_loss: 1.0420 - val_acc: 0.7860 - 144ms/epoch - 144ms/step\n",
            "Epoch 77/100\n",
            "1/1 - 0s - loss: 0.0277 - acc: 1.0000 - val_loss: 1.0416 - val_acc: 0.7880 - 145ms/epoch - 145ms/step\n",
            "Epoch 78/100\n",
            "1/1 - 0s - loss: 0.0389 - acc: 0.9857 - val_loss: 1.0450 - val_acc: 0.7860 - 158ms/epoch - 158ms/step\n",
            "Epoch 79/100\n",
            "1/1 - 0s - loss: 0.0381 - acc: 0.9857 - val_loss: 1.0379 - val_acc: 0.7880 - 153ms/epoch - 153ms/step\n",
            "Epoch 80/100\n",
            "1/1 - 0s - loss: 0.0357 - acc: 0.9857 - val_loss: 1.0341 - val_acc: 0.7820 - 159ms/epoch - 159ms/step\n",
            "Epoch 81/100\n",
            "1/1 - 0s - loss: 0.0245 - acc: 0.9929 - val_loss: 1.0298 - val_acc: 0.7860 - 167ms/epoch - 167ms/step\n",
            "Epoch 82/100\n",
            "1/1 - 0s - loss: 0.0228 - acc: 0.9929 - val_loss: 1.0289 - val_acc: 0.7880 - 237ms/epoch - 237ms/step\n",
            "Epoch 83/100\n",
            "1/1 - 0s - loss: 0.0395 - acc: 0.9786 - val_loss: 1.0300 - val_acc: 0.7900 - 234ms/epoch - 234ms/step\n",
            "Epoch 84/100\n",
            "1/1 - 0s - loss: 0.0197 - acc: 1.0000 - val_loss: 1.0341 - val_acc: 0.7900 - 223ms/epoch - 223ms/step\n",
            "Epoch 85/100\n",
            "1/1 - 0s - loss: 0.0188 - acc: 1.0000 - val_loss: 1.0393 - val_acc: 0.7880 - 224ms/epoch - 224ms/step\n",
            "Epoch 86/100\n",
            "1/1 - 0s - loss: 0.0338 - acc: 0.9857 - val_loss: 1.0485 - val_acc: 0.7840 - 238ms/epoch - 238ms/step\n",
            "Epoch 87/100\n",
            "1/1 - 0s - loss: 0.0350 - acc: 0.9857 - val_loss: 1.0540 - val_acc: 0.7860 - 150ms/epoch - 150ms/step\n",
            "Epoch 88/100\n",
            "1/1 - 0s - loss: 0.0248 - acc: 0.9929 - val_loss: 1.0561 - val_acc: 0.7860 - 142ms/epoch - 142ms/step\n"
          ]
        }
      ]
    },
    {
      "cell_type": "code",
      "source": [
        "sg.utils.plot_history(history)"
      ],
      "metadata": {
        "colab": {
          "base_uri": "https://localhost:8080/",
          "height": 585
        },
        "id": "SwobOVhFjyTR",
        "outputId": "c5cd447d-71fb-4e83-8ded-ccbdeb2580f1"
      },
      "execution_count": 99,
      "outputs": [
        {
          "output_type": "display_data",
          "data": {
            "text/plain": [
              "<Figure size 504x576 with 2 Axes>"
            ],
            "image/png": "[encoded data removed]"
          },
          "metadata": {
            "needs_background": "light"
          }
        }
      ]
    },
    {
      "cell_type": "markdown",
      "source": [
        "Calculting Test Metrics"
      ],
      "metadata": {
        "id": "g-oOabpslVd4"
      }
    },
    {
      "cell_type": "code",
      "source": [
        "test_gen = generator.flow(test.index, test_targets)"
      ],
      "metadata": {
        "id": "avzwxMvJj01J"
      },
      "execution_count": 100,
      "outputs": []
    },
    {
      "cell_type": "code",
      "source": [
        "test_metrics = model.evaluate(test_gen)\n",
        "print(\"\\nTest Set Metrics:\")\n",
        "for name, val in zip(model.metrics_names, test_metrics):\n",
        "    print(\"\\t{}: {:0.4f}\".format(name, val))"
      ],
      "metadata": {
        "colab": {
          "base_uri": "https://localhost:8080/"
        },
        "id": "mAnNooALj202",
        "outputId": "5b0ed53a-491c-4027-81ad-7b02b54d4ae8"
      },
      "execution_count": 101,
      "outputs": [
        {
          "output_type": "stream",
          "name": "stdout",
          "text": [
            "1/1 [==============================] - 0s 61ms/step - loss: 0.9567 - acc: 0.7780\n",
            "\n",
            "Test Set Metrics:\n",
            "\tloss: 0.9567\n",
            "\tacc: 0.7780\n"
          ]
        }
      ]
    },
    {
      "cell_type": "markdown",
      "source": [
        "Predictions"
      ],
      "metadata": {
        "id": "Y-Yml585j6xh"
      }
    },
    {
      "cell_type": "code",
      "source": [
        "all_nodes = node_subjects.index\n",
        "all_gen = generator.flow(all_nodes)\n",
        "all_predictions = model.predict(all_gen)"
      ],
      "metadata": {
        "colab": {
          "base_uri": "https://localhost:8080/"
        },
        "id": "hf1Qd0_Nj4wE",
        "outputId": "9c010bd0-985e-41c1-df17-d8e602dbb393"
      },
      "execution_count": 102,
      "outputs": [
        {
          "output_type": "stream",
          "name": "stderr",
          "text": [
            "WARNING:tensorflow:6 out of the last 6 calls to <function Model.make_predict_function.<locals>.predict_function at 0x7f1166698b00> triggered tf.function retracing. Tracing is expensive and the excessive number of tracings could be due to (1) creating @tf.function repeatedly in a loop, (2) passing tensors with different shapes, (3) passing Python objects instead of tensors. For (1), please define your @tf.function outside of the loop. For (2), @tf.function has reduce_retracing=True option that can avoid unnecessary retracing. For (3), please refer to https://www.tensorflow.org/guide/function#controlling_retracing and https://www.tensorflow.org/api_docs/python/tf/function for  more details.\n"
          ]
        },
        {
          "output_type": "stream",
          "name": "stdout",
          "text": [
            "1/1 [==============================] - 0s 162ms/step\n"
          ]
        }
      ]
    },
    {
      "cell_type": "code",
      "source": [
        "node_predictions = target_encoding.inverse_transform(all_predictions.squeeze())"
      ],
      "metadata": {
        "id": "uuu3DK3tj-O8"
      },
      "execution_count": 103,
      "outputs": []
    },
    {
      "cell_type": "code",
      "source": [
        "df = pd.DataFrame({\"Predicted\": node_predictions, \"True\": node_subjects})\n",
        "df.head(20)"
      ],
      "metadata": {
        "colab": {
          "base_uri": "https://localhost:8080/",
          "height": 676
        },
        "id": "-5PXPFVzj_dP",
        "outputId": "359621b5-c796-41ee-843c-8a40762fabce"
      },
      "execution_count": 104,
      "outputs": [
        {
          "output_type": "execute_result",
          "data": {
            "text/plain": [
              "                      Predicted                    True\n",
              "31336           Neural_Networks         Neural_Networks\n",
              "1061127           Rule_Learning           Rule_Learning\n",
              "1106406  Reinforcement_Learning  Reinforcement_Learning\n",
              "13195    Reinforcement_Learning  Reinforcement_Learning\n",
              "37879     Probabilistic_Methods   Probabilistic_Methods\n",
              "1126012   Probabilistic_Methods   Probabilistic_Methods\n",
              "1107140   Probabilistic_Methods                  Theory\n",
              "1102850         Neural_Networks         Neural_Networks\n",
              "31349           Neural_Networks         Neural_Networks\n",
              "1106418                  Theory                  Theory\n",
              "1123188         Neural_Networks         Neural_Networks\n",
              "1128990         Neural_Networks      Genetic_Algorithms\n",
              "109323    Probabilistic_Methods   Probabilistic_Methods\n",
              "217139               Case_Based              Case_Based\n",
              "31353           Neural_Networks         Neural_Networks\n",
              "32083           Neural_Networks         Neural_Networks\n",
              "1126029  Reinforcement_Learning  Reinforcement_Learning\n",
              "1118017         Neural_Networks         Neural_Networks\n",
              "49482           Neural_Networks         Neural_Networks\n",
              "753265          Neural_Networks         Neural_Networks"
            ],
            "text/html": [
              "\n",
              "  <div id=\"df-9292efc9-c913-472d-81ff-d9e76bfd6619\">\n",
              "    <div class=\"colab-df-container\">\n",
              "      <div>\n",
              "<style scoped>\n",
              "    .dataframe tbody tr th:only-of-type {\n",
              "        vertical-align: middle;\n",
              "    }\n",
              "\n",
              "    .dataframe tbody tr th {\n",
              "        vertical-align: top;\n",
              "    }\n",
              "\n",
              "    .dataframe thead th {\n",
              "        text-align: right;\n",
              "    }\n",
              "</style>\n",
              "<table border=\"1\" class=\"dataframe\">\n",
              "  <thead>\n",
              "    <tr style=\"text-align: right;\">\n",
              "      <th></th>\n",
              "      <th>Predicted</th>\n",
              "      <th>True</th>\n",
              "    </tr>\n",
              "  </thead>\n",
              "  <tbody>\n",
              "    <tr>\n",
              "      <th>31336</th>\n",
              "      <td>Neural_Networks</td>\n",
              "      <td>Neural_Networks</td>\n",
              "    </tr>\n",
              "    <tr>\n",
              "      <th>1061127</th>\n",
              "      <td>Rule_Learning</td>\n",
              "      <td>Rule_Learning</td>\n",
              "    </tr>\n",
              "    <tr>\n",
              "      <th>1106406</th>\n",
              "      <td>Reinforcement_Learning</td>\n",
              "      <td>Reinforcement_Learning</td>\n",
              "    </tr>\n",
              "    <tr>\n",
              "      <th>13195</th>\n",
              "      <td>Reinforcement_Learning</td>\n",
              "      <td>Reinforcement_Learning</td>\n",
              "    </tr>\n",
              "    <tr>\n",
              "      <th>37879</th>\n",
              "      <td>Probabilistic_Methods</td>\n",
              "      <td>Probabilistic_Methods</td>\n",
              "    </tr>\n",
              "    <tr>\n",
              "      <th>1126012</th>\n",
              "      <td>Probabilistic_Methods</td>\n",
              "      <td>Probabilistic_Methods</td>\n",
              "    </tr>\n",
              "    <tr>\n",
              "      <th>1107140</th>\n",
              "      <td>Probabilistic_Methods</td>\n",
              "      <td>Theory</td>\n",
              "    </tr>\n",
              "    <tr>\n",
              "      <th>1102850</th>\n",
              "      <td>Neural_Networks</td>\n",
              "      <td>Neural_Networks</td>\n",
              "    </tr>\n",
              "    <tr>\n",
              "      <th>31349</th>\n",
              "      <td>Neural_Networks</td>\n",
              "      <td>Neural_Networks</td>\n",
              "    </tr>\n",
              "    <tr>\n",
              "      <th>1106418</th>\n",
              "      <td>Theory</td>\n",
              "      <td>Theory</td>\n",
              "    </tr>\n",
              "    <tr>\n",
              "      <th>1123188</th>\n",
              "      <td>Neural_Networks</td>\n",
              "      <td>Neural_Networks</td>\n",
              "    </tr>\n",
              "    <tr>\n",
              "      <th>1128990</th>\n",
              "      <td>Neural_Networks</td>\n",
              "      <td>Genetic_Algorithms</td>\n",
              "    </tr>\n",
              "    <tr>\n",
              "      <th>109323</th>\n",
              "      <td>Probabilistic_Methods</td>\n",
              "      <td>Probabilistic_Methods</td>\n",
              "    </tr>\n",
              "    <tr>\n",
              "      <th>217139</th>\n",
              "      <td>Case_Based</td>\n",
              "      <td>Case_Based</td>\n",
              "    </tr>\n",
              "    <tr>\n",
              "      <th>31353</th>\n",
              "      <td>Neural_Networks</td>\n",
              "      <td>Neural_Networks</td>\n",
              "    </tr>\n",
              "    <tr>\n",
              "      <th>32083</th>\n",
              "      <td>Neural_Networks</td>\n",
              "      <td>Neural_Networks</td>\n",
              "    </tr>\n",
              "    <tr>\n",
              "      <th>1126029</th>\n",
              "      <td>Reinforcement_Learning</td>\n",
              "      <td>Reinforcement_Learning</td>\n",
              "    </tr>\n",
              "    <tr>\n",
              "      <th>1118017</th>\n",
              "      <td>Neural_Networks</td>\n",
              "      <td>Neural_Networks</td>\n",
              "    </tr>\n",
              "    <tr>\n",
              "      <th>49482</th>\n",
              "      <td>Neural_Networks</td>\n",
              "      <td>Neural_Networks</td>\n",
              "    </tr>\n",
              "    <tr>\n",
              "      <th>753265</th>\n",
              "      <td>Neural_Networks</td>\n",
              "      <td>Neural_Networks</td>\n",
              "    </tr>\n",
              "  </tbody>\n",
              "</table>\n",
              "</div>\n",
              "      <button class=\"colab-df-convert\" onclick=\"convertToInteractive('df-9292efc9-c913-472d-81ff-d9e76bfd6619')\"\n",
              "              title=\"Convert this dataframe to an interactive table.\"\n",
              "              style=\"display:none;\">\n",
              "        \n",
              "  <svg xmlns=\"http://www.w3.org/2000/svg\" height=\"24px\"viewBox=\"0 0 24 24\"\n",
              "       width=\"24px\">\n",
              "    <path d=\"M0 0h24v24H0V0z\" fill=\"none\"/>\n",
              "    <path d=\"M18.56 5.44l.94 2.06.94-2.06 2.06-.94-2.06-.94-.94-2.06-.94 2.06-2.06.94zm-11 1L8.5 8.5l.94-2.06 2.06-.94-2.06-.94L8.5 2.5l-.94 2.06-2.06.94zm10 10l.94 2.06.94-2.06 2.06-.94-2.06-.94-.94-2.06-.94 2.06-2.06.94z\"/><path d=\"M17.41 7.96l-1.37-1.37c-.4-.4-.92-.59-1.43-.59-.52 0-1.04.2-1.43.59L10.3 9.45l-7.72 7.72c-.78.78-.78 2.05 0 2.83L4 21.41c.39.39.9.59 1.41.59.51 0 1.02-.2 1.41-.59l7.78-7.78 2.81-2.81c.8-.78.8-2.07 0-2.86zM5.41 20L4 18.59l7.72-7.72 1.47 1.35L5.41 20z\"/>\n",
              "  </svg>\n",
              "      </button>\n",
              "      \n",
              "  <style>\n",
              "    .colab-df-container {\n",
              "      display:flex;\n",
              "      flex-wrap:wrap;\n",
              "      gap: 12px;\n",
              "    }\n",
              "\n",
              "    .colab-df-convert {\n",
              "      background-color: #E8F0FE;\n",
              "      border: none;\n",
              "      border-radius: 50%;\n",
              "      cursor: pointer;\n",
              "      display: none;\n",
              "      fill: #1967D2;\n",
              "      height: 32px;\n",
              "      padding: 0 0 0 0;\n",
              "      width: 32px;\n",
              "    }\n",
              "\n",
              "    .colab-df-convert:hover {\n",
              "      background-color: #E2EBFA;\n",
              "      box-shadow: 0px 1px 2px rgba(60, 64, 67, 0.3), 0px 1px 3px 1px rgba(60, 64, 67, 0.15);\n",
              "      fill: #174EA6;\n",
              "    }\n",
              "\n",
              "    [theme=dark] .colab-df-convert {\n",
              "      background-color: #3B4455;\n",
              "      fill: #D2E3FC;\n",
              "    }\n",
              "\n",
              "    [theme=dark] .colab-df-convert:hover {\n",
              "      background-color: #434B5C;\n",
              "      box-shadow: 0px 1px 3px 1px rgba(0, 0, 0, 0.15);\n",
              "      filter: drop-shadow(0px 1px 2px rgba(0, 0, 0, 0.3));\n",
              "      fill: #FFFFFF;\n",
              "    }\n",
              "  </style>\n",
              "\n",
              "      <script>\n",
              "        const buttonEl =\n",
              "          document.querySelector('#df-9292efc9-c913-472d-81ff-d9e76bfd6619 button.colab-df-convert');\n",
              "        buttonEl.style.display =\n",
              "          google.colab.kernel.accessAllowed ? 'block' : 'none';\n",
              "\n",
              "        async function convertToInteractive(key) {\n",
              "          const element = document.querySelector('#df-9292efc9-c913-472d-81ff-d9e76bfd6619');\n",
              "          const dataTable =\n",
              "            await google.colab.kernel.invokeFunction('convertToInteractive',\n",
              "                                                     [key], {});\n",
              "          if (!dataTable) return;\n",
              "\n",
              "          const docLinkHtml = 'Like what you see? Visit the ' +\n",
              "            '<a target=\"_blank\" href=https://colab.research.google.com/notebooks/data_table.ipynb>data table notebook</a>'\n",
              "            + ' to learn more about interactive tables.';\n",
              "          element.innerHTML = '';\n",
              "          dataTable['output_type'] = 'display_data';\n",
              "          await google.colab.output.renderOutput(dataTable, element);\n",
              "          const docLink = document.createElement('div');\n",
              "          docLink.innerHTML = docLinkHtml;\n",
              "          element.appendChild(docLink);\n",
              "        }\n",
              "      </script>\n",
              "    </div>\n",
              "  </div>\n",
              "  "
            ]
          },
          "metadata": {},
          "execution_count": 104
        }
      ]
    },
    {
      "cell_type": "markdown",
      "source": [
        "Node embeddings"
      ],
      "metadata": {
        "id": "9I7t7SfBkFZu"
      }
    },
    {
      "cell_type": "code",
      "source": [
        "embedding_model = Model(inputs=x_inp, outputs=x_out)"
      ],
      "metadata": {
        "id": "mJaYFhookBIl"
      },
      "execution_count": 105,
      "outputs": []
    },
    {
      "cell_type": "code",
      "source": [
        "emb = embedding_model.predict(all_gen)\n",
        "emb.shape"
      ],
      "metadata": {
        "colab": {
          "base_uri": "https://localhost:8080/"
        },
        "id": "UmNQz31DkH7L",
        "outputId": "c5a13c60-6261-4d14-bb4b-d1ba3f8c0cb7"
      },
      "execution_count": 106,
      "outputs": [
        {
          "output_type": "stream",
          "name": "stdout",
          "text": [
            "1/1 [==============================] - 0s 144ms/step\n"
          ]
        },
        {
          "output_type": "execute_result",
          "data": {
            "text/plain": [
              "(1, 2708, 16)"
            ]
          },
          "metadata": {},
          "execution_count": 106
        }
      ]
    },
    {
      "cell_type": "markdown",
      "source": [
        "Dimensional Reduction"
      ],
      "metadata": {
        "id": "Nx_Ka3ZzkRrH"
      }
    },
    {
      "cell_type": "code",
      "source": [
        "transform = TSNE"
      ],
      "metadata": {
        "id": "BZRcMLZUkJS0"
      },
      "execution_count": 107,
      "outputs": []
    },
    {
      "cell_type": "code",
      "source": [
        "X = emb.squeeze(0)\n",
        "X.shape"
      ],
      "metadata": {
        "colab": {
          "base_uri": "https://localhost:8080/"
        },
        "id": "EwoABIwokOrm",
        "outputId": "e08abb55-f2e9-42db-9118-7968d88754f3"
      },
      "execution_count": 108,
      "outputs": [
        {
          "output_type": "execute_result",
          "data": {
            "text/plain": [
              "(2708, 16)"
            ]
          },
          "metadata": {},
          "execution_count": 108
        }
      ]
    },
    {
      "cell_type": "code",
      "source": [
        "trans = transform(n_components=2)\n",
        "X_reduced = trans.fit_transform(X)\n",
        "X_reduced.shape"
      ],
      "metadata": {
        "colab": {
          "base_uri": "https://localhost:8080/"
        },
        "id": "2Ec00o0ikaLl",
        "outputId": "f9b7667d-b40e-45ec-878a-dc411990a1b0"
      },
      "execution_count": 109,
      "outputs": [
        {
          "output_type": "stream",
          "name": "stderr",
          "text": [
            "/usr/local/lib/python3.7/dist-packages/sklearn/manifold/_t_sne.py:783: FutureWarning: The default initialization in TSNE will change from 'random' to 'pca' in 1.2.\n",
            "  FutureWarning,\n",
            "/usr/local/lib/python3.7/dist-packages/sklearn/manifold/_t_sne.py:793: FutureWarning: The default learning rate in TSNE will change from 200.0 to 'auto' in 1.2.\n",
            "  FutureWarning,\n"
          ]
        },
        {
          "output_type": "execute_result",
          "data": {
            "text/plain": [
              "(2708, 2)"
            ]
          },
          "metadata": {},
          "execution_count": 109
        }
      ]
    },
    {
      "cell_type": "code",
      "source": [
        "fig, ax = plt.subplots(figsize=(7, 7))\n",
        "ax.scatter(\n",
        "    X_reduced[:, 0],\n",
        "    X_reduced[:, 1],\n",
        "    c=node_subjects.astype(\"category\").cat.codes,\n",
        "    cmap=\"jet\",\n",
        "    alpha=0.7,\n",
        ")\n",
        "ax.set(\n",
        "    aspect=\"equal\",\n",
        "    xlabel=\"$X_1$\",\n",
        "    ylabel=\"$X_2$\",\n",
        "    title=f\"{transform.__name__} visualization of GCN embeddings for cora dataset\",\n",
        ")"
      ],
      "metadata": {
        "colab": {
          "base_uri": "https://localhost:8080/",
          "height": 531
        },
        "id": "hmtzkwmzkb8B",
        "outputId": "9583515f-8ff1-4af2-bee6-9f013a868b63"
      },
      "execution_count": 110,
      "outputs": [
        {
          "output_type": "execute_result",
          "data": {
            "text/plain": [
              "[Text(0, 0.5, '$X_2$'),\n",
              " Text(0.5, 0, '$X_1$'),\n",
              " Text(0.5, 1.0, 'TSNE visualization of GCN embeddings for cora dataset'),\n",
              " None]"
            ]
          },
          "metadata": {},
          "execution_count": 110
        },
        {
          "output_type": "display_data",
          "data": {
            "text/plain": [
              "<Figure size 504x504 with 1 Axes>"
            ],
            "image/png": "[encoded data removed]"
          },
          "metadata": {
            "needs_background": "light"
          }
        }
      ]
    },
    {
      "cell_type": "code",
      "source": [],
      "metadata": {
        "id": "OladdkOdkgNj"
      },
      "execution_count": 110,
      "outputs": []
    }
  ]
}